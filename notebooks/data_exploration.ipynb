{
 "cells": [
  {
   "cell_type": "code",
   "execution_count": 309,
   "id": "79d818dc",
   "metadata": {},
   "outputs": [],
   "source": [
    "import pandas as pd\n",
    "import numpy as np\n",
    "from pandas_profiling import ProfileReport\n",
    "import missingno as msno\n",
    "import matplotlib.pyplot as plt"
   ]
  },
  {
   "cell_type": "markdown",
   "id": "89b88485",
   "metadata": {},
   "source": [
    "## Intro to dataset \n",
    "\n",
    "What is the problem? For loan provider it is important to ensure that people who get the loan can make the payment and don't default, however it is equally important that people are not denied a loan due to a model trained on poor quality data. This is where data centric approach helps to make world a better place, as it provides a framework for data scientists and data engineers to question the quality of data. \n",
    "\n",
    "For this chapter we will use the loan default dataset from kaggle\n",
    "\n",
    "We will first dive into data consistency, checking if column names are in a standard format and column values are consistent\n",
    "\n",
    "We will read the data using pandas `read_csv` method"
   ]
  },
  {
   "cell_type": "code",
   "execution_count": 310,
   "id": "3d2ac6f3",
   "metadata": {},
   "outputs": [
    {
     "data": {
      "text/html": [
       "<div>\n",
       "<style scoped>\n",
       "    .dataframe tbody tr th:only-of-type {\n",
       "        vertical-align: middle;\n",
       "    }\n",
       "\n",
       "    .dataframe tbody tr th {\n",
       "        vertical-align: top;\n",
       "    }\n",
       "\n",
       "    .dataframe thead th {\n",
       "        text-align: right;\n",
       "    }\n",
       "</style>\n",
       "<table border=\"1\" class=\"dataframe\">\n",
       "  <thead>\n",
       "    <tr style=\"text-align: right;\">\n",
       "      <th></th>\n",
       "      <th>0</th>\n",
       "      <th>1</th>\n",
       "      <th>2</th>\n",
       "      <th>3</th>\n",
       "      <th>4</th>\n",
       "    </tr>\n",
       "  </thead>\n",
       "  <tbody>\n",
       "    <tr>\n",
       "      <th>Loan_ID</th>\n",
       "      <td>LP001002</td>\n",
       "      <td>LP001003</td>\n",
       "      <td>LP001005</td>\n",
       "      <td>LP001006</td>\n",
       "      <td>LP001008</td>\n",
       "    </tr>\n",
       "    <tr>\n",
       "      <th>Gender</th>\n",
       "      <td>Male</td>\n",
       "      <td>Male</td>\n",
       "      <td>Male</td>\n",
       "      <td>Male</td>\n",
       "      <td>Male</td>\n",
       "    </tr>\n",
       "    <tr>\n",
       "      <th>Married</th>\n",
       "      <td>No</td>\n",
       "      <td>Yes</td>\n",
       "      <td>Yes</td>\n",
       "      <td>Yes</td>\n",
       "      <td>No</td>\n",
       "    </tr>\n",
       "    <tr>\n",
       "      <th>Dependents</th>\n",
       "      <td>0</td>\n",
       "      <td>1</td>\n",
       "      <td>0</td>\n",
       "      <td>0</td>\n",
       "      <td>0</td>\n",
       "    </tr>\n",
       "    <tr>\n",
       "      <th>Education</th>\n",
       "      <td>Graduate</td>\n",
       "      <td>Graduate</td>\n",
       "      <td>Graduate</td>\n",
       "      <td>Not Graduate</td>\n",
       "      <td>Graduate</td>\n",
       "    </tr>\n",
       "    <tr>\n",
       "      <th>Self_Employed</th>\n",
       "      <td>No</td>\n",
       "      <td>No</td>\n",
       "      <td>Yes</td>\n",
       "      <td>No</td>\n",
       "      <td>No</td>\n",
       "    </tr>\n",
       "    <tr>\n",
       "      <th>ApplicantIncome</th>\n",
       "      <td>5849</td>\n",
       "      <td>4583</td>\n",
       "      <td>3000</td>\n",
       "      <td>2583</td>\n",
       "      <td>6000</td>\n",
       "    </tr>\n",
       "    <tr>\n",
       "      <th>CoapplicantIncome</th>\n",
       "      <td>0.0</td>\n",
       "      <td>1508.0</td>\n",
       "      <td>0.0</td>\n",
       "      <td>2358.0</td>\n",
       "      <td>0.0</td>\n",
       "    </tr>\n",
       "    <tr>\n",
       "      <th>LoanAmount</th>\n",
       "      <td>NaN</td>\n",
       "      <td>128.0</td>\n",
       "      <td>66.0</td>\n",
       "      <td>120.0</td>\n",
       "      <td>141.0</td>\n",
       "    </tr>\n",
       "    <tr>\n",
       "      <th>Loan_Amount_Term</th>\n",
       "      <td>360.0</td>\n",
       "      <td>360.0</td>\n",
       "      <td>360.0</td>\n",
       "      <td>360.0</td>\n",
       "      <td>360.0</td>\n",
       "    </tr>\n",
       "    <tr>\n",
       "      <th>Credit_History</th>\n",
       "      <td>1.0</td>\n",
       "      <td>1.0</td>\n",
       "      <td>1.0</td>\n",
       "      <td>1.0</td>\n",
       "      <td>1.0</td>\n",
       "    </tr>\n",
       "    <tr>\n",
       "      <th>Property_Area</th>\n",
       "      <td>Urban</td>\n",
       "      <td>Rural</td>\n",
       "      <td>Urban</td>\n",
       "      <td>Urban</td>\n",
       "      <td>Urban</td>\n",
       "    </tr>\n",
       "    <tr>\n",
       "      <th>Loan_Status</th>\n",
       "      <td>Y</td>\n",
       "      <td>N</td>\n",
       "      <td>Y</td>\n",
       "      <td>Y</td>\n",
       "      <td>Y</td>\n",
       "    </tr>\n",
       "  </tbody>\n",
       "</table>\n",
       "</div>"
      ],
      "text/plain": [
       "                          0         1         2             3         4\n",
       "Loan_ID            LP001002  LP001003  LP001005      LP001006  LP001008\n",
       "Gender                 Male      Male      Male          Male      Male\n",
       "Married                  No       Yes       Yes           Yes        No\n",
       "Dependents                0         1         0             0         0\n",
       "Education          Graduate  Graduate  Graduate  Not Graduate  Graduate\n",
       "Self_Employed            No        No       Yes            No        No\n",
       "ApplicantIncome        5849      4583      3000          2583      6000\n",
       "CoapplicantIncome       0.0    1508.0       0.0        2358.0       0.0\n",
       "LoanAmount              NaN     128.0      66.0         120.0     141.0\n",
       "Loan_Amount_Term      360.0     360.0     360.0         360.0     360.0\n",
       "Credit_History          1.0       1.0       1.0           1.0       1.0\n",
       "Property_Area         Urban     Rural     Urban         Urban     Urban\n",
       "Loan_Status               Y         N         Y             Y         Y"
      ]
     },
     "execution_count": 310,
     "metadata": {},
     "output_type": "execute_result"
    }
   ],
   "source": [
    "# Reading the data\n",
    "df = pd.read_csv('train_loan_prediction.csv')\n",
    "\n",
    "\"\"\"Lets check the first 5 rows of the dataset. By adding the T at the end the column names will be represented as rows \n",
    "and the first 5 rows will be represented as columns\"\"\"\n",
    "df.head().T"
   ]
  },
  {
   "cell_type": "markdown",
   "id": "928d66e8",
   "metadata": {},
   "source": [
    "We can see some inconsistencies across column names `approv_in_adv` is all lower case `Credit_Worthiness` is upper case. `co-applicant_credit_type` column is using combination of `-` and `_`. This indicates column names have inconsistent naming conventions. Within the data we can also see some categorical columns have data in upper case, some have in camel case and some in lower case. For example `Gender` column has data in camel case, where the first letter is Upper and remaining characters are lower, where as in column `credit_type` all values are upper case. Sometimes we can have inconsistencies within the same column. What happens if gender column has two distinct values for male customers, `Male` and `male`. If we don't treat this, then our machine learning model will consider `male` data points separate to `Male`, and the model will not get an accurate signal.\n",
    "\n",
    "In the next steps we will extract the list of column names of the data and make them all lower case, and ensure words will be separated by a unique character `_`. We shall also go through the data values of categorical columns and make them all lower case, and replace all the special characters with `_` and make our data consistent.\n"
   ]
  },
  {
   "cell_type": "code",
   "execution_count": 311,
   "id": "668ea9d8",
   "metadata": {},
   "outputs": [
    {
     "name": "stdout",
     "output_type": "stream",
     "text": [
      "['Loan_ID', 'Gender', 'Married', 'Dependents', 'Education', 'Self_Employed', 'ApplicantIncome', 'CoapplicantIncome', 'LoanAmount', 'Loan_Amount_Term', 'Credit_History', 'Property_Area', 'Loan_Status']\n"
     ]
    }
   ],
   "source": [
    "#Getting the column names\n",
    "column_names = [cols for cols in df]\n",
    "print(column_names)"
   ]
  },
  {
   "cell_type": "code",
   "execution_count": 312,
   "id": "020dec12",
   "metadata": {},
   "outputs": [],
   "source": [
    "# We will now update the column names by adding underscore in long column names\n",
    "df = df.rename(columns={'ApplicantIncome':'Applicant_Income', \n",
    "                        \"CoapplicantIncome\":\"Co_Application_Income\", \n",
    "                        \"LoanAmount\":\"Loan_Amount\"}\n",
    "              )"
   ]
  },
  {
   "cell_type": "code",
   "execution_count": 313,
   "id": "6f0ddbe5",
   "metadata": {},
   "outputs": [
    {
     "name": "stdout",
     "output_type": "stream",
     "text": [
      "['loan_id', 'gender', 'married', 'dependents', 'education', 'self_employed', 'applicant_income', 'co_application_income', 'loan_amount', 'loan_amount_term', 'credit_history', 'property_area', 'loan_status']\n"
     ]
    }
   ],
   "source": [
    "# We will now make all columns lower case and in the next step update the columns\n",
    "print([cols.lower() for cols in df])"
   ]
  },
  {
   "cell_type": "code",
   "execution_count": 314,
   "id": "8769ce5a",
   "metadata": {},
   "outputs": [
    {
     "name": "stdout",
     "output_type": "stream",
     "text": [
      "Index(['loan_id', 'gender', 'married', 'dependents', 'education',\n",
      "       'self_employed', 'applicant_income', 'co_application_income',\n",
      "       'loan_amount', 'loan_amount_term', 'credit_history', 'property_area',\n",
      "       'loan_status'],\n",
      "      dtype='object')\n"
     ]
    }
   ],
   "source": [
    "# Putting it together and updating the column names\n",
    "df.columns = [cols.lower() for cols in df]\n",
    "print(df.columns)"
   ]
  },
  {
   "cell_type": "markdown",
   "id": "a9be16f3",
   "metadata": {},
   "source": [
    "Within the data we can also see some categorical columns have data in in camel case and some data is separated by spaces and other times is separated by underscores. For instance `Gender` column has data in camel case, where the first letter is Upper and remaining characters are lower. Sometimes we can have inconsistencies within the same column. What happens if gender column has two distinct values for male customers, `Male` and `male`. If we don't treat this, then our machine learning model will consider `male` data points separate to `Male`, and the model will not get an accurate signal. We also have a education column, where data value of `Not Graduate` is separated by space. To ensure data consitency we must convert all data to lower case and replace spaces with underscores"
   ]
  },
  {
   "cell_type": "code",
   "execution_count": 315,
   "id": "5b4d0c77",
   "metadata": {},
   "outputs": [],
   "source": [
    "# We will first extract the id column and the target column\n",
    "id_col = 'loan_id'\n",
    "target = 'loan_status'"
   ]
  },
  {
   "cell_type": "markdown",
   "id": "21acd004",
   "metadata": {},
   "source": [
    "We can see that `credit_history` column is encoded as numerical but has only two values where 1.0 means credit history meets guidelines and 0.0 means credit history doesnt meet guidelines. We should map these values to categorical column and change 1.0 to `yes` and 0.0 to `no`.\n",
    "\n",
    "We can also see that `loan_amount_term` has discrete values, rather than continuous values. We can convert this data to string"
   ]
  },
  {
   "cell_type": "code",
   "execution_count": 316,
   "id": "d1a1d983",
   "metadata": {},
   "outputs": [],
   "source": [
    "df.credit_history = df.credit_history.map({\n",
    "    1.0: 'yes',\n",
    "    0.0: 'no'\n",
    "})"
   ]
  },
  {
   "cell_type": "code",
   "execution_count": 317,
   "id": "054bd0ab",
   "metadata": {},
   "outputs": [],
   "source": [
    "# Since NaNs cannot be converted to integers, hence we will leave missing value as is\n",
    "df.loan_amount_term = df.loan_amount_term.apply(lambda val: f'Month_{str(int(val/12))}' if str(val) != 'nan'  else val)"
   ]
  },
  {
   "cell_type": "code",
   "execution_count": 318,
   "id": "1607aa95",
   "metadata": {},
   "outputs": [
    {
     "name": "stdout",
     "output_type": "stream",
     "text": [
      "['gender', 'married', 'dependents', 'education', 'self_employed', 'loan_amount_term', 'credit_history', 'property_area']\n"
     ]
    }
   ],
   "source": [
    "# We will next be extracting the categorical columns\n",
    "cat_columns = [cols for cols in df if df[cols].dtype == 'object' and cols not in [id_col, target]]\n",
    "num_columns = [cols for cols in df if cols not in cat_columns + [id_col, target]]\n",
    "feature_columns = [cols for cols in cat_columns + num_columns]\n",
    "print(cat_columns)"
   ]
  },
  {
   "cell_type": "code",
   "execution_count": 319,
   "id": "778aba2b",
   "metadata": {},
   "outputs": [
    {
     "name": "stdout",
     "output_type": "stream",
     "text": [
      "Unique values for gender column are: \n",
      " ['Male' 'Female' nan] \n",
      "\n",
      "\n",
      "Unique values for married column are: \n",
      " ['No' 'Yes' nan] \n",
      "\n",
      "\n",
      "Unique values for dependents column are: \n",
      " ['0' '1' '2' '3+' nan] \n",
      "\n",
      "\n",
      "Unique values for education column are: \n",
      " ['Graduate' 'Not Graduate'] \n",
      "\n",
      "\n",
      "Unique values for self_employed column are: \n",
      " ['No' 'Yes' nan] \n",
      "\n",
      "\n",
      "Unique values for loan_amount_term column are: \n",
      " ['Month_30' 'Month_10' 'Month_20' nan 'Month_15' 'Month_5' 'Month_25'\n",
      " 'Month_40' 'Month_3' 'Month_7' 'Month_1'] \n",
      "\n",
      "\n",
      "Unique values for credit_history column are: \n",
      " ['yes' 'no' nan] \n",
      "\n",
      "\n",
      "Unique values for property_area column are: \n",
      " ['Urban' 'Rural' 'Semiurban'] \n",
      "\n",
      "\n"
     ]
    }
   ],
   "source": [
    "# Lets iterate it over each categorical column and print the values\n",
    "for col in cat_columns:\n",
    "    print(f'Unique values for {col} column are: \\n {df[col].unique()} \\n\\n')"
   ]
  },
  {
   "cell_type": "code",
   "execution_count": 320,
   "id": "043b2e95",
   "metadata": {},
   "outputs": [],
   "source": [
    "def make_data_consistent(df, cols) -> pd.DataFrame:\n",
    "    \"\"\"Function to make data consistent and meaningful\"\"\"\n",
    "    \n",
    "    df = df.copy()\n",
    "    \n",
    "    for col in cols:\n",
    "           \n",
    "        # making all values lower case\n",
    "        df[col] = df[col].apply(lambda val: val.lower() if isinstance(val, str) else val)\n",
    "\n",
    "        # removing whitespace and '-' and replacing with '_'\n",
    "        df[col] = df[col].apply(lambda val: val.replace('-','_').replace(' ','_') if isinstance(val, str) else val)\n",
    "            \n",
    "    \n",
    "    # property_area column applying the custom update\n",
    "    df['property_area'] = df['property_area'].map({\n",
    "            'semiurban': 'semi_urban',\n",
    "            'rural': 'rural',\n",
    "            'urban': 'urban'\n",
    "            })\n",
    "    \n",
    "    return df\n",
    "    \n",
    "\n",
    "df = make_data_consistent(df=df, cols=cat_columns+[id_col, target])"
   ]
  },
  {
   "cell_type": "code",
   "execution_count": 321,
   "id": "a9ebb39e",
   "metadata": {
    "scrolled": false
   },
   "outputs": [
    {
     "name": "stdout",
     "output_type": "stream",
     "text": [
      "Unique values for gender column are: \n",
      " ['male' 'female' nan] \n",
      "\n",
      "\n",
      "Unique values for married column are: \n",
      " ['no' 'yes' nan] \n",
      "\n",
      "\n",
      "Unique values for dependents column are: \n",
      " ['0' '1' '2' '3+' nan] \n",
      "\n",
      "\n",
      "Unique values for education column are: \n",
      " ['graduate' 'not_graduate'] \n",
      "\n",
      "\n",
      "Unique values for self_employed column are: \n",
      " ['no' 'yes' nan] \n",
      "\n",
      "\n",
      "Unique values for loan_amount_term column are: \n",
      " ['month_30' 'month_10' 'month_20' nan 'month_15' 'month_5' 'month_25'\n",
      " 'month_40' 'month_3' 'month_7' 'month_1'] \n",
      "\n",
      "\n",
      "Unique values for credit_history column are: \n",
      " ['yes' 'no' nan] \n",
      "\n",
      "\n",
      "Unique values for property_area column are: \n",
      " ['urban' 'rural' 'semi_urban'] \n",
      "\n",
      "\n"
     ]
    }
   ],
   "source": [
    "# Lets iterate it over each categorical column and print the values\n",
    "for col in cat_columns:\n",
    "    print(f'Unique values for {col} column are: \\n {df[col].unique()} \\n\\n')"
   ]
  },
  {
   "cell_type": "markdown",
   "id": "2cac1dd0",
   "metadata": {},
   "source": [
    "We have now ensured data is consistent, and if in future categorical values will have spaces or `-` instead of `_`, or entered with a differnt case, we can use the functionality to clean the data and make it consistent, before training the model"
   ]
  },
  {
   "cell_type": "markdown",
   "id": "60e88785",
   "metadata": {},
   "source": [
    "# 2. Handling Missing Values\n",
    "Now we have achieved consistency with the data, its now time to identify other quality issues with the data and address those issues. One such issue is missing information in the data. Missing data are common problems with real data sets. As the dataset size increases, chance of data points missing in the data increases. Dataset missing records can occur any number of ways, some of which include the following. \n",
    "\n",
    "- Merging of source data sets. For example when we try to match records against date of birth or a postcode  to enrich data , and either these are missing in one data set or are inaccurate, such occurences in data will take NA values\n",
    "- Random events. This quite common in surveys, where are person may not be aware of whether the information required is compulsary or they may not know the answer\n",
    "\n",
    "- Failures of measurement. For example some traits like blood pressure, are known to have a very substantial component of random error when measured in the conventional way (i.e. with a blood pressure cuff). If two people measure a subject’s blood pressure at almost the same time, or if one person measures a subject’s blood pressure twice in rapid succession, the measured values can easily differ by 10 mm/Hg [Hard to meaasure vs Random errors](https://dept.stat.lsa.umich.edu/~kshedden/introds/topics/measurement/). If a person is aware of these errors, they may decide to omit this information and for some patients this data will take NA values. In finance an important measurement ratio to determine credit worthiness of someone or a firm is debt to income ratio. There are scenarios when income is not declared, and in those circumstances dividing debt with 0 or missing data would result in missing information for the ratio.\n",
    "\n",
    "- Poor process design around collecting data. For example in health surveys people are often asked about their BMI, and not everyone knows their BMI or understand the measurement. It would be simpler and easier if we ask someones height and weight, as they are more likely to know this. A problem further arises someone is asked about their weight measurement, where women are more likely to omit this information when compared to men. If BMI cannot be understood or measured at the time of collecting data, or women are asked about their weight face to face or question is made optional, data will take NA values\n",
    "\n",
    "\n",
    "As we know if our data has missing values than our model will not train except few models which can tolerate them like some tree based models but the point is we want to handle this and how can we handle them. So, in this notebook to handle missing data I will discuss following techniques :-\n",
    "\n",
    "- Deletion of Data\n",
    "- Encoding Missingness\n",
    "- Imputation Methods\n",
    "\n",
    "One way to get rid of missing data, is deleting the missing records. This is also known as CCA(Complete case analysis method). This could be fine if less than 5% of data is missing, however deleting more records could reduce the power of the model, because the sample size will become smaller. There might also be a systematic bias in the data, since this technique assumes that data is missing completely and random, but it violates other assumptions such as when data is missing at random (MAR) or missing not at random (MNAR). Hence blindly removing the data could make the model more biased. For instance, if a minority population have not declared their income in the past or not held credit in the past, they may not have a credit score. If we remove this data blindly without understanding the reason for missingness, the algorithm could be more biased towards giving loan to majority groups that have credit information, and minority groups will be denied the opportunity, despite some members having solid income and credit worthiness. \n",
    "\n",
    "Lets explore using CCA technique and getting rid of all rows where information is missing, what volume of data is lost."
   ]
  },
  {
   "cell_type": "code",
   "execution_count": 322,
   "id": "1bbbc042",
   "metadata": {},
   "outputs": [
    {
     "name": "stdout",
     "output_type": "stream",
     "text": [
      "By dropping all missing data, only 480 records will be left out of 614, a reduction by 21.824%\n"
     ]
    }
   ],
   "source": [
    "# Percentage of data left by dropping all the missing data\n",
    "remaining_rows = df.dropna(axis=0).shape[0]\n",
    "total_records = df.shape[0]\n",
    "perc_dropped = ((total_records - remaining_rows)/total_records)*100\n",
    "\n",
    "print(\"By dropping all missing data, only {:,} records will be left out of {:,}, a reduction by {:,.3f}%\".format(remaining_rows, total_records, perc_dropped))"
   ]
  },
  {
   "cell_type": "markdown",
   "id": "cfd822bc",
   "metadata": {},
   "source": [
    "Since 21% is one-third of the dataset, is not a feasible method. Hence, in this section we will explore how to identify missing data, uncover patters or reasons of data being missing and discover techinuqes for handling missing data, so dataset can be used for machine learning"
   ]
  },
  {
   "cell_type": "code",
   "execution_count": 323,
   "id": "6c0d4dec",
   "metadata": {},
   "outputs": [
    {
     "name": "stdout",
     "output_type": "stream",
     "text": [
      "<class 'pandas.core.frame.DataFrame'>\n",
      "RangeIndex: 614 entries, 0 to 613\n",
      "Data columns (total 13 columns):\n",
      " #   Column                 Non-Null Count  Dtype  \n",
      "---  ------                 --------------  -----  \n",
      " 0   loan_id                614 non-null    object \n",
      " 1   gender                 601 non-null    object \n",
      " 2   married                611 non-null    object \n",
      " 3   dependents             599 non-null    object \n",
      " 4   education              614 non-null    object \n",
      " 5   self_employed          582 non-null    object \n",
      " 6   applicant_income       614 non-null    int64  \n",
      " 7   co_application_income  614 non-null    float64\n",
      " 8   loan_amount            592 non-null    float64\n",
      " 9   loan_amount_term       600 non-null    object \n",
      " 10  credit_history         564 non-null    object \n",
      " 11  property_area          614 non-null    object \n",
      " 12  loan_status            614 non-null    object \n",
      "dtypes: float64(2), int64(1), object(10)\n",
      "memory usage: 62.5+ KB\n"
     ]
    }
   ],
   "source": [
    "# To check if data is missing in the dataset, pandas provides a convenice method .info(). The method shows amongst the total records, how many are missing per column\n",
    "\n",
    "df.info()\n",
    "\n",
    "# Amongst the total records of 148670, rate_of_interest has non missing records of 112231, which means 37439 records are missing"
   ]
  },
  {
   "cell_type": "code",
   "execution_count": 324,
   "id": "15198f23",
   "metadata": {},
   "outputs": [
    {
     "data": {
      "text/plain": [
       "y    422\n",
       "n    192\n",
       "Name: loan_status, dtype: int64"
      ]
     },
     "execution_count": 324,
     "metadata": {},
     "output_type": "execute_result"
    }
   ],
   "source": [
    "df.loan_status.value_counts()"
   ]
  },
  {
   "cell_type": "code",
   "execution_count": 325,
   "id": "34ec8365",
   "metadata": {},
   "outputs": [
    {
     "data": {
      "text/plain": [
       "loan_id                   0\n",
       "gender                   13\n",
       "married                   3\n",
       "dependents               15\n",
       "education                 0\n",
       "self_employed            32\n",
       "applicant_income          0\n",
       "co_application_income     0\n",
       "loan_amount              22\n",
       "loan_amount_term         14\n",
       "credit_history           50\n",
       "property_area             0\n",
       "loan_status               0\n",
       "dtype: int64"
      ]
     },
     "execution_count": 325,
     "metadata": {},
     "output_type": "execute_result"
    }
   ],
   "source": [
    "# Pandas has another convenience method .isnull() to check which row has missing information for a column and which one doesnt. By applying .sum(), we can get total number of missing records for each column.\n",
    "df.isnull().sum()\n",
    "\n",
    "# rate_of_interest , interest_rate_spread and upfront_charges columns, have most amount of missing data. Raw values can sometimes be difficult to comprehend, its more useful to know percentage of data missing from each column"
   ]
  },
  {
   "cell_type": "code",
   "execution_count": 326,
   "id": "e66fbd21",
   "metadata": {},
   "outputs": [
    {
     "data": {
      "text/html": [
       "<div>\n",
       "<style scoped>\n",
       "    .dataframe tbody tr th:only-of-type {\n",
       "        vertical-align: middle;\n",
       "    }\n",
       "\n",
       "    .dataframe tbody tr th {\n",
       "        vertical-align: top;\n",
       "    }\n",
       "\n",
       "    .dataframe thead th {\n",
       "        text-align: right;\n",
       "    }\n",
       "</style>\n",
       "<table border=\"1\" class=\"dataframe\">\n",
       "  <thead>\n",
       "    <tr style=\"text-align: right;\">\n",
       "      <th></th>\n",
       "      <th>columm_name</th>\n",
       "      <th>perc_missing</th>\n",
       "    </tr>\n",
       "  </thead>\n",
       "  <tbody>\n",
       "    <tr>\n",
       "      <th>6</th>\n",
       "      <td>credit_history</td>\n",
       "      <td>8.143</td>\n",
       "    </tr>\n",
       "    <tr>\n",
       "      <th>4</th>\n",
       "      <td>self_employed</td>\n",
       "      <td>5.212</td>\n",
       "    </tr>\n",
       "    <tr>\n",
       "      <th>10</th>\n",
       "      <td>loan_amount</td>\n",
       "      <td>3.583</td>\n",
       "    </tr>\n",
       "    <tr>\n",
       "      <th>2</th>\n",
       "      <td>dependents</td>\n",
       "      <td>2.443</td>\n",
       "    </tr>\n",
       "    <tr>\n",
       "      <th>5</th>\n",
       "      <td>loan_amount_term</td>\n",
       "      <td>2.280</td>\n",
       "    </tr>\n",
       "    <tr>\n",
       "      <th>0</th>\n",
       "      <td>gender</td>\n",
       "      <td>2.117</td>\n",
       "    </tr>\n",
       "    <tr>\n",
       "      <th>1</th>\n",
       "      <td>married</td>\n",
       "      <td>0.489</td>\n",
       "    </tr>\n",
       "    <tr>\n",
       "      <th>3</th>\n",
       "      <td>education</td>\n",
       "      <td>0.000</td>\n",
       "    </tr>\n",
       "    <tr>\n",
       "      <th>7</th>\n",
       "      <td>property_area</td>\n",
       "      <td>0.000</td>\n",
       "    </tr>\n",
       "    <tr>\n",
       "      <th>8</th>\n",
       "      <td>applicant_income</td>\n",
       "      <td>0.000</td>\n",
       "    </tr>\n",
       "    <tr>\n",
       "      <th>9</th>\n",
       "      <td>co_application_income</td>\n",
       "      <td>0.000</td>\n",
       "    </tr>\n",
       "  </tbody>\n",
       "</table>\n",
       "</div>"
      ],
      "text/plain": [
       "              columm_name  perc_missing\n",
       "6          credit_history         8.143\n",
       "4           self_employed         5.212\n",
       "10            loan_amount         3.583\n",
       "2              dependents         2.443\n",
       "5        loan_amount_term         2.280\n",
       "0                  gender         2.117\n",
       "1                 married         0.489\n",
       "3               education         0.000\n",
       "7           property_area         0.000\n",
       "8        applicant_income         0.000\n",
       "9   co_application_income         0.000"
      ]
     },
     "execution_count": 326,
     "metadata": {},
     "output_type": "execute_result"
    }
   ],
   "source": [
    "def missing_data_percentage(df: pd.DataFrame):\n",
    "    \"\"\"Function to print percentage of missing values\"\"\"\n",
    "    \n",
    "    df = df.copy()\n",
    "    \n",
    "    missing_data = df.isnull().sum()\n",
    "    total_records = df.shape[0]\n",
    "    \n",
    "    perc_missing = round((missing_data/total_records)*100, 3)\n",
    "    \n",
    "    missing_df = pd.DataFrame(data={'columm_name':perc_missing.index, 'perc_missing':perc_missing.values})\n",
    "    \n",
    "    return missing_df\n",
    "\n",
    "# By utilising percentages, it is easier to understand that upfront_charges has majority of the data missing, i.e. 26.664% values are missing\n",
    "missing_data_percentage(df[feature_columns]).sort_values(by='perc_missing', ascending=False)"
   ]
  },
  {
   "cell_type": "markdown",
   "id": "621acab9",
   "metadata": {},
   "source": [
    "Before diving into handling missing data, it is equally important to understand patters for missing data. By understanding these relationships, we will be able to take appropriate steps. This is because imputing missing data can alter distribution of the data which may further effect variable interaction.\n",
    "\n",
    "We will utilise missingno library and other visualisations to understand where data is missing, and in the absence of System Matter Experts, we will make some assumptions on reasons for missing data"
   ]
  },
  {
   "cell_type": "markdown",
   "id": "9cb5f018",
   "metadata": {},
   "source": [
    "To see where in the data, values are missing and where there are gaps in the data, we will utilise the matrix plot.\n",
    "The matrix plot can be quite useful when dataset has depth or when data has time related information. Presence of data is represented by a grey shade, and when data is absent, it is displayed in white.\n"
   ]
  },
  {
   "cell_type": "code",
   "execution_count": 327,
   "id": "4048196f",
   "metadata": {},
   "outputs": [
    {
     "data": {
      "text/plain": [
       "<AxesSubplot:>"
      ]
     },
     "execution_count": 327,
     "metadata": {},
     "output_type": "execute_result"
    },
    {
     "data": {
      "image/png": "[encoded data removed]",
      "text/plain": [
       "<Figure size 2520x1080 with 2 Axes>"
      ]
     },
     "metadata": {
      "needs_background": "light"
     },
     "output_type": "display_data"
    }
   ],
   "source": [
    "msno.matrix(df[feature_columns], figsize=(35, 15))"
   ]
  },
  {
   "cell_type": "markdown",
   "id": "eb671e83",
   "metadata": {},
   "source": [
    "Looking closer, it can be observed `credit_history` column have lot of missing points, and the occurence of missingness is spread throughout the data and not at a given point in time.  "
   ]
  },
  {
   "cell_type": "markdown",
   "id": "e4249f62",
   "metadata": {},
   "source": [
    "As touched upon earlier understanding the reasons behind missingness of data can help us choose the right technique to handle missing data. At a high level we can call these mechanisms of missing data and can classify these in three categories\n",
    "\n",
    "MCAR - Missing completely at random\n",
    "MNAR - Missing not at random\n",
    "MAR - Missing at random\n",
    "\n",
    "\n",
    "A data is (missing completely at random) when the likelihood of missing is the same for all the observations, and there is no relationship between the data missing and any other features in the dataset. For example a mail questionnaire might get lost in post or a person may have forgotten to answer a question if they were in a hurry. In such cases data being missing has nothing to do with type of question or age group or gender (relationship with other variables), and we can clasify such features or data points as MCAR. Removing these data points or changing the value to 0 for such instances will not bias the prediction.\n",
    "\n",
    "On the other hand data is (missing at random), when likelihood of a data point being missing depends on other existing data points. For instance if men on average don't disclose their weight 5% of the time, where as women don't disclose their weight 15% of the time, we can assume that missingness in data is caused by presence of gender bias. This will lead to higher percent of data missing for women than men. For this mechanism we can impute data using statistical techniques or use machine learning to predict the missing value by utilising other features in the dataset, except the outcome.\n",
    "\n",
    "The third mechanism (Missing data not at random) can often be confused with (Missing data at random), but is slightly different. In this scenario there can be a clear assumption made why data is not missing at random. For instance when we are trying to undrestand what factors lead to depression(outcome), depressed people are more likely to not answer questions or are less likely to be contacted. Since missingness is related to the outcome, these missing records can be flagged as \"Missing\" and for numerical features, we can use a combination of machine learning to impute missing data from other features and flag data points where data is missing by creating another variable."
   ]
  },
  {
   "cell_type": "markdown",
   "id": "9eb10555",
   "metadata": {},
   "source": [
    "Correlation heatmap measures nullity correlation between columns of the dataset. It shows how strongly the presence or absence of one feature affects the other.\n",
    "\n",
    "Nullity correlation ranges from(-1 to 1):\n",
    "\n",
    "- -1 means if one column(attribute) is present, the other is almost certainly absent.\n",
    "- 0 means there is no dependence between the columns(attributes).\n",
    "- 1 means if one column(attributes) is present, the other is also certainly present.\n",
    "Unlike in a familiar correlation heatmap, if you see here, many columns are missing. Those columns which are always full or always empty have no meaningful correlation and are removed from the visualization.\n",
    "\n",
    "The heatmap is helpful for identifying data completeness correlations between attribute pairs, but it has the limited explanatory ability for broader relationships and no special support for really big datasets."
   ]
  },
  {
   "cell_type": "code",
   "execution_count": 328,
   "id": "244f3a63",
   "metadata": {},
   "outputs": [
    {
     "data": {
      "text/plain": [
       "<AxesSubplot:>"
      ]
     },
     "execution_count": 328,
     "metadata": {},
     "output_type": "execute_result"
    },
    {
     "data": {
      "image/png": "[encoded data removed]",
      "text/plain": [
       "<Figure size 1440x864 with 2 Axes>"
      ]
     },
     "metadata": {
      "needs_background": "light"
     },
     "output_type": "display_data"
    }
   ],
   "source": [
    "msno.heatmap(df[feature_columns], labels=True)"
   ]
  },
  {
   "cell_type": "markdown",
   "id": "80029598",
   "metadata": {},
   "source": [
    "From the above plot we can interpret relationships of missingness across few variables. There is a corralation of 0.4 between `dependents` and `married`, which makes sense as majority of times someone gets married first before having dependents. "
   ]
  },
  {
   "cell_type": "code",
   "execution_count": 329,
   "id": "56a0b1db",
   "metadata": {},
   "outputs": [
    {
     "data": {
      "text/plain": [
       "['gender',\n",
       " 'married',\n",
       " 'dependents',\n",
       " 'self_employed',\n",
       " 'loan_amount_term',\n",
       " 'credit_history',\n",
       " 'loan_amount']"
      ]
     },
     "execution_count": 329,
     "metadata": {},
     "output_type": "execute_result"
    }
   ],
   "source": [
    "# Lets check where columns with missing data are related to eech other\n",
    "missing_columns = [cols for cols in feature_columns if df[cols].isnull().sum() > 0]\n",
    "missing_columns"
   ]
  },
  {
   "cell_type": "code",
   "execution_count": 330,
   "id": "e767d2ea",
   "metadata": {},
   "outputs": [
    {
     "data": {
      "text/plain": [
       "<AxesSubplot:>"
      ]
     },
     "execution_count": 330,
     "metadata": {},
     "output_type": "execute_result"
    },
    {
     "data": {
      "image/png": "[encoded data removed]",
      "text/plain": [
       "<Figure size 1800x720 with 1 Axes>"
      ]
     },
     "metadata": {
      "needs_background": "light"
     },
     "output_type": "display_data"
    }
   ],
   "source": [
    "msno.dendrogram(df[missing_columns])"
   ]
  },
  {
   "cell_type": "markdown",
   "id": "9269364a",
   "metadata": {},
   "source": [
    "The dendogram method uses hierarchical clustering, and groups attributes together where missingness is associated with missingness of another variable or completeness is associated with completeness of another variable. We interpret the dendrogram based on a top-down approach, i.e., to focus on the height at which any two columns are connected together with matters of nullity. More the height, less will be the relation and vice versa is also True. For example missingness or presence of data in `credit_history` have no relationship with missingness or completeness of any other variable."
   ]
  },
  {
   "cell_type": "markdown",
   "id": "fc3aca49",
   "metadata": {},
   "source": [
    "Before deciding to remove missing data or impute it, we should also look at whether missingness of variable is associated with outcome i.e. is there a chance that data may not be missing at random (MNAR)."
   ]
  },
  {
   "cell_type": "code",
   "execution_count": 331,
   "id": "c8a1bdd9",
   "metadata": {},
   "outputs": [
    {
     "data": {
      "image/png": "[encoded data removed]",
      "text/plain": [
       "<Figure size 432x288 with 1 Axes>"
      ]
     },
     "metadata": {
      "needs_background": "light"
     },
     "output_type": "display_data"
    },
    {
     "data": {
      "image/png": "[encoded data removed]",
      "text/plain": [
       "<Figure size 432x288 with 1 Axes>"
      ]
     },
     "metadata": {
      "needs_background": "light"
     },
     "output_type": "display_data"
    },
    {
     "data": {
      "image/png": "[encoded data removed]",
      "text/plain": [
       "<Figure size 432x288 with 1 Axes>"
      ]
     },
     "metadata": {
      "needs_background": "light"
     },
     "output_type": "display_data"
    },
    {
     "data": {
      "image/png": "[encoded data removed]",
      "text/plain": [
       "<Figure size 432x288 with 1 Axes>"
      ]
     },
     "metadata": {
      "needs_background": "light"
     },
     "output_type": "display_data"
    },
    {
     "data": {
      "image/png": "[encoded data removed]",
      "text/plain": [
       "<Figure size 432x288 with 1 Axes>"
      ]
     },
     "metadata": {
      "needs_background": "light"
     },
     "output_type": "display_data"
    },
    {
     "data": {
      "image/png": "[encoded data removed]",
      "text/plain": [
       "<Figure size 432x288 with 1 Axes>"
      ]
     },
     "metadata": {
      "needs_background": "light"
     },
     "output_type": "display_data"
    }
   ],
   "source": [
    "# Lets examine the missing categorical columns\n",
    "cat_missing = [cols for cols in cat_columns if df[cols].isnull().sum() > 0]\n",
    "\n",
    "def cat_missing_association_with_outcome(data, missing_data_column, outcome):\n",
    "    \"\"\"Function to plot missing association of categorical varibles with outcome\"\"\"\n",
    "    \n",
    "    df = data.copy()\n",
    "    df[f\"{missing_data_column}_is_missing\"] = df[missing_data_column].isnull().astype(int)\n",
    "    df.groupby([outcome]).agg({f\"{missing_data_column}_is_missing\": 'mean'}).plot.bar()\n",
    "    \n",
    "for cols in cat_missing:\n",
    "    cat_missing_association_with_outcome(df, cols, target)"
   ]
  },
  {
   "cell_type": "markdown",
   "id": "b5c4e0db",
   "metadata": {},
   "source": [
    "At a high level we can assume that for variables such as `married` and `dependents` missingness of data is associated with loan approved status. Hence we can say data for these variables is missing not at random. For these two variables we can encode missing data with word \"missing\" as this signal will help predict the outcome. The missingness or completeness of these two variables is also assocaited with each other as noticed in the heatmap plot, which indicates data might be missing at random, and we can use these variables to impute missing data\n",
    "\n",
    "For other categorical variables we can assume data is not compeltely missing at random (MCAR), rather assume that data is not missing at random (NMAR), as there was some relationship of missingness of information with the outcome, or missing at random(MAR), since missingness is associated with presence or absence of other variables as noticed in dendogram. For remaining categorical variables we could encode them with most frequent values or get rid of missing values or/and create additional column that indicates missingness with 1 or 0. However for MAR scenario is not the best technique. As we recall earlier goal of DCAI is to improve the goodness of data and reduce bias in data. By using frequency imputation methods or just deleting records, we should consider to ask annotators to provide information where its missing and make system fixes to recover from missing information. If that is not possible, we should consider using machine learning techniques or probalistic techniques to determine possible value over simple imputation methods of mode , mean and median. However, when missingness exceeds certain thresholds, even advanced techniques are not reliable and its better to drop the feature.\n",
    "For the remaining variables we shall use machine learning technique to determine the missing values, since we cannot get annotators to help us provide complete information"
   ]
  },
  {
   "cell_type": "code",
   "execution_count": 332,
   "id": "5ade7d10",
   "metadata": {
    "scrolled": false
   },
   "outputs": [
    {
     "data": {
      "image/png": "[encoded data removed]",
      "text/plain": [
       "<Figure size 432x288 with 1 Axes>"
      ]
     },
     "metadata": {
      "needs_background": "light"
     },
     "output_type": "display_data"
    }
   ],
   "source": [
    "# Lets examine the missing numerical columns\n",
    "num_missing = [cols for cols in missing_columns if cols not in cat_missing]\n",
    "\n",
    "def num_missing_association_with_outcome(data, missing_data_column, outcome):\n",
    "    \"\"\"Function to plot missing association of categorical varibles with outcome\"\"\"\n",
    "    \n",
    "    df = data.copy()\n",
    "    df[f\"{missing_data_column}_is_missing\"] = df[missing_data_column].isnull().astype(int)\n",
    "    df.groupby([outcome]).agg({f\"{missing_data_column}_is_missing\": 'mean'}).plot.bar()\n",
    "\n",
    "\n",
    "for cols in num_missing:\n",
    "    num_missing_association_with_outcome(df, cols, target)"
   ]
  },
  {
   "cell_type": "markdown",
   "id": "b2061c61",
   "metadata": {},
   "source": [
    "For all missing numerical columns it can be assumed that data is missing not at random (MNAR). Hence we shall conisder imputing missing values using machine learning as well as create additional column to indicate missingness, which shall further provide a better signal to our model"
   ]
  },
  {
   "cell_type": "markdown",
   "id": "bc3e0903",
   "metadata": {},
   "source": [
    "In model centric approach standard rule of thumb for imputing numerical variables is when 5% of data is missing, imputing them with mean, median or mode. This approach makes an assumption that data is missing completely at random, and if applied without thought analysis, may obscure the distribution of the data and relationship with other variables (if data was missing at random or missing not at random)"
   ]
  },
  {
   "cell_type": "code",
   "execution_count": 333,
   "id": "4eae6316",
   "metadata": {},
   "outputs": [
    {
     "data": {
      "text/plain": [
       "<AxesSubplot:ylabel='Density'>"
      ]
     },
     "execution_count": 333,
     "metadata": {},
     "output_type": "execute_result"
    },
    {
     "data": {
      "image/png": "[encoded data removed]",
      "text/plain": [
       "<Figure size 648x504 with 1 Axes>"
      ]
     },
     "metadata": {
      "needs_background": "light"
     },
     "output_type": "display_data"
    }
   ],
   "source": [
    "# Lets check the distribution of loan_amount and when imputed with median. The distribution has changed when we impute 6% of the values with median\n",
    "df.loan_amount.plot.kde(color='orange', label='loan_amount', legend=True)\n",
    "df.loan_amount.fillna(value=df.loan_amount.median()).plot.kde(color='b', label='loan_amount_imputed', alpha=0.5, figsize=(9,7), legend=True)"
   ]
  },
  {
   "cell_type": "code",
   "execution_count": 334,
   "id": "42602619",
   "metadata": {},
   "outputs": [
    {
     "data": {
      "text/plain": [
       "(85.59, 84.11)"
      ]
     },
     "execution_count": 334,
     "metadata": {},
     "output_type": "execute_result"
    }
   ],
   "source": [
    "# The standard deviation has changed by $1K, and hence median imputation may not be the ideal method for imputing data with data centric approach\n",
    "round(df.loan_amount.std(),2), round(df.loan_amount.fillna(value=df.loan_amount.median()).std(),2)"
   ]
  },
  {
   "cell_type": "markdown",
   "id": "ee4274ca",
   "metadata": {},
   "source": [
    "To counter the above affects and preserve the distribution we can use random sample imputation method. We will first extract all the rows where `loan_amount` is missing. We will then compute the variables that are correlated with `loan_amount` and use the values for these to set a seed. This is because, if we use the same seed for all values, then a same random number will be generated and the method become arbitrary value imputation, which will be as ineffective as mean/median imputation.\n",
    "The downside to random sample distribution is that covriance will be affected and we need a method that preserves the covariance as well.\n",
    "Lets apply the random sample distribution on income variable and compare the distribution and covariance"
   ]
  },
  {
   "cell_type": "code",
   "execution_count": 335,
   "id": "7a880fb7",
   "metadata": {},
   "outputs": [
    {
     "data": {
      "text/plain": [
       "['applicant_income', 'co_application_income', 'loan_amount']"
      ]
     },
     "execution_count": 335,
     "metadata": {},
     "output_type": "execute_result"
    }
   ],
   "source": [
    "num_columns"
   ]
  },
  {
   "cell_type": "code",
   "execution_count": 336,
   "id": "1b0e7bdd",
   "metadata": {},
   "outputs": [
    {
     "data": {
      "text/html": [
       "<div>\n",
       "<style scoped>\n",
       "    .dataframe tbody tr th:only-of-type {\n",
       "        vertical-align: middle;\n",
       "    }\n",
       "\n",
       "    .dataframe tbody tr th {\n",
       "        vertical-align: top;\n",
       "    }\n",
       "\n",
       "    .dataframe thead th {\n",
       "        text-align: right;\n",
       "    }\n",
       "</style>\n",
       "<table border=\"1\" class=\"dataframe\">\n",
       "  <thead>\n",
       "    <tr style=\"text-align: right;\">\n",
       "      <th></th>\n",
       "      <th>applicant_income</th>\n",
       "      <th>co_application_income</th>\n",
       "      <th>loan_amount</th>\n",
       "    </tr>\n",
       "  </thead>\n",
       "  <tbody>\n",
       "    <tr>\n",
       "      <th>applicant_income</th>\n",
       "      <td>1.000000</td>\n",
       "      <td>-0.116605</td>\n",
       "      <td>0.570909</td>\n",
       "    </tr>\n",
       "    <tr>\n",
       "      <th>co_application_income</th>\n",
       "      <td>-0.116605</td>\n",
       "      <td>1.000000</td>\n",
       "      <td>0.188619</td>\n",
       "    </tr>\n",
       "    <tr>\n",
       "      <th>loan_amount</th>\n",
       "      <td>0.570909</td>\n",
       "      <td>0.188619</td>\n",
       "      <td>1.000000</td>\n",
       "    </tr>\n",
       "  </tbody>\n",
       "</table>\n",
       "</div>"
      ],
      "text/plain": [
       "                       applicant_income  co_application_income  loan_amount\n",
       "applicant_income               1.000000              -0.116605     0.570909\n",
       "co_application_income         -0.116605               1.000000     0.188619\n",
       "loan_amount                    0.570909               0.188619     1.000000"
      ]
     },
     "execution_count": 336,
     "metadata": {},
     "output_type": "execute_result"
    }
   ],
   "source": [
    "# Extracting where income is missing \n",
    "observation = df[df.loan_amount.isnull()]\n",
    "\n",
    "# Computing correlation matrix\n",
    "df[num_columns].corr()"
   ]
  },
  {
   "cell_type": "markdown",
   "id": "08645514",
   "metadata": {},
   "source": [
    "`loan_amount` is highly correlated with `applicant_income`, and for the example we shall use those to set the seed"
   ]
  },
  {
   "cell_type": "code",
   "execution_count": 337,
   "id": "97281f33",
   "metadata": {},
   "outputs": [],
   "source": [
    "# Imputing the data using random sample technique\n",
    "imputed_values = []\n",
    "for idx in observation.index:\n",
    "    seed = int(observation.loc[idx,['applicant_income']])\n",
    "    imputed_value = df['loan_amount'].dropna().sample(1, random_state=seed)\n",
    "    imputed_values.append(imputed_value)\n",
    "\n",
    "# Creating a new variable and filling it with data so we can compare the effects\n",
    "\n",
    "# Adding imputed data to missing rows\n",
    "df.loc[df['loan_amount'].isnull(),'loan_amount_random_imputed']=imputed_values \n",
    "\n",
    "# Adding remaining data to the remaining rows, else rest of rows will show nan\n",
    "df.loc[df['loan_amount'].isnull()==False,'loan_amount_random_imputed']=df[df['loan_amount'].isnull()==False]['loan_amount'].values\n",
    "        "
   ]
  },
  {
   "cell_type": "code",
   "execution_count": 338,
   "id": "d43575e6",
   "metadata": {},
   "outputs": [
    {
     "data": {
      "text/plain": [
       "<AxesSubplot:ylabel='Density'>"
      ]
     },
     "execution_count": 338,
     "metadata": {},
     "output_type": "execute_result"
    },
    {
     "data": {
      "image/png": "[encoded data removed]",
      "text/plain": [
       "<Figure size 648x504 with 1 Axes>"
      ]
     },
     "metadata": {
      "needs_background": "light"
     },
     "output_type": "display_data"
    }
   ],
   "source": [
    "#Lets check the distribution of loan_amount and when imputed with random generator method\n",
    "df.loan_amount.plot.kde(color='orange', label='loan_amount', legend=True, linewidth=2)\n",
    "df.loan_amount_random_imputed.plot.kde(color='g', label='loan_amount_random_imputed', legend=True, linewidth=2)\n",
    "df.loan_amount.fillna(value=df.loan_amount.median()).plot.kde(color='b', label='loan_amount_median_imputed', linewidth=1, alpha=0.5, figsize=(9,7), legend=True)"
   ]
  },
  {
   "cell_type": "code",
   "execution_count": 339,
   "id": "95e79d2c",
   "metadata": {},
   "outputs": [
    {
     "data": {
      "text/plain": [
       "(85.59, 85.57)"
      ]
     },
     "execution_count": 339,
     "metadata": {},
     "output_type": "execute_result"
    }
   ],
   "source": [
    "# After using the random generation method we can see the distributions are much more closer based on std when compared to median imputation\n",
    "round(df.loan_amount.std(),2), round(df.loan_amount_random_imputed.std(),2)"
   ]
  },
  {
   "cell_type": "code",
   "execution_count": 340,
   "id": "e7367e96",
   "metadata": {},
   "outputs": [
    {
     "data": {
      "text/html": [
       "<div>\n",
       "<style scoped>\n",
       "    .dataframe tbody tr th:only-of-type {\n",
       "        vertical-align: middle;\n",
       "    }\n",
       "\n",
       "    .dataframe tbody tr th {\n",
       "        vertical-align: top;\n",
       "    }\n",
       "\n",
       "    .dataframe thead th {\n",
       "        text-align: right;\n",
       "    }\n",
       "</style>\n",
       "<table border=\"1\" class=\"dataframe\">\n",
       "  <thead>\n",
       "    <tr style=\"text-align: right;\">\n",
       "      <th></th>\n",
       "      <th>loan_amount</th>\n",
       "      <th>loan_amount_median_imputed</th>\n",
       "      <th>loan_amount_random_imputed</th>\n",
       "      <th>applicant_income</th>\n",
       "    </tr>\n",
       "  </thead>\n",
       "  <tbody>\n",
       "    <tr>\n",
       "      <th>loan_amount</th>\n",
       "      <td>1.000000</td>\n",
       "      <td>1.000000</td>\n",
       "      <td>1.000000</td>\n",
       "      <td>0.570909</td>\n",
       "    </tr>\n",
       "    <tr>\n",
       "      <th>loan_amount_median_imputed</th>\n",
       "      <td>1.000000</td>\n",
       "      <td>1.000000</td>\n",
       "      <td>0.979281</td>\n",
       "      <td>0.565181</td>\n",
       "    </tr>\n",
       "    <tr>\n",
       "      <th>loan_amount_random_imputed</th>\n",
       "      <td>1.000000</td>\n",
       "      <td>0.979281</td>\n",
       "      <td>1.000000</td>\n",
       "      <td>0.561845</td>\n",
       "    </tr>\n",
       "    <tr>\n",
       "      <th>applicant_income</th>\n",
       "      <td>0.570909</td>\n",
       "      <td>0.565181</td>\n",
       "      <td>0.561845</td>\n",
       "      <td>1.000000</td>\n",
       "    </tr>\n",
       "  </tbody>\n",
       "</table>\n",
       "</div>"
      ],
      "text/plain": [
       "                            loan_amount  loan_amount_median_imputed  \\\n",
       "loan_amount                    1.000000                    1.000000   \n",
       "loan_amount_median_imputed     1.000000                    1.000000   \n",
       "loan_amount_random_imputed     1.000000                    0.979281   \n",
       "applicant_income               0.570909                    0.565181   \n",
       "\n",
       "                            loan_amount_random_imputed  applicant_income  \n",
       "loan_amount                                   1.000000          0.570909  \n",
       "loan_amount_median_imputed                    0.979281          0.565181  \n",
       "loan_amount_random_imputed                    1.000000          0.561845  \n",
       "applicant_income                              0.561845          1.000000  "
      ]
     },
     "execution_count": 340,
     "metadata": {},
     "output_type": "execute_result"
    }
   ],
   "source": [
    "# However random sample distribution may distrupt the covariance\n",
    "df['loan_amount_median_imputed'] = df['loan_amount'].fillna(value=df['loan_amount'].median())\n",
    "df[['loan_amount', 'loan_amount_median_imputed','loan_amount_random_imputed', 'applicant_income']].corr()\n"
   ]
  },
  {
   "cell_type": "code",
   "execution_count": 341,
   "id": "0300fe87",
   "metadata": {},
   "outputs": [
    {
     "data": {
      "text/plain": [
       "Index(['applicant_income', 'co_application_income', 'loan_amount'], dtype='object')"
      ]
     },
     "execution_count": 341,
     "metadata": {},
     "output_type": "execute_result"
    }
   ],
   "source": [
    "# Creating a dataset with just numerical columns\n",
    "df_num = df[num_columns].copy()\n",
    "df_num.columns"
   ]
  },
  {
   "cell_type": "markdown",
   "id": "d1b0c192",
   "metadata": {},
   "source": [
    "Another technique to impute data is referred as MICE (Multiple Imputation by Chained Equations). The way MICE works under the hood, is that at first all data is imputed with mean, median or mode. Then the variable that will be imputed, the initial imputated values are converted back to missing, and then using other variables as predictors, a machine learning model is used to predict missing values. Then the next variable is imputed in a similar manner where initially imputed values are converted back to missing, and other variables including the recently imputed variable are used as predictors to impute the missing values. Once all the variables with missing values are modeled and values have been imputed with predictions, the first round of imputation is completed. This procedure is repeated n number of times (ideally 10), and from round two round one predictions are used to predict records which were initially missing.\n",
    "\n",
    "The reason for using several rounds is that initially we are modelling the missing data using other variables which themselves have NA, and initial strategy of imputation uses suboptimal methods like mean, median or mode, which may bias the predictions. As we continue to regress over multiple rounds, predictions will stabalise and become less biased.\n",
    "\n",
    "One issue with MICE is that we have to choose which machine learning model to use for the task. \n",
    "We will implement MICE with Random Forest Algorithm, and to counter affects of choosing an algorithm, we will leverage automated machine learning, where for each imputation and iteration a new algorithm will be chosen"
   ]
  },
  {
   "cell_type": "code",
   "execution_count": 342,
   "id": "8e4938a8",
   "metadata": {},
   "outputs": [],
   "source": [
    "from sklearn.preprocessing import StandardScaler\n",
    "from sklearn.ensemble import ExtraTreesRegressor\n",
    "from sklearn.experimental import enable_iterative_imputer\n",
    "from sklearn.impute import IterativeImputer"
   ]
  },
  {
   "cell_type": "code",
   "execution_count": 348,
   "id": "2ed1ee99",
   "metadata": {},
   "outputs": [
    {
     "data": {
      "text/html": [
       "<div>\n",
       "<style scoped>\n",
       "    .dataframe tbody tr th:only-of-type {\n",
       "        vertical-align: middle;\n",
       "    }\n",
       "\n",
       "    .dataframe tbody tr th {\n",
       "        vertical-align: top;\n",
       "    }\n",
       "\n",
       "    .dataframe thead th {\n",
       "        text-align: right;\n",
       "    }\n",
       "</style>\n",
       "<table border=\"1\" class=\"dataframe\">\n",
       "  <thead>\n",
       "    <tr style=\"text-align: right;\">\n",
       "      <th></th>\n",
       "      <th>applicant_income</th>\n",
       "      <th>co_application_income</th>\n",
       "      <th>loan_amount</th>\n",
       "    </tr>\n",
       "  </thead>\n",
       "  <tbody>\n",
       "    <tr>\n",
       "      <th>0</th>\n",
       "      <td>5849</td>\n",
       "      <td>0.0</td>\n",
       "      <td>NaN</td>\n",
       "    </tr>\n",
       "    <tr>\n",
       "      <th>1</th>\n",
       "      <td>4583</td>\n",
       "      <td>1508.0</td>\n",
       "      <td>128.0</td>\n",
       "    </tr>\n",
       "    <tr>\n",
       "      <th>2</th>\n",
       "      <td>3000</td>\n",
       "      <td>0.0</td>\n",
       "      <td>66.0</td>\n",
       "    </tr>\n",
       "    <tr>\n",
       "      <th>3</th>\n",
       "      <td>2583</td>\n",
       "      <td>2358.0</td>\n",
       "      <td>120.0</td>\n",
       "    </tr>\n",
       "    <tr>\n",
       "      <th>4</th>\n",
       "      <td>6000</td>\n",
       "      <td>0.0</td>\n",
       "      <td>141.0</td>\n",
       "    </tr>\n",
       "  </tbody>\n",
       "</table>\n",
       "</div>"
      ],
      "text/plain": [
       "   applicant_income  co_application_income  loan_amount\n",
       "0              5849                    0.0          NaN\n",
       "1              4583                 1508.0        128.0\n",
       "2              3000                    0.0         66.0\n",
       "3              2583                 2358.0        120.0\n",
       "4              6000                    0.0        141.0"
      ]
     },
     "execution_count": 348,
     "metadata": {},
     "output_type": "execute_result"
    }
   ],
   "source": [
    "# Now the dataset is scaled and all variables have a z score\n",
    "df_num.head()"
   ]
  },
  {
   "cell_type": "code",
   "execution_count": 349,
   "id": "d5894e9d",
   "metadata": {},
   "outputs": [],
   "source": [
    "# Bulding the Random forest imputation framework\n",
    "random_forest_imputer = IterativeImputer(estimator=ExtraTreesRegressor(n_estimators=100, random_state=0, bootstrap=True, n_jobs=-1),\n",
    "                           max_iter=10,\n",
    "                           random_state=0)\n",
    "# Imputing \n",
    "df_imputed = random_forest_imputer.fit_transform(df_num)"
   ]
  },
  {
   "cell_type": "code",
   "execution_count": 350,
   "id": "a76a6590",
   "metadata": {},
   "outputs": [
    {
     "data": {
      "text/html": [
       "<div>\n",
       "<style scoped>\n",
       "    .dataframe tbody tr th:only-of-type {\n",
       "        vertical-align: middle;\n",
       "    }\n",
       "\n",
       "    .dataframe tbody tr th {\n",
       "        vertical-align: top;\n",
       "    }\n",
       "\n",
       "    .dataframe thead th {\n",
       "        text-align: right;\n",
       "    }\n",
       "</style>\n",
       "<table border=\"1\" class=\"dataframe\">\n",
       "  <thead>\n",
       "    <tr style=\"text-align: right;\">\n",
       "      <th></th>\n",
       "      <th>applicant_income</th>\n",
       "      <th>co_application_income</th>\n",
       "      <th>loan_amount</th>\n",
       "    </tr>\n",
       "  </thead>\n",
       "  <tbody>\n",
       "    <tr>\n",
       "      <th>0</th>\n",
       "      <td>5849.0</td>\n",
       "      <td>0.0</td>\n",
       "      <td>140.883548</td>\n",
       "    </tr>\n",
       "    <tr>\n",
       "      <th>1</th>\n",
       "      <td>4583.0</td>\n",
       "      <td>1508.0</td>\n",
       "      <td>128.000000</td>\n",
       "    </tr>\n",
       "    <tr>\n",
       "      <th>2</th>\n",
       "      <td>3000.0</td>\n",
       "      <td>0.0</td>\n",
       "      <td>66.000000</td>\n",
       "    </tr>\n",
       "    <tr>\n",
       "      <th>3</th>\n",
       "      <td>2583.0</td>\n",
       "      <td>2358.0</td>\n",
       "      <td>120.000000</td>\n",
       "    </tr>\n",
       "    <tr>\n",
       "      <th>4</th>\n",
       "      <td>6000.0</td>\n",
       "      <td>0.0</td>\n",
       "      <td>141.000000</td>\n",
       "    </tr>\n",
       "  </tbody>\n",
       "</table>\n",
       "</div>"
      ],
      "text/plain": [
       "   applicant_income  co_application_income  loan_amount\n",
       "0            5849.0                    0.0   140.883548\n",
       "1            4583.0                 1508.0   128.000000\n",
       "2            3000.0                    0.0    66.000000\n",
       "3            2583.0                 2358.0   120.000000\n",
       "4            6000.0                    0.0   141.000000"
      ]
     },
     "execution_count": 350,
     "metadata": {},
     "output_type": "execute_result"
    }
   ],
   "source": [
    "# Reverse transformation to get back the original values\n",
    "df_imputed = pd.DataFrame(columns=num_columns, data=df_imputed)\n",
    "df_imputed.head()"
   ]
  },
  {
   "cell_type": "code",
   "execution_count": 351,
   "id": "ea90b37a",
   "metadata": {},
   "outputs": [
    {
     "data": {
      "text/plain": [
       "<AxesSubplot:ylabel='Density'>"
      ]
     },
     "execution_count": 351,
     "metadata": {},
     "output_type": "execute_result"
    },
    {
     "data": {
      "image/png": "[encoded data removed]",
      "text/plain": [
       "<Figure size 648x504 with 1 Axes>"
      ]
     },
     "metadata": {
      "needs_background": "light"
     },
     "output_type": "display_data"
    }
   ],
   "source": [
    "# Lets check the distribution of original and compare with the ml imputed\n",
    "df_imputed['loan_amount'].plot.kde(color='orange', label='loan_amount_random_forest_imputed',linewidth=2, legend=True)\n",
    "df['loan_amount'].plot.kde(color='b', label='loan_amount', legend=True, linewidth=2, figsize=(9,7), alpha=0.5)"
   ]
  },
  {
   "cell_type": "code",
   "execution_count": 352,
   "id": "ec8fffdd",
   "metadata": {},
   "outputs": [
    {
     "data": {
      "text/plain": [
       "(85.59, 85.57, 85.64)"
      ]
     },
     "execution_count": 352,
     "metadata": {},
     "output_type": "execute_result"
    }
   ],
   "source": [
    "# Lets compare the standard deviations\n",
    "round(df.loan_amount.std(),2), round(df.loan_amount_random_imputed.std(),2), round(df_imputed.loan_amount.std(),2)"
   ]
  },
  {
   "cell_type": "code",
   "execution_count": 353,
   "id": "3f15dd92",
   "metadata": {},
   "outputs": [
    {
     "data": {
      "text/html": [
       "<div>\n",
       "<style scoped>\n",
       "    .dataframe tbody tr th:only-of-type {\n",
       "        vertical-align: middle;\n",
       "    }\n",
       "\n",
       "    .dataframe tbody tr th {\n",
       "        vertical-align: top;\n",
       "    }\n",
       "\n",
       "    .dataframe thead th {\n",
       "        text-align: right;\n",
       "    }\n",
       "</style>\n",
       "<table border=\"1\" class=\"dataframe\">\n",
       "  <thead>\n",
       "    <tr style=\"text-align: right;\">\n",
       "      <th></th>\n",
       "      <th>loan_amount</th>\n",
       "      <th>loan_amount_median_imputed</th>\n",
       "      <th>loan_amount_random_imputed</th>\n",
       "      <th>loan_amount_random_forest_imputed</th>\n",
       "      <th>applicant_income</th>\n",
       "    </tr>\n",
       "  </thead>\n",
       "  <tbody>\n",
       "    <tr>\n",
       "      <th>loan_amount</th>\n",
       "      <td>1.000000</td>\n",
       "      <td>1.000000</td>\n",
       "      <td>1.000000</td>\n",
       "      <td>1.000000</td>\n",
       "      <td>0.570909</td>\n",
       "    </tr>\n",
       "    <tr>\n",
       "      <th>loan_amount_median_imputed</th>\n",
       "      <td>1.000000</td>\n",
       "      <td>1.000000</td>\n",
       "      <td>0.979281</td>\n",
       "      <td>0.980776</td>\n",
       "      <td>0.565181</td>\n",
       "    </tr>\n",
       "    <tr>\n",
       "      <th>loan_amount_random_imputed</th>\n",
       "      <td>1.000000</td>\n",
       "      <td>0.979281</td>\n",
       "      <td>1.000000</td>\n",
       "      <td>0.970306</td>\n",
       "      <td>0.561845</td>\n",
       "    </tr>\n",
       "    <tr>\n",
       "      <th>loan_amount_random_forest_imputed</th>\n",
       "      <td>1.000000</td>\n",
       "      <td>0.980776</td>\n",
       "      <td>0.970306</td>\n",
       "      <td>1.000000</td>\n",
       "      <td>0.579463</td>\n",
       "    </tr>\n",
       "    <tr>\n",
       "      <th>applicant_income</th>\n",
       "      <td>0.570909</td>\n",
       "      <td>0.565181</td>\n",
       "      <td>0.561845</td>\n",
       "      <td>0.579463</td>\n",
       "      <td>1.000000</td>\n",
       "    </tr>\n",
       "  </tbody>\n",
       "</table>\n",
       "</div>"
      ],
      "text/plain": [
       "                                   loan_amount  loan_amount_median_imputed  \\\n",
       "loan_amount                           1.000000                    1.000000   \n",
       "loan_amount_median_imputed            1.000000                    1.000000   \n",
       "loan_amount_random_imputed            1.000000                    0.979281   \n",
       "loan_amount_random_forest_imputed     1.000000                    0.980776   \n",
       "applicant_income                      0.570909                    0.565181   \n",
       "\n",
       "                                   loan_amount_random_imputed  \\\n",
       "loan_amount                                          1.000000   \n",
       "loan_amount_median_imputed                           0.979281   \n",
       "loan_amount_random_imputed                           1.000000   \n",
       "loan_amount_random_forest_imputed                    0.970306   \n",
       "applicant_income                                     0.561845   \n",
       "\n",
       "                                   loan_amount_random_forest_imputed  \\\n",
       "loan_amount                                                 1.000000   \n",
       "loan_amount_median_imputed                                  0.980776   \n",
       "loan_amount_random_imputed                                  0.970306   \n",
       "loan_amount_random_forest_imputed                           1.000000   \n",
       "applicant_income                                            0.579463   \n",
       "\n",
       "                                   applicant_income  \n",
       "loan_amount                                0.570909  \n",
       "loan_amount_median_imputed                 0.565181  \n",
       "loan_amount_random_imputed                 0.561845  \n",
       "loan_amount_random_forest_imputed          0.579463  \n",
       "applicant_income                           1.000000  "
      ]
     },
     "execution_count": 353,
     "metadata": {},
     "output_type": "execute_result"
    }
   ],
   "source": [
    "# Lets check the correlation with other variables\n",
    "df['loan_amount_random_forest_imputed'] = df_imputed.loan_amount\n",
    "df[['loan_amount', 'loan_amount_median_imputed','loan_amount_random_imputed', 'loan_amount_random_forest_imputed', 'applicant_income']].corr()"
   ]
  },
  {
   "cell_type": "markdown",
   "id": "4620abe8",
   "metadata": {},
   "source": [
    "The standard deviation is slightly below random imputation however, it can be observed the correlation with the `application_income` is better and closer, when compared to random imputation method. Hence MICE is a better method than median imputation as standard deviation and overall distribution is preserved, as well as less impact on correlation with other variables"
   ]
  },
  {
   "cell_type": "code",
   "execution_count": 354,
   "id": "470c54ec",
   "metadata": {},
   "outputs": [],
   "source": [
    "# We can drop the columns with imputed suffix since we used these to illustrate the effects of different imputation methods\n",
    "df.drop(['loan_amount_median_imputed','loan_amount_random_imputed', 'loan_amount_random_forest_imputed'], axis=1, inplace=True)"
   ]
  },
  {
   "cell_type": "code",
   "execution_count": 355,
   "id": "91e8008e",
   "metadata": {},
   "outputs": [],
   "source": [
    "# Now its time to impute Categorical variables, and we will combine this with numerical data imputation"
   ]
  },
  {
   "cell_type": "code",
   "execution_count": 276,
   "id": "a22bf69b",
   "metadata": {},
   "outputs": [],
   "source": [
    "from sklearn.preprocessing import LabelEncoder"
   ]
  },
  {
   "cell_type": "code",
   "execution_count": 356,
   "id": "109b4a59",
   "metadata": {},
   "outputs": [],
   "source": [
    "df_temp = df.copy()\n",
    "lb = LabelEncoder()\n",
    "\n",
    "# Only encoding columns that don't have a numerical value\n",
    "cat_cols_string_encoded = cat_columns\n",
    "\n",
    "# Extracting the classes to which each value of a column will be encoded to\n",
    "label_encoder_mapping = {}\n",
    "for cols in cat_cols_string_encoded:\n",
    "    classes = df_temp[cols].unique()\n",
    "    classes = list(np.sort(classes[~pd.isna(classes)]))\n",
    "    label_encoder_mapping[cols] = classes\n",
    "\n",
    "    \n",
    "# The label encoder under the hood will encode values from 0 to n-1 (n being number of unique values in the column)\n",
    "# The encoder out of the box does not provide the encoded mappings\n",
    "# We need these, post imputation to return the categorical variable to its original value\n",
    "for key, val in label_encoder_mapping.items():\n",
    "    index = 0\n",
    "    val_mapping = {}\n",
    "    for value in val:\n",
    "        val_mapping[index] = value\n",
    "        index += 1\n",
    "    label_encoder_mapping[key] = val_mapping\n",
    "    \n",
    "# Encoding the data\n",
    "df_temp[cat_cols_string_encoded] = df_temp[cat_cols_string_encoded].apply(lambda series: pd.Series(\n",
    "        LabelEncoder().fit_transform(series[series.notnull()]),\n",
    "        index=series[series.notnull()].index\n",
    "    ))"
   ]
  },
  {
   "cell_type": "code",
   "execution_count": 357,
   "id": "54f758b7",
   "metadata": {},
   "outputs": [],
   "source": [
    "# Getting the ordinal columns as we dont need to label encode these. Filtering the year column since its values are constant\n",
    "ordinal_columns = [cols for cols in df_temp if cols not in cat_cols_string_encoded + num_columns + [id_col, target]]\n",
    "\n",
    "# Combining the columns as it is recommended use all the data to impute with MICE framework\n",
    "columns = [cols for cols in cat_cols_string_encoded + ordinal_columns + num_columns]"
   ]
  },
  {
   "cell_type": "code",
   "execution_count": 358,
   "id": "91168f60",
   "metadata": {},
   "outputs": [],
   "source": [
    "# Creating a temp dataframe and running Mice\n",
    "df_temp_ = df_temp[columns].copy()\n",
    "\n",
    "# Bulding the Random forest imputation framework for categorical variables\n",
    "rf_imp = IterativeImputer(estimator=ExtraTreesRegressor(n_estimators=100, random_state=0, bootstrap=True, n_jobs=-1),\n",
    "                           max_iter=20,\n",
    "                           random_state=0)\n",
    "# Imputing \n",
    "df_imputed = rf_imp.fit_transform(df_temp_)"
   ]
  },
  {
   "cell_type": "code",
   "execution_count": 359,
   "id": "b1e6a8bc",
   "metadata": {},
   "outputs": [],
   "source": [
    "# Unscaling the values to get back the original values\n",
    "df_imputed_ = pd.DataFrame(columns=columns, data=df_imputed)\n",
    "\n",
    "# converting to int, as since mappings are tied to integers\n",
    "df_imputed_[cat_cols_string_encoded + ordinal_columns] = df_imputed_[cat_cols_string_encoded+ordinal_columns].astype('int')\n",
    "\n",
    "# Remapping to the original categorical values\n",
    "for key, val in label_encoder_mapping.items():\n",
    "    df_imputed_[key] = df_imputed_[key].map(val)"
   ]
  },
  {
   "cell_type": "code",
   "execution_count": 360,
   "id": "9ecf207f",
   "metadata": {},
   "outputs": [
    {
     "data": {
      "text/plain": [
       "gender                   0\n",
       "married                  0\n",
       "dependents               0\n",
       "education                0\n",
       "self_employed            0\n",
       "loan_amount_term         0\n",
       "credit_history           0\n",
       "property_area            0\n",
       "applicant_income         0\n",
       "co_application_income    0\n",
       "loan_amount              0\n",
       "dtype: int64"
      ]
     },
     "execution_count": 360,
     "metadata": {},
     "output_type": "execute_result"
    }
   ],
   "source": [
    "# Lets check whether the values have been imputed\n",
    "df_imputed_.isnull().sum()"
   ]
  },
  {
   "cell_type": "markdown",
   "id": "1649ed67",
   "metadata": {},
   "source": [
    "We can now use the above steps and make it into Scikit learn pipeline, as using a pipeline we can define the sequence of steps, and also save these steps as a pickle object. By utilising this practice we maintain machine learning system best practices, and can ensure reliability and reproucability, without replicating the code in the inference setting."
   ]
  },
  {
   "cell_type": "code",
   "execution_count": 285,
   "id": "58d7e014",
   "metadata": {},
   "outputs": [],
   "source": [
    "# Now we have imputed the data lets bring it all together and ensure all the values are imputed\n",
    "from sklearn.model_selection import train_test_split, GridSearchCV\n",
    "from sklearn.metrics import roc_auc_score, accuracy_score\n",
    "from typing import List\n",
    "from sklearn.tree import DecisionTreeClassifier\n",
    "from sklearn.preprocessing import StandardScaler\n",
    "from sklearn.ensemble import RandomForestClassifier\n",
    "from sklearn.feature_extraction import DictVectorizer\n",
    "from sklearn.base import TransformerMixin, BaseEstimator\n",
    "from sklearn.pipeline import Pipeline\n",
    "from sklearn.compose import ColumnTransformer\n",
    "from feature_engine.encoding import RareLabelEncoder\n",
    "from feature_engine.imputation import CategoricalImputer, MeanMedianImputer"
   ]
  },
  {
   "cell_type": "code",
   "execution_count": 426,
   "id": "1e2fb82a",
   "metadata": {},
   "outputs": [],
   "source": [
    "# Splitting the data into train and test\n",
    "X_train, X_test, y_train, y_test = train_test_split(df[feature_columns],df[target].map({'y':1, 'n':0}) , test_size=0.1, random_state=0, stratify=df[target].map({'y':1, 'n':0}))"
   ]
  },
  {
   "cell_type": "markdown",
   "id": "e2dbaee5",
   "metadata": {},
   "source": [
    "Encoding the categorical variables into rare labels if they dont meet threshold, i.e. if the cardinality is too low, i.e. where a category makes 1 percent of the feature values. This ensures that training data sees\n",
    "the rare values and model is not overfiltted, and is generalised.\n",
    "We fill first impute the missing data using Mice technique and then check for rare labels"
   ]
  },
  {
   "cell_type": "code",
   "execution_count": 427,
   "id": "fb6d5234",
   "metadata": {},
   "outputs": [
    {
     "name": "stdout",
     "output_type": "stream",
     "text": [
      "gender\n",
      "male      0.813644\n",
      "female    0.186356\n",
      "Name: gender, dtype: float64\n",
      "\n",
      "married\n",
      "yes    0.651391\n",
      "no     0.348609\n",
      "Name: married, dtype: float64\n",
      "\n",
      "dependents\n",
      "0     0.575960\n",
      "1     0.170284\n",
      "2     0.168614\n",
      "3+    0.085142\n",
      "Name: dependents, dtype: float64\n",
      "\n",
      "education\n",
      "graduate        0.781759\n",
      "not_graduate    0.218241\n",
      "Name: education, dtype: float64\n",
      "\n",
      "self_employed\n",
      "no     0.859107\n",
      "yes    0.140893\n",
      "Name: self_employed, dtype: float64\n",
      "\n",
      "loan_amount_term\n",
      "month_30    0.853333\n",
      "month_15    0.073333\n",
      "month_40    0.025000\n",
      "month_25    0.021667\n",
      "month_20    0.006667\n",
      "month_7     0.006667\n",
      "month_10    0.005000\n",
      "month_3     0.003333\n",
      "month_5     0.003333\n",
      "month_1     0.001667\n",
      "Name: loan_amount_term, dtype: float64\n",
      "\n",
      "credit_history\n",
      "yes    0.842199\n",
      "no     0.157801\n",
      "Name: credit_history, dtype: float64\n",
      "\n",
      "property_area\n",
      "semi_urban    0.379479\n",
      "urban         0.328990\n",
      "rural         0.291531\n",
      "Name: property_area, dtype: float64\n",
      "\n"
     ]
    }
   ],
   "source": [
    "for cols in cat_cols_string_encoded:\n",
    "    print(cols)\n",
    "    print(df[cols].value_counts(normalize=True))\n",
    "    print()"
   ]
  },
  {
   "cell_type": "code",
   "execution_count": 428,
   "id": "4dcaff25",
   "metadata": {},
   "outputs": [],
   "source": [
    "def cat_encoder_mapping(df: pd.DataFrame, columns: List[str]) -> dict:\n",
    "    \"\"\"Function is a helper function for label encoder and builds a mapping for categorical variables\n",
    "       The function returns the mapping so encoded variables can be decoded to original form\"\"\"\n",
    "    \n",
    "    \n",
    "    # Extracting the classes to which each value of a column will be encoded to\n",
    "    label_encoder_mapping = {}\n",
    "    for cols in columns:\n",
    "        classes = df[cols].unique()\n",
    "        classes = list(np.sort(classes[~pd.isna(classes)])) #exluding na's from the list\n",
    "        label_encoder_mapping[cols] = classes\n",
    "\n",
    "\n",
    "    # The label encoder under the hood will encode values from 0 to n-1 (n being number of unique values in the column)\n",
    "    # The encoder out of the box does not provide the encoded mappings\n",
    "    # We need these, post imputation to return the categorical variable to its original value\n",
    "    for key, val in label_encoder_mapping.items():\n",
    "        index = 0\n",
    "        val_mapping = {}\n",
    "        for value in val:\n",
    "            val_mapping[index] = value\n",
    "            index += 1\n",
    "        label_encoder_mapping[key] = val_mapping\n",
    "        \n",
    "    return label_encoder_mapping\n",
    "\n",
    "\n",
    "class CustomLabelEncoder(BaseEstimator, TransformerMixin):\n",
    "    \"\"\"Class to bulk encode categorical variables\"\"\"\n",
    "    \n",
    "    def __init__(self, cat_columns: List[str]):\n",
    "        \"\"\"Constructor\"\"\"\n",
    "        \n",
    "        self.cat_columns = cat_columns\n",
    "        self.label_encoder_mapping = {}\n",
    "    \n",
    "    def fit(self, X, y=None):\n",
    "        \"\"\"Custom fit function\"\"\"\n",
    "        \n",
    "        self.label_encoder_mapping = cat_encoder_mapping(df=X, columns=self.cat_columns)\n",
    "        return self\n",
    "    \n",
    "    def transform(self, X, y=None):\n",
    "        \"\"\"Custom transformer\"\"\"\n",
    "        \n",
    "        # Encoding the data\n",
    "        X = X.copy()\n",
    "        X[self.cat_columns] = X[self.cat_columns]\\\n",
    "                              .apply(lambda series: pd.Series(\n",
    "                                      LabelEncoder().fit_transform(series[series.notnull()])\n",
    "                                     ,index=series[series.notnull()].index)\n",
    "                                    )\n",
    "        return X\n",
    "    \n",
    "\n",
    "class CustomLabelDecoder(BaseEstimator, TransformerMixin):\n",
    "    \"\"\"Class to decode the categorical columns based on mapping object\"\"\"\n",
    "    \n",
    "    def __init__(self, features: List[str], label_encoder_mapping: dict):\n",
    "        \"\"\"Constructor\"\"\"\n",
    "        \n",
    "        self.label_encoder_mapping = label_encoder_mapping\n",
    "        self.features = features\n",
    "        self.X_ = pd.DataFrame()\n",
    "        \n",
    "    def fit(self, X, y=None):\n",
    "        \"\"\"Custom fit function\"\"\"\n",
    "        \n",
    "        return self\n",
    "    \n",
    "    def transform(self, X, y=None):\n",
    "        \"\"\"Custom transform method\"\"\"\n",
    "        \n",
    "        X = X.copy()\n",
    "        \n",
    "        self.X_ = pd.DataFrame(data=X, columns=self.features)\n",
    "        \n",
    "        for key, val in self.label_encoder_mapping.items():\n",
    "            self.X_[key] = self.X_[key].astype(int)\n",
    "            self.X_[key] = self.X_[key].map(val)\n",
    "        \n",
    "        return self.X_"
   ]
  },
  {
   "cell_type": "code",
   "execution_count": 429,
   "id": "a5ea8223",
   "metadata": {},
   "outputs": [],
   "source": [
    "# Running the encoder pipeline\n",
    "encoder_pipeline = Pipeline(\n",
    "    steps=[\n",
    "        ('cat_encoding', \n",
    "          CustomLabelEncoder(cat_columns=cat_cols_string_encoded)\n",
    "        )\n",
    "    ]\n",
    ")\n",
    "\n",
    "X_train_encoded = encoder_pipeline.fit_transform(X_train)\n",
    "X_test_encoded = encoder_pipeline.transform(X_test)"
   ]
  },
  {
   "cell_type": "code",
   "execution_count": 434,
   "id": "ef6cda4c",
   "metadata": {},
   "outputs": [
    {
     "name": "stderr",
     "output_type": "stream",
     "text": [
      "/Users/bajajn/anaconda3/lib/python3.8/site-packages/feature_engine/encoding/rare_label.py:157: UserWarning: The number of unique categories for variable gender is less than that indicated in n_categories. Thus, all categories will be considered frequent\n",
      "  warnings.warn(\n",
      "/Users/bajajn/anaconda3/lib/python3.8/site-packages/feature_engine/encoding/rare_label.py:157: UserWarning: The number of unique categories for variable married is less than that indicated in n_categories. Thus, all categories will be considered frequent\n",
      "  warnings.warn(\n",
      "/Users/bajajn/anaconda3/lib/python3.8/site-packages/feature_engine/encoding/rare_label.py:157: UserWarning: The number of unique categories for variable dependents is less than that indicated in n_categories. Thus, all categories will be considered frequent\n",
      "  warnings.warn(\n",
      "/Users/bajajn/anaconda3/lib/python3.8/site-packages/feature_engine/encoding/rare_label.py:157: UserWarning: The number of unique categories for variable education is less than that indicated in n_categories. Thus, all categories will be considered frequent\n",
      "  warnings.warn(\n",
      "/Users/bajajn/anaconda3/lib/python3.8/site-packages/feature_engine/encoding/rare_label.py:157: UserWarning: The number of unique categories for variable self_employed is less than that indicated in n_categories. Thus, all categories will be considered frequent\n",
      "  warnings.warn(\n",
      "/Users/bajajn/anaconda3/lib/python3.8/site-packages/feature_engine/encoding/rare_label.py:157: UserWarning: The number of unique categories for variable credit_history is less than that indicated in n_categories. Thus, all categories will be considered frequent\n",
      "  warnings.warn(\n",
      "/Users/bajajn/anaconda3/lib/python3.8/site-packages/feature_engine/encoding/rare_label.py:157: UserWarning: The number of unique categories for variable property_area is less than that indicated in n_categories. Thus, all categories will be considered frequent\n",
      "  warnings.warn(\n"
     ]
    }
   ],
   "source": [
    "# Running the custom imputer pipeline as scikit learn pipeline and decoding the categories which were encoded into numerical form\n",
    "custom_preprocessor = Pipeline(\n",
    "    steps=[('mice_imputation',\n",
    "           IterativeImputer(estimator=ExtraTreesRegressor(n_estimators=10, random_state=0, bootstrap=True, n_jobs=-1),\n",
    "                           max_iter=20,\n",
    "                           random_state=0)\n",
    "           ),\n",
    "           ('custom_label_decoder',\n",
    "            CustomLabelDecoder(features=columns, \n",
    "                               label_encoder_mapping=encoder_pipeline.named_steps['cat_encoding'].label_encoder_mapping)),\n",
    "           ('rare_label_encoder', \n",
    "            RareLabelEncoder(tol=0.02, n_categories=8, variables=cat_cols_string_encoded, replace_with='rare'))\n",
    "           ]\n",
    ")\n",
    "\n",
    "custom_transformer = ColumnTransformer(transformers=\n",
    "    [\n",
    "        (\"all_features\", custom_preprocessor, columns)\n",
    "    ]\n",
    ")\n",
    "\n",
    "custom_pipeline = Pipeline(\n",
    "    steps=[(\n",
    "        \"custom_transformer\", custom_transformer\n",
    "    )]\n",
    ")\n",
    "\n",
    "X_train_imputed = custom_pipeline.fit_transform(X_train_encoded)\n",
    "X_test_imputed = custom_pipeline.transform(X_test_encoded)"
   ]
  },
  {
   "cell_type": "markdown",
   "id": "904a1784",
   "metadata": {},
   "source": [
    "Once data is imputed then we can one hot encode categorical data and pass the numerical data as is. In python we can leverage DictVectorizor to do both, but first we may need to convert the data into dictionary. For that we will use `pandas.to_dict()` method"
   ]
  },
  {
   "cell_type": "code",
   "execution_count": 435,
   "id": "2d58f291",
   "metadata": {},
   "outputs": [],
   "source": [
    "custom_pipeline.named_steps['custom_transformer'].transformers_[0][2]\n",
    "X_train_dict = pd.DataFrame(data=X_train_imputed, columns=features).to_dict(orient='records')\n",
    "X_test_dict = pd.DataFrame(data=X_test_imputed, columns=features).to_dict(orient='records')"
   ]
  },
  {
   "cell_type": "code",
   "execution_count": 436,
   "id": "98967565",
   "metadata": {},
   "outputs": [],
   "source": [
    "# Apply the dictvectorizor to one hot encode\n",
    "dv = DictVectorizer(sparse=False)\n",
    "X_train_transformed = dv.fit_transform(X_train_dict)\n",
    "X_test_transformed = dv.transform(X_test_dict)"
   ]
  },
  {
   "cell_type": "code",
   "execution_count": 437,
   "id": "77175237",
   "metadata": {},
   "outputs": [
    {
     "data": {
      "text/plain": [
       "Index(['applicant_income', 'co_application_income', 'credit_history=no',\n",
       "       'credit_history=yes', 'dependents=0', 'dependents=1', 'dependents=2',\n",
       "       'dependents=3+', 'education=graduate', 'education=not_graduate',\n",
       "       'gender=female', 'gender=male', 'loan_amount',\n",
       "       'loan_amount_term=month_15', 'loan_amount_term=month_25',\n",
       "       'loan_amount_term=month_30', 'loan_amount_term=month_40',\n",
       "       'loan_amount_term=rare', 'married=no', 'married=yes',\n",
       "       'property_area=rural', 'property_area=semi_urban',\n",
       "       'property_area=urban', 'self_employed=no', 'self_employed=yes'],\n",
       "      dtype='object')"
      ]
     },
     "execution_count": 437,
     "metadata": {},
     "output_type": "execute_result"
    }
   ],
   "source": [
    "pd.DataFrame(X_train_transformed, columns=dv.get_feature_names()).columns"
   ]
  },
  {
   "cell_type": "code",
   "execution_count": 438,
   "id": "e72ac38d",
   "metadata": {},
   "outputs": [
    {
     "data": {
      "text/plain": [
       "(0.6865942028985508, 0.6935483870967742)"
      ]
     },
     "execution_count": 438,
     "metadata": {},
     "output_type": "execute_result"
    }
   ],
   "source": [
    "# Lets train the model and check the score. But before lets check the class imbalance. \n",
    "y_train.mean(), y_test.mean()"
   ]
  },
  {
   "cell_type": "markdown",
   "id": "a6569ce4",
   "metadata": {},
   "source": [
    "Because classes are slightly imbalanced, we can use the `class_weight='balanced'` option, since this option uses the values of y to automatically adjust weights inversely proportional to class frequencies in the input data when training the algorithm"
   ]
  },
  {
   "cell_type": "code",
   "execution_count": 445,
   "id": "a7f38b74",
   "metadata": {},
   "outputs": [
    {
     "name": "stdout",
     "output_type": "stream",
     "text": [
      "Decision tree optimised\n",
      "Getting the best params which are {'class_weight': 'balanced', 'criterion': 'gini', 'max_depth': 5, 'max_features': 'sqrt', 'min_samples_leaf': 20, 'random_state': 0}\n",
      "Training roc is 0.7597724465051016, and testing roc is 0.8182374541003672 \n",
      "         training accuracy is 0.7336956521739131, testing_acc as 0.6290322580645161\n"
     ]
    }
   ],
   "source": [
    "# Training the model using cross validation to ensure model is generalisable and can be used in a good setting\n",
    "d_param_grid = {\n",
    "    'max_features': [None, 'sqrt', 'log2'],\n",
    "    'max_depth' : [4,5,6,7,8,10,20],\n",
    "    'min_samples_leaf' : [1,3,5,10,15,20,25,30],\n",
    "    'criterion' : ['gini', 'entropy'],\n",
    "    'random_state' : [0], \n",
    "    'class_weight' : ['balanced', None]\n",
    "}\n",
    "d_clf = DecisionTreeClassifier()\n",
    "\n",
    "\n",
    "# Training the models\n",
    "d_clf_cv = GridSearchCV(estimator=d_clf, param_grid=d_param_grid, cv=5, scoring='roc_auc')\n",
    "d_clf_cv.fit(X_train_transformed, y_train)\n",
    "\n",
    "print(\"Decision tree optimised\")\n",
    "\n",
    "\n",
    "d_best_params = d_clf_cv.best_params_\n",
    "\n",
    "print(f\"Getting the best params which are {d_best_params}\")\n",
    "\n",
    "model = DecisionTreeClassifier(**d_best_params)\n",
    "model.fit(X_train_transformed, y_train)\n",
    "\n",
    "training_predictions_prob = model.predict_proba(X_train_transformed)\n",
    "testing_predictions_prob = model.predict_proba(X_test_transformed)\n",
    "\n",
    "training_predictions = model.predict(X_train_transformed)\n",
    "testing_predictions = model.predict(X_test_transformed)\n",
    "\n",
    "training_roc_auc = roc_auc_score(y_train, training_predictions_prob[:,1])\n",
    "testing_roc_auc = roc_auc_score(y_test, testing_predictions_prob[:,1])\n",
    "\n",
    "training_acc = accuracy_score(y_train, training_predictions)\n",
    "testing_acc = accuracy_score(y_test, testing_predictions)\n",
    "\n",
    "print(f\"Training roc is {training_roc_auc}, and testing roc is {testing_roc_auc} \\n \\\n",
    "        training accuracy is {training_acc}, testing_acc as {testing_acc}\")"
   ]
  },
  {
   "cell_type": "code",
   "execution_count": 381,
   "id": "03a83d38",
   "metadata": {},
   "outputs": [
    {
     "data": {
      "text/html": [
       "<div>\n",
       "<style scoped>\n",
       "    .dataframe tbody tr th:only-of-type {\n",
       "        vertical-align: middle;\n",
       "    }\n",
       "\n",
       "    .dataframe tbody tr th {\n",
       "        vertical-align: top;\n",
       "    }\n",
       "\n",
       "    .dataframe thead th {\n",
       "        text-align: right;\n",
       "    }\n",
       "</style>\n",
       "<table border=\"1\" class=\"dataframe\">\n",
       "  <thead>\n",
       "    <tr style=\"text-align: right;\">\n",
       "      <th></th>\n",
       "      <th>applicant_income</th>\n",
       "      <th>co_application_income</th>\n",
       "      <th>credit_history=no</th>\n",
       "      <th>credit_history=yes</th>\n",
       "      <th>dependents=0</th>\n",
       "      <th>dependents=1</th>\n",
       "      <th>dependents=2</th>\n",
       "      <th>dependents=3+</th>\n",
       "      <th>education=graduate</th>\n",
       "      <th>education=not_graduate</th>\n",
       "      <th>...</th>\n",
       "      <th>loan_amount_term=month_40</th>\n",
       "      <th>loan_amount_term=month_5</th>\n",
       "      <th>loan_amount_term=month_7</th>\n",
       "      <th>married=no</th>\n",
       "      <th>married=yes</th>\n",
       "      <th>property_area=rural</th>\n",
       "      <th>property_area=semi_urban</th>\n",
       "      <th>property_area=urban</th>\n",
       "      <th>self_employed=no</th>\n",
       "      <th>self_employed=yes</th>\n",
       "    </tr>\n",
       "  </thead>\n",
       "  <tbody>\n",
       "    <tr>\n",
       "      <th>0</th>\n",
       "      <td>3500.0</td>\n",
       "      <td>0.0</td>\n",
       "      <td>0.0</td>\n",
       "      <td>1.0</td>\n",
       "      <td>1.0</td>\n",
       "      <td>0.0</td>\n",
       "      <td>0.0</td>\n",
       "      <td>0.0</td>\n",
       "      <td>1.0</td>\n",
       "      <td>0.0</td>\n",
       "      <td>...</td>\n",
       "      <td>0.0</td>\n",
       "      <td>0.0</td>\n",
       "      <td>0.0</td>\n",
       "      <td>1.0</td>\n",
       "      <td>0.0</td>\n",
       "      <td>0.0</td>\n",
       "      <td>1.0</td>\n",
       "      <td>0.0</td>\n",
       "      <td>1.0</td>\n",
       "      <td>0.0</td>\n",
       "    </tr>\n",
       "    <tr>\n",
       "      <th>1</th>\n",
       "      <td>1782.0</td>\n",
       "      <td>2232.0</td>\n",
       "      <td>0.0</td>\n",
       "      <td>1.0</td>\n",
       "      <td>0.0</td>\n",
       "      <td>1.0</td>\n",
       "      <td>0.0</td>\n",
       "      <td>0.0</td>\n",
       "      <td>1.0</td>\n",
       "      <td>0.0</td>\n",
       "      <td>...</td>\n",
       "      <td>0.0</td>\n",
       "      <td>0.0</td>\n",
       "      <td>0.0</td>\n",
       "      <td>0.0</td>\n",
       "      <td>1.0</td>\n",
       "      <td>1.0</td>\n",
       "      <td>0.0</td>\n",
       "      <td>0.0</td>\n",
       "      <td>1.0</td>\n",
       "      <td>0.0</td>\n",
       "    </tr>\n",
       "    <tr>\n",
       "      <th>2</th>\n",
       "      <td>4384.0</td>\n",
       "      <td>1793.0</td>\n",
       "      <td>0.0</td>\n",
       "      <td>1.0</td>\n",
       "      <td>0.0</td>\n",
       "      <td>1.0</td>\n",
       "      <td>0.0</td>\n",
       "      <td>0.0</td>\n",
       "      <td>1.0</td>\n",
       "      <td>0.0</td>\n",
       "      <td>...</td>\n",
       "      <td>0.0</td>\n",
       "      <td>0.0</td>\n",
       "      <td>0.0</td>\n",
       "      <td>1.0</td>\n",
       "      <td>0.0</td>\n",
       "      <td>0.0</td>\n",
       "      <td>0.0</td>\n",
       "      <td>1.0</td>\n",
       "      <td>1.0</td>\n",
       "      <td>0.0</td>\n",
       "    </tr>\n",
       "    <tr>\n",
       "      <th>3</th>\n",
       "      <td>6125.0</td>\n",
       "      <td>1625.0</td>\n",
       "      <td>0.0</td>\n",
       "      <td>1.0</td>\n",
       "      <td>0.0</td>\n",
       "      <td>0.0</td>\n",
       "      <td>1.0</td>\n",
       "      <td>0.0</td>\n",
       "      <td>0.0</td>\n",
       "      <td>1.0</td>\n",
       "      <td>...</td>\n",
       "      <td>1.0</td>\n",
       "      <td>0.0</td>\n",
       "      <td>0.0</td>\n",
       "      <td>0.0</td>\n",
       "      <td>1.0</td>\n",
       "      <td>0.0</td>\n",
       "      <td>1.0</td>\n",
       "      <td>0.0</td>\n",
       "      <td>1.0</td>\n",
       "      <td>0.0</td>\n",
       "    </tr>\n",
       "    <tr>\n",
       "      <th>4</th>\n",
       "      <td>1625.0</td>\n",
       "      <td>1803.0</td>\n",
       "      <td>0.0</td>\n",
       "      <td>1.0</td>\n",
       "      <td>0.0</td>\n",
       "      <td>1.0</td>\n",
       "      <td>0.0</td>\n",
       "      <td>0.0</td>\n",
       "      <td>1.0</td>\n",
       "      <td>0.0</td>\n",
       "      <td>...</td>\n",
       "      <td>0.0</td>\n",
       "      <td>0.0</td>\n",
       "      <td>0.0</td>\n",
       "      <td>0.0</td>\n",
       "      <td>1.0</td>\n",
       "      <td>0.0</td>\n",
       "      <td>0.0</td>\n",
       "      <td>1.0</td>\n",
       "      <td>1.0</td>\n",
       "      <td>0.0</td>\n",
       "    </tr>\n",
       "  </tbody>\n",
       "</table>\n",
       "<p>5 rows × 30 columns</p>\n",
       "</div>"
      ],
      "text/plain": [
       "   applicant_income  co_application_income  credit_history=no  \\\n",
       "0            3500.0                    0.0                0.0   \n",
       "1            1782.0                 2232.0                0.0   \n",
       "2            4384.0                 1793.0                0.0   \n",
       "3            6125.0                 1625.0                0.0   \n",
       "4            1625.0                 1803.0                0.0   \n",
       "\n",
       "   credit_history=yes  dependents=0  dependents=1  dependents=2  \\\n",
       "0                 1.0           1.0           0.0           0.0   \n",
       "1                 1.0           0.0           1.0           0.0   \n",
       "2                 1.0           0.0           1.0           0.0   \n",
       "3                 1.0           0.0           0.0           1.0   \n",
       "4                 1.0           0.0           1.0           0.0   \n",
       "\n",
       "   dependents=3+  education=graduate  education=not_graduate  ...  \\\n",
       "0            0.0                 1.0                     0.0  ...   \n",
       "1            0.0                 1.0                     0.0  ...   \n",
       "2            0.0                 1.0                     0.0  ...   \n",
       "3            0.0                 0.0                     1.0  ...   \n",
       "4            0.0                 1.0                     0.0  ...   \n",
       "\n",
       "   loan_amount_term=month_40  loan_amount_term=month_5  \\\n",
       "0                        0.0                       0.0   \n",
       "1                        0.0                       0.0   \n",
       "2                        0.0                       0.0   \n",
       "3                        1.0                       0.0   \n",
       "4                        0.0                       0.0   \n",
       "\n",
       "   loan_amount_term=month_7  married=no  married=yes  property_area=rural  \\\n",
       "0                       0.0         1.0          0.0                  0.0   \n",
       "1                       0.0         0.0          1.0                  1.0   \n",
       "2                       0.0         1.0          0.0                  0.0   \n",
       "3                       0.0         0.0          1.0                  0.0   \n",
       "4                       0.0         0.0          1.0                  0.0   \n",
       "\n",
       "   property_area=semi_urban  property_area=urban  self_employed=no  \\\n",
       "0                       1.0                  0.0               1.0   \n",
       "1                       0.0                  0.0               1.0   \n",
       "2                       0.0                  1.0               1.0   \n",
       "3                       1.0                  0.0               1.0   \n",
       "4                       0.0                  1.0               1.0   \n",
       "\n",
       "   self_employed=yes  \n",
       "0                0.0  \n",
       "1                0.0  \n",
       "2                0.0  \n",
       "3                0.0  \n",
       "4                0.0  \n",
       "\n",
       "[5 rows x 30 columns]"
      ]
     },
     "execution_count": 381,
     "metadata": {},
     "output_type": "execute_result"
    }
   ],
   "source": [
    "pd.DataFrame(X_train_transformed, columns=dv.get_feature_names()).head()"
   ]
  },
  {
   "cell_type": "code",
   "execution_count": 134,
   "id": "c30ddfbd",
   "metadata": {},
   "outputs": [],
   "source": [
    "# We can see both training and testing roc is high, i.e. model is generalisable and not overfitted or underfitted"
   ]
  },
  {
   "cell_type": "markdown",
   "id": "84af7a4f",
   "metadata": {},
   "source": [
    "Lets take a counter intuitive approach and check if we just used mean/median to impute the numerical variables, and imputed categorical variables with most frequent occurences, what results we shall get"
   ]
  },
  {
   "cell_type": "code",
   "execution_count": 446,
   "id": "e2be38a7",
   "metadata": {},
   "outputs": [],
   "source": [
    "# Splitting the data into train and test\n",
    "X_train, X_test, y_train, y_test = train_test_split(df[feature_columns],df[target].map({'y':1, 'n':0}) , test_size=0.1, random_state=0, stratify=df[target].map({'y':1, 'n':0}))"
   ]
  },
  {
   "cell_type": "code",
   "execution_count": 447,
   "id": "5530cd88",
   "metadata": {},
   "outputs": [
    {
     "data": {
      "text/html": [
       "<div>\n",
       "<style scoped>\n",
       "    .dataframe tbody tr th:only-of-type {\n",
       "        vertical-align: middle;\n",
       "    }\n",
       "\n",
       "    .dataframe tbody tr th {\n",
       "        vertical-align: top;\n",
       "    }\n",
       "\n",
       "    .dataframe thead th {\n",
       "        text-align: right;\n",
       "    }\n",
       "</style>\n",
       "<table border=\"1\" class=\"dataframe\">\n",
       "  <thead>\n",
       "    <tr style=\"text-align: right;\">\n",
       "      <th></th>\n",
       "      <th>gender</th>\n",
       "      <th>married</th>\n",
       "      <th>dependents</th>\n",
       "      <th>education</th>\n",
       "      <th>self_employed</th>\n",
       "      <th>loan_amount_term</th>\n",
       "      <th>credit_history</th>\n",
       "      <th>property_area</th>\n",
       "      <th>applicant_income</th>\n",
       "      <th>co_application_income</th>\n",
       "      <th>loan_amount</th>\n",
       "    </tr>\n",
       "  </thead>\n",
       "  <tbody>\n",
       "    <tr>\n",
       "      <th>72</th>\n",
       "      <td>male</td>\n",
       "      <td>no</td>\n",
       "      <td>0</td>\n",
       "      <td>graduate</td>\n",
       "      <td>no</td>\n",
       "      <td>month_25</td>\n",
       "      <td>yes</td>\n",
       "      <td>semi_urban</td>\n",
       "      <td>3500</td>\n",
       "      <td>0.0</td>\n",
       "      <td>81.0</td>\n",
       "    </tr>\n",
       "    <tr>\n",
       "      <th>578</th>\n",
       "      <td>male</td>\n",
       "      <td>yes</td>\n",
       "      <td>1</td>\n",
       "      <td>graduate</td>\n",
       "      <td>no</td>\n",
       "      <td>month_30</td>\n",
       "      <td>yes</td>\n",
       "      <td>rural</td>\n",
       "      <td>1782</td>\n",
       "      <td>2232.0</td>\n",
       "      <td>107.0</td>\n",
       "    </tr>\n",
       "    <tr>\n",
       "      <th>330</th>\n",
       "      <td>male</td>\n",
       "      <td>no</td>\n",
       "      <td>1</td>\n",
       "      <td>graduate</td>\n",
       "      <td>no</td>\n",
       "      <td>month_30</td>\n",
       "      <td>yes</td>\n",
       "      <td>urban</td>\n",
       "      <td>4384</td>\n",
       "      <td>1793.0</td>\n",
       "      <td>117.0</td>\n",
       "    </tr>\n",
       "    <tr>\n",
       "      <th>573</th>\n",
       "      <td>male</td>\n",
       "      <td>yes</td>\n",
       "      <td>2</td>\n",
       "      <td>not_graduate</td>\n",
       "      <td>no</td>\n",
       "      <td>month_40</td>\n",
       "      <td>yes</td>\n",
       "      <td>semi_urban</td>\n",
       "      <td>6125</td>\n",
       "      <td>1625.0</td>\n",
       "      <td>187.0</td>\n",
       "    </tr>\n",
       "    <tr>\n",
       "      <th>303</th>\n",
       "      <td>male</td>\n",
       "      <td>yes</td>\n",
       "      <td>1</td>\n",
       "      <td>graduate</td>\n",
       "      <td>no</td>\n",
       "      <td>month_30</td>\n",
       "      <td>yes</td>\n",
       "      <td>urban</td>\n",
       "      <td>1625</td>\n",
       "      <td>1803.0</td>\n",
       "      <td>96.0</td>\n",
       "    </tr>\n",
       "  </tbody>\n",
       "</table>\n",
       "</div>"
      ],
      "text/plain": [
       "    gender married dependents     education self_employed loan_amount_term  \\\n",
       "72    male      no          0      graduate            no         month_25   \n",
       "578   male     yes          1      graduate            no         month_30   \n",
       "330   male      no          1      graduate            no         month_30   \n",
       "573   male     yes          2  not_graduate            no         month_40   \n",
       "303   male     yes          1      graduate            no         month_30   \n",
       "\n",
       "    credit_history property_area  applicant_income  co_application_income  \\\n",
       "72             yes    semi_urban              3500                    0.0   \n",
       "578            yes         rural              1782                 2232.0   \n",
       "330            yes         urban              4384                 1793.0   \n",
       "573            yes    semi_urban              6125                 1625.0   \n",
       "303            yes         urban              1625                 1803.0   \n",
       "\n",
       "     loan_amount  \n",
       "72          81.0  \n",
       "578        107.0  \n",
       "330        117.0  \n",
       "573        187.0  \n",
       "303         96.0  "
      ]
     },
     "execution_count": 447,
     "metadata": {},
     "output_type": "execute_result"
    }
   ],
   "source": [
    "X_train.head()"
   ]
  },
  {
   "cell_type": "code",
   "execution_count": 449,
   "id": "eb87bb45",
   "metadata": {},
   "outputs": [],
   "source": [
    "numeric_preprocessor = Pipeline(\n",
    "    steps=[\n",
    "        (\"imputation_median\", MeanMedianImputer(imputation_method='median', variables=num_missing)),\n",
    "    ]\n",
    ")\n",
    "\n",
    "categorical_preprocessor = Pipeline(\n",
    "    steps=[\n",
    "        (\n",
    "            \"imputation_frequent\",\n",
    "            CategoricalImputer(imputation_method='frequent', variables=cat_missing),\n",
    "        ),\n",
    "        (\n",
    "            'rare_label_encoder', \n",
    "            RareLabelEncoder(tol=0.02, n_categories=8, variables=cat_cols_string_encoded, replace_with='rare')\n",
    "        )\n",
    "    ]\n",
    ")\n",
    "\n",
    "preprocessor = ColumnTransformer(\n",
    "    [\n",
    "        (\"categorical\", categorical_preprocessor, cat_cols_string_encoded),\n",
    "        (\"numerical\", numeric_preprocessor, num_columns + ordinal_columns),\n",
    "    ]\n",
    ")\n",
    "\n",
    "preprocessor_pipeline = Pipeline(\n",
    "    steps=[(\n",
    "        'preprocessor', preprocessor\n",
    "    )]\n",
    ")"
   ]
  },
  {
   "cell_type": "code",
   "execution_count": 450,
   "id": "3caa174a",
   "metadata": {},
   "outputs": [
    {
     "name": "stderr",
     "output_type": "stream",
     "text": [
      "/Users/bajajn/anaconda3/lib/python3.8/site-packages/feature_engine/encoding/rare_label.py:157: UserWarning: The number of unique categories for variable gender is less than that indicated in n_categories. Thus, all categories will be considered frequent\n",
      "  warnings.warn(\n",
      "/Users/bajajn/anaconda3/lib/python3.8/site-packages/feature_engine/encoding/rare_label.py:157: UserWarning: The number of unique categories for variable married is less than that indicated in n_categories. Thus, all categories will be considered frequent\n",
      "  warnings.warn(\n",
      "/Users/bajajn/anaconda3/lib/python3.8/site-packages/feature_engine/encoding/rare_label.py:157: UserWarning: The number of unique categories for variable dependents is less than that indicated in n_categories. Thus, all categories will be considered frequent\n",
      "  warnings.warn(\n",
      "/Users/bajajn/anaconda3/lib/python3.8/site-packages/feature_engine/encoding/rare_label.py:157: UserWarning: The number of unique categories for variable education is less than that indicated in n_categories. Thus, all categories will be considered frequent\n",
      "  warnings.warn(\n",
      "/Users/bajajn/anaconda3/lib/python3.8/site-packages/feature_engine/encoding/rare_label.py:157: UserWarning: The number of unique categories for variable self_employed is less than that indicated in n_categories. Thus, all categories will be considered frequent\n",
      "  warnings.warn(\n",
      "/Users/bajajn/anaconda3/lib/python3.8/site-packages/feature_engine/encoding/rare_label.py:157: UserWarning: The number of unique categories for variable credit_history is less than that indicated in n_categories. Thus, all categories will be considered frequent\n",
      "  warnings.warn(\n",
      "/Users/bajajn/anaconda3/lib/python3.8/site-packages/feature_engine/encoding/rare_label.py:157: UserWarning: The number of unique categories for variable property_area is less than that indicated in n_categories. Thus, all categories will be considered frequent\n",
      "  warnings.warn(\n"
     ]
    }
   ],
   "source": [
    "X_train_imputed = preprocessor_pipeline.fit_transform(X_train)\n",
    "X_test_imputed = preprocessor_pipeline.transform(X_test)"
   ]
  },
  {
   "cell_type": "code",
   "execution_count": 451,
   "id": "ffdf2051",
   "metadata": {},
   "outputs": [],
   "source": [
    "X_train_dict = pd.DataFrame(data=X_train_imputed, columns=features).to_dict(orient='records')\n",
    "X_test_dict = pd.DataFrame(data=X_test_imputed, columns=features).to_dict(orient='records')\n",
    "\n",
    "# Apply the dictvectorizor to one hot encode\n",
    "dv = DictVectorizer(sparse=False)\n",
    "X_train_transformed = dv.fit_transform(X_train_dict)\n",
    "X_test_transformed = dv.transform(X_test_dict)"
   ]
  },
  {
   "cell_type": "code",
   "execution_count": 452,
   "id": "83857f24",
   "metadata": {},
   "outputs": [
    {
     "name": "stdout",
     "output_type": "stream",
     "text": [
      "Decision tree optimised\n",
      "Getting the best params which are {'class_weight': 'balanced', 'criterion': 'gini', 'max_depth': 5, 'max_features': 'sqrt', 'min_samples_leaf': 20, 'random_state': 0}\n",
      "Training roc is 0.7781658456235607, and testing roc is 0.769889840881273 \n",
      "         training accuracy is 0.7590579710144928, testing_acc as 0.6612903225806451\n"
     ]
    }
   ],
   "source": [
    "# Training the model using cross validation to ensure model is generalisable and can be used in a good setting\n",
    "d_param_grid = {\n",
    "    'max_features': [None, 'sqrt', 'log2'],\n",
    "    'max_depth' : [4,5,6,7,8,10,20],\n",
    "    'min_samples_leaf' : [1,3,5,10,15,20,25,30],\n",
    "    'criterion' : ['gini', 'entropy'],\n",
    "    'random_state' : [0], \n",
    "    'class_weight' : ['balanced', None]\n",
    "}\n",
    "d_clf = DecisionTreeClassifier()\n",
    "\n",
    "\n",
    "# Training the models\n",
    "d_clf_cv = GridSearchCV(estimator=d_clf, param_grid=d_param_grid, cv=5, scoring='roc_auc')\n",
    "d_clf_cv.fit(X_train_transformed, y_train)\n",
    "\n",
    "print(\"Decision tree optimised\")\n",
    "\n",
    "\n",
    "d_best_params = d_clf_cv.best_params_\n",
    "\n",
    "print(f\"Getting the best params which are {d_best_params}\")\n",
    "\n",
    "model = DecisionTreeClassifier(**d_best_params)\n",
    "model.fit(X_train_transformed, y_train)\n",
    "\n",
    "training_predictions_prob = model.predict_proba(X_train_transformed)\n",
    "testing_predictions_prob = model.predict_proba(X_test_transformed)\n",
    "\n",
    "training_predictions = model.predict(X_train_transformed)\n",
    "testing_predictions = model.predict(X_test_transformed)\n",
    "\n",
    "training_roc_auc = roc_auc_score(y_train, training_predictions_prob[:,1])\n",
    "testing_roc_auc = roc_auc_score(y_test, testing_predictions_prob[:,1])\n",
    "\n",
    "training_acc = accuracy_score(y_train, training_predictions)\n",
    "testing_acc = accuracy_score(y_test, testing_predictions)\n",
    "\n",
    "print(f\"Training roc is {training_roc_auc}, and testing roc is {testing_roc_auc} \\n \\\n",
    "        training accuracy is {training_acc}, testing_acc as {testing_acc}\")"
   ]
  },
  {
   "cell_type": "code",
   "execution_count": 453,
   "id": "d4fe166d",
   "metadata": {},
   "outputs": [
    {
     "data": {
      "text/plain": [
       "['applicant_income',\n",
       " 'co_application_income',\n",
       " 'credit_history=no',\n",
       " 'credit_history=yes',\n",
       " 'dependents=0',\n",
       " 'dependents=1',\n",
       " 'dependents=2',\n",
       " 'dependents=3+',\n",
       " 'education=graduate',\n",
       " 'education=not_graduate',\n",
       " 'gender=female',\n",
       " 'gender=male',\n",
       " 'loan_amount',\n",
       " 'loan_amount_term=month_15',\n",
       " 'loan_amount_term=month_25',\n",
       " 'loan_amount_term=month_30',\n",
       " 'loan_amount_term=month_40',\n",
       " 'loan_amount_term=rare',\n",
       " 'married=no',\n",
       " 'married=yes',\n",
       " 'property_area=rural',\n",
       " 'property_area=semi_urban',\n",
       " 'property_area=urban',\n",
       " 'self_employed=no',\n",
       " 'self_employed=yes']"
      ]
     },
     "execution_count": 453,
     "metadata": {},
     "output_type": "execute_result"
    }
   ],
   "source": [
    "dv.get_feature_names()"
   ]
  }
 ],
 "metadata": {
  "kernelspec": {
   "display_name": "Python 3 (ipykernel)",
   "language": "python",
   "name": "python3"
  },
  "language_info": {
   "codemirror_mode": {
    "name": "ipython",
    "version": 3
   },
   "file_extension": ".py",
   "mimetype": "text/x-python",
   "name": "python",
   "nbconvert_exporter": "python",
   "pygments_lexer": "ipython3",
   "version": "3.8.8"
  }
 },
 "nbformat": 4,
 "nbformat_minor": 5
}
