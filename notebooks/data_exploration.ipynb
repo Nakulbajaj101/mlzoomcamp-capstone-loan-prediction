{
 "cells": [
  {
   "cell_type": "code",
   "execution_count": 166,
   "id": "79d818dc",
   "metadata": {},
   "outputs": [],
   "source": [
    "import pandas as pd\n",
    "import numpy as np\n",
    "import missingno as msno\n",
    "import matplotlib.pyplot as plt"
   ]
  },
  {
   "cell_type": "markdown",
   "id": "89b88485",
   "metadata": {},
   "source": [
    "## Intro to dataset \n",
    "\n",
    "What is the problem? For loan provider it is important to ensure that people who get the loan can make the payment and don't default, however it is equally important that people are not denied a loan due to a model trained on poor quality data. \n",
    "\n",
    "We will read the data using pandas `read_csv` method"
   ]
  },
  {
   "cell_type": "code",
   "execution_count": 167,
   "id": "3d2ac6f3",
   "metadata": {},
   "outputs": [
    {
     "data": {
      "text/html": [
       "<div>\n",
       "<style scoped>\n",
       "    .dataframe tbody tr th:only-of-type {\n",
       "        vertical-align: middle;\n",
       "    }\n",
       "\n",
       "    .dataframe tbody tr th {\n",
       "        vertical-align: top;\n",
       "    }\n",
       "\n",
       "    .dataframe thead th {\n",
       "        text-align: right;\n",
       "    }\n",
       "</style>\n",
       "<table border=\"1\" class=\"dataframe\">\n",
       "  <thead>\n",
       "    <tr style=\"text-align: right;\">\n",
       "      <th></th>\n",
       "      <th>0</th>\n",
       "      <th>1</th>\n",
       "      <th>2</th>\n",
       "      <th>3</th>\n",
       "      <th>4</th>\n",
       "    </tr>\n",
       "  </thead>\n",
       "  <tbody>\n",
       "    <tr>\n",
       "      <th>Loan_ID</th>\n",
       "      <td>LP001002</td>\n",
       "      <td>LP001003</td>\n",
       "      <td>LP001005</td>\n",
       "      <td>LP001006</td>\n",
       "      <td>LP001008</td>\n",
       "    </tr>\n",
       "    <tr>\n",
       "      <th>Gender</th>\n",
       "      <td>Male</td>\n",
       "      <td>Male</td>\n",
       "      <td>Male</td>\n",
       "      <td>Male</td>\n",
       "      <td>Male</td>\n",
       "    </tr>\n",
       "    <tr>\n",
       "      <th>Married</th>\n",
       "      <td>No</td>\n",
       "      <td>Yes</td>\n",
       "      <td>Yes</td>\n",
       "      <td>Yes</td>\n",
       "      <td>No</td>\n",
       "    </tr>\n",
       "    <tr>\n",
       "      <th>Dependents</th>\n",
       "      <td>0</td>\n",
       "      <td>1</td>\n",
       "      <td>0</td>\n",
       "      <td>0</td>\n",
       "      <td>0</td>\n",
       "    </tr>\n",
       "    <tr>\n",
       "      <th>Education</th>\n",
       "      <td>Graduate</td>\n",
       "      <td>Graduate</td>\n",
       "      <td>Graduate</td>\n",
       "      <td>Not Graduate</td>\n",
       "      <td>Graduate</td>\n",
       "    </tr>\n",
       "    <tr>\n",
       "      <th>Self_Employed</th>\n",
       "      <td>No</td>\n",
       "      <td>No</td>\n",
       "      <td>Yes</td>\n",
       "      <td>No</td>\n",
       "      <td>No</td>\n",
       "    </tr>\n",
       "    <tr>\n",
       "      <th>ApplicantIncome</th>\n",
       "      <td>5849</td>\n",
       "      <td>4583</td>\n",
       "      <td>3000</td>\n",
       "      <td>2583</td>\n",
       "      <td>6000</td>\n",
       "    </tr>\n",
       "    <tr>\n",
       "      <th>CoapplicantIncome</th>\n",
       "      <td>0.0</td>\n",
       "      <td>1508.0</td>\n",
       "      <td>0.0</td>\n",
       "      <td>2358.0</td>\n",
       "      <td>0.0</td>\n",
       "    </tr>\n",
       "    <tr>\n",
       "      <th>LoanAmount</th>\n",
       "      <td>NaN</td>\n",
       "      <td>128.0</td>\n",
       "      <td>66.0</td>\n",
       "      <td>120.0</td>\n",
       "      <td>141.0</td>\n",
       "    </tr>\n",
       "    <tr>\n",
       "      <th>Loan_Amount_Term</th>\n",
       "      <td>360.0</td>\n",
       "      <td>360.0</td>\n",
       "      <td>360.0</td>\n",
       "      <td>360.0</td>\n",
       "      <td>360.0</td>\n",
       "    </tr>\n",
       "    <tr>\n",
       "      <th>Credit_History</th>\n",
       "      <td>1.0</td>\n",
       "      <td>1.0</td>\n",
       "      <td>1.0</td>\n",
       "      <td>1.0</td>\n",
       "      <td>1.0</td>\n",
       "    </tr>\n",
       "    <tr>\n",
       "      <th>Property_Area</th>\n",
       "      <td>Urban</td>\n",
       "      <td>Rural</td>\n",
       "      <td>Urban</td>\n",
       "      <td>Urban</td>\n",
       "      <td>Urban</td>\n",
       "    </tr>\n",
       "    <tr>\n",
       "      <th>Loan_Status</th>\n",
       "      <td>Y</td>\n",
       "      <td>N</td>\n",
       "      <td>Y</td>\n",
       "      <td>Y</td>\n",
       "      <td>Y</td>\n",
       "    </tr>\n",
       "  </tbody>\n",
       "</table>\n",
       "</div>"
      ],
      "text/plain": [
       "                          0         1         2             3         4\n",
       "Loan_ID            LP001002  LP001003  LP001005      LP001006  LP001008\n",
       "Gender                 Male      Male      Male          Male      Male\n",
       "Married                  No       Yes       Yes           Yes        No\n",
       "Dependents                0         1         0             0         0\n",
       "Education          Graduate  Graduate  Graduate  Not Graduate  Graduate\n",
       "Self_Employed            No        No       Yes            No        No\n",
       "ApplicantIncome        5849      4583      3000          2583      6000\n",
       "CoapplicantIncome       0.0    1508.0       0.0        2358.0       0.0\n",
       "LoanAmount              NaN     128.0      66.0         120.0     141.0\n",
       "Loan_Amount_Term      360.0     360.0     360.0         360.0     360.0\n",
       "Credit_History          1.0       1.0       1.0           1.0       1.0\n",
       "Property_Area         Urban     Rural     Urban         Urban     Urban\n",
       "Loan_Status               Y         N         Y             Y         Y"
      ]
     },
     "execution_count": 167,
     "metadata": {},
     "output_type": "execute_result"
    }
   ],
   "source": [
    "# Reading the data\n",
    "df = pd.read_csv('../dataset/loan_prediction.csv')\n",
    "\n",
    "\"\"\"Lets check the first 5 rows of the dataset. By adding the T at the end the column names will be represented as rows \n",
    "and the first 5 rows will be represented as columns\"\"\"\n",
    "df.head().T"
   ]
  },
  {
   "cell_type": "code",
   "execution_count": 168,
   "id": "494ef8d2",
   "metadata": {},
   "outputs": [
    {
     "data": {
      "text/html": [
       "<div>\n",
       "<style scoped>\n",
       "    .dataframe tbody tr th:only-of-type {\n",
       "        vertical-align: middle;\n",
       "    }\n",
       "\n",
       "    .dataframe tbody tr th {\n",
       "        vertical-align: top;\n",
       "    }\n",
       "\n",
       "    .dataframe thead th {\n",
       "        text-align: right;\n",
       "    }\n",
       "</style>\n",
       "<table border=\"1\" class=\"dataframe\">\n",
       "  <thead>\n",
       "    <tr style=\"text-align: right;\">\n",
       "      <th></th>\n",
       "      <th>ApplicantIncome</th>\n",
       "      <th>CoapplicantIncome</th>\n",
       "      <th>LoanAmount</th>\n",
       "      <th>Loan_Amount_Term</th>\n",
       "      <th>Credit_History</th>\n",
       "    </tr>\n",
       "  </thead>\n",
       "  <tbody>\n",
       "    <tr>\n",
       "      <th>count</th>\n",
       "      <td>614.000000</td>\n",
       "      <td>614.000000</td>\n",
       "      <td>592.000000</td>\n",
       "      <td>600.00000</td>\n",
       "      <td>564.000000</td>\n",
       "    </tr>\n",
       "    <tr>\n",
       "      <th>mean</th>\n",
       "      <td>5403.459283</td>\n",
       "      <td>1621.245798</td>\n",
       "      <td>146.412162</td>\n",
       "      <td>342.00000</td>\n",
       "      <td>0.842199</td>\n",
       "    </tr>\n",
       "    <tr>\n",
       "      <th>std</th>\n",
       "      <td>6109.041673</td>\n",
       "      <td>2926.248369</td>\n",
       "      <td>85.587325</td>\n",
       "      <td>65.12041</td>\n",
       "      <td>0.364878</td>\n",
       "    </tr>\n",
       "    <tr>\n",
       "      <th>min</th>\n",
       "      <td>150.000000</td>\n",
       "      <td>0.000000</td>\n",
       "      <td>9.000000</td>\n",
       "      <td>12.00000</td>\n",
       "      <td>0.000000</td>\n",
       "    </tr>\n",
       "    <tr>\n",
       "      <th>25%</th>\n",
       "      <td>2877.500000</td>\n",
       "      <td>0.000000</td>\n",
       "      <td>100.000000</td>\n",
       "      <td>360.00000</td>\n",
       "      <td>1.000000</td>\n",
       "    </tr>\n",
       "    <tr>\n",
       "      <th>50%</th>\n",
       "      <td>3812.500000</td>\n",
       "      <td>1188.500000</td>\n",
       "      <td>128.000000</td>\n",
       "      <td>360.00000</td>\n",
       "      <td>1.000000</td>\n",
       "    </tr>\n",
       "    <tr>\n",
       "      <th>75%</th>\n",
       "      <td>5795.000000</td>\n",
       "      <td>2297.250000</td>\n",
       "      <td>168.000000</td>\n",
       "      <td>360.00000</td>\n",
       "      <td>1.000000</td>\n",
       "    </tr>\n",
       "    <tr>\n",
       "      <th>max</th>\n",
       "      <td>81000.000000</td>\n",
       "      <td>41667.000000</td>\n",
       "      <td>700.000000</td>\n",
       "      <td>480.00000</td>\n",
       "      <td>1.000000</td>\n",
       "    </tr>\n",
       "  </tbody>\n",
       "</table>\n",
       "</div>"
      ],
      "text/plain": [
       "       ApplicantIncome  CoapplicantIncome  LoanAmount  Loan_Amount_Term  \\\n",
       "count       614.000000         614.000000  592.000000         600.00000   \n",
       "mean       5403.459283        1621.245798  146.412162         342.00000   \n",
       "std        6109.041673        2926.248369   85.587325          65.12041   \n",
       "min         150.000000           0.000000    9.000000          12.00000   \n",
       "25%        2877.500000           0.000000  100.000000         360.00000   \n",
       "50%        3812.500000        1188.500000  128.000000         360.00000   \n",
       "75%        5795.000000        2297.250000  168.000000         360.00000   \n",
       "max       81000.000000       41667.000000  700.000000         480.00000   \n",
       "\n",
       "       Credit_History  \n",
       "count      564.000000  \n",
       "mean         0.842199  \n",
       "std          0.364878  \n",
       "min          0.000000  \n",
       "25%          1.000000  \n",
       "50%          1.000000  \n",
       "75%          1.000000  \n",
       "max          1.000000  "
      ]
     },
     "execution_count": 168,
     "metadata": {},
     "output_type": "execute_result"
    }
   ],
   "source": [
    "# Lets also look at the high level stats of the dataset\n",
    "df.describe()"
   ]
  },
  {
   "cell_type": "code",
   "execution_count": 169,
   "id": "cbcd9dc3",
   "metadata": {},
   "outputs": [],
   "source": [
    "# Lets explore the distribution of all numerical columns.\n",
    "# We will first extract the id column and the target column\n",
    "id_col = 'Loan_ID'\n",
    "target = 'Loan_Status'\n",
    "cat_cols = [cols for cols in df if df[cols].dtype == 'object' and cols not in [id_col, target]]\n",
    "num_cols = [cols for cols in df if cols not in cat_cols + [id_col, target]]"
   ]
  },
  {
   "cell_type": "code",
   "execution_count": 170,
   "id": "b5d9ba37",
   "metadata": {},
   "outputs": [
    {
     "data": {
      "image/png": "[encoded data removed]",
      "text/plain": [
       "<Figure size 576x1440 with 5 Axes>"
      ]
     },
     "metadata": {
      "needs_background": "light"
     },
     "output_type": "display_data"
    }
   ],
   "source": [
    "# Plotting distribution\n",
    "fig, ax = plt.subplots(nrows=len(num_cols), ncols=1, figsize=(8,20))\n",
    "for cols, plot in zip(num_cols, ax):\n",
    "    plot.hist(x=df[cols], bins=10, label=f\"{cols}\")\n",
    "    plot.legend()"
   ]
  },
  {
   "cell_type": "code",
   "execution_count": 171,
   "id": "cc05771c",
   "metadata": {},
   "outputs": [],
   "source": [
    "# The Loan amount is scaled down and represented in 1000s, we should either scale this up or scale ApplicationIncome and Coapplicationincome down\n",
    "df.LoanAmount = df.LoanAmount*1000"
   ]
  },
  {
   "cell_type": "code",
   "execution_count": 172,
   "id": "a571ba39",
   "metadata": {},
   "outputs": [
    {
     "data": {
      "image/png": "[encoded data removed]",
      "text/plain": [
       "<Figure size 576x1440 with 5 Axes>"
      ]
     },
     "metadata": {
      "needs_background": "light"
     },
     "output_type": "display_data"
    }
   ],
   "source": [
    "# Plotting distribution\n",
    "fig, ax = plt.subplots(nrows=len(num_cols), ncols=1, figsize=(8,20))\n",
    "for cols, plot in zip(num_cols, ax):\n",
    "    plot.hist(x=df[cols], bins=10, label=f\"{cols}\")\n",
    "    plot.legend()"
   ]
  },
  {
   "cell_type": "code",
   "execution_count": 173,
   "id": "e4545871",
   "metadata": {},
   "outputs": [
    {
     "name": "stdout",
     "output_type": "stream",
     "text": [
      "ApplicantIncome has n unique values compared to total values of 614\n",
      "505\n",
      "\n",
      "CoapplicantIncome has n unique values compared to total values of 614\n",
      "287\n",
      "\n",
      "LoanAmount has n unique values compared to total values of 614\n",
      "203\n",
      "\n",
      "Loan_Amount_Term has n unique values compared to total values of 614\n",
      "10\n",
      "\n",
      "Credit_History has n unique values compared to total values of 614\n",
      "2\n",
      "\n"
     ]
    }
   ],
   "source": [
    "# Lets also check some numerical values have few unique values, then can be converted into categorical\n",
    "for cols in num_cols:\n",
    "    print(f\"{cols} has n unique values compared to total values of {df.shape[0]}\")\n",
    "    print(df[cols].nunique())\n",
    "    print()"
   ]
  },
  {
   "cell_type": "code",
   "execution_count": 174,
   "id": "9c26f539",
   "metadata": {},
   "outputs": [],
   "source": [
    "# Its clear that the Loan_Amount_Term and Credit_History can be converted into categorical columns"
   ]
  },
  {
   "cell_type": "code",
   "execution_count": 175,
   "id": "65236edc",
   "metadata": {},
   "outputs": [
    {
     "name": "stdout",
     "output_type": "stream",
     "text": [
      "[360. 120. 240.  nan 180.  60. 300. 480.  36.  84.  12.]\n",
      "\n",
      "[ 1.  0. nan]\n"
     ]
    }
   ],
   "source": [
    "# Lets explore these and convert them\n",
    "print(df.Loan_Amount_Term.unique())\n",
    "# The loan amount term is in number of months\n",
    "print()\n",
    "print(df.Credit_History.unique())\n",
    "# Credit history is in binary so can be converted into Yes or No\n"
   ]
  },
  {
   "cell_type": "code",
   "execution_count": 176,
   "id": "10f4fd1e",
   "metadata": {},
   "outputs": [],
   "source": [
    "# Since NaNs cannot be converted to integers, hence we will leave missing value as is\n",
    "df.Loan_Amount_Term = df.Loan_Amount_Term.apply(lambda val: f'Month_{str(int(val/12))}' if str(val) != 'nan'  else val)"
   ]
  },
  {
   "cell_type": "code",
   "execution_count": 177,
   "id": "56a0e612",
   "metadata": {},
   "outputs": [],
   "source": [
    "# Creating the mapping for the credit history column and making it categorical\n",
    "df.Credit_History = df.Credit_History.map({\n",
    "    1.0: 'Yes',\n",
    "    0.0: 'No'\n",
    "})"
   ]
  },
  {
   "cell_type": "code",
   "execution_count": 178,
   "id": "88794bd6",
   "metadata": {},
   "outputs": [],
   "source": [
    "# We will re run these as we have made some categorical\n",
    "cat_cols = [cols for cols in df if df[cols].dtype == 'object' and cols not in [id_col, target]]\n",
    "num_cols = [cols for cols in df if cols not in cat_cols + [id_col, target]]"
   ]
  },
  {
   "cell_type": "code",
   "execution_count": 179,
   "id": "e1f727eb",
   "metadata": {},
   "outputs": [],
   "source": [
    "# The column names are inconsistent, lets make them clean"
   ]
  },
  {
   "cell_type": "code",
   "execution_count": 180,
   "id": "668ea9d8",
   "metadata": {},
   "outputs": [
    {
     "name": "stdout",
     "output_type": "stream",
     "text": [
      "['Loan_ID', 'Gender', 'Married', 'Dependents', 'Education', 'Self_Employed', 'ApplicantIncome', 'CoapplicantIncome', 'LoanAmount', 'Loan_Amount_Term', 'Credit_History', 'Property_Area', 'Loan_Status']\n"
     ]
    }
   ],
   "source": [
    "#Getting the column names\n",
    "column_names = [cols for cols in df]\n",
    "print(column_names)"
   ]
  },
  {
   "cell_type": "code",
   "execution_count": 181,
   "id": "020dec12",
   "metadata": {},
   "outputs": [],
   "source": [
    "# We will now update the column names by adding underscore in long column names\n",
    "df = df.rename(columns={'ApplicantIncome':'Applicant_Income', \n",
    "                        \"CoapplicantIncome\":\"Co_Application_Income\", \n",
    "                        \"LoanAmount\":\"Loan_Amount\"}\n",
    "              )"
   ]
  },
  {
   "cell_type": "code",
   "execution_count": 182,
   "id": "6f0ddbe5",
   "metadata": {},
   "outputs": [
    {
     "name": "stdout",
     "output_type": "stream",
     "text": [
      "['loan_id', 'gender', 'married', 'dependents', 'education', 'self_employed', 'applicant_income', 'co_application_income', 'loan_amount', 'loan_amount_term', 'credit_history', 'property_area', 'loan_status']\n"
     ]
    }
   ],
   "source": [
    "# We will now make all columns lower case and in the next step update the columns\n",
    "print([cols.lower() for cols in df])"
   ]
  },
  {
   "cell_type": "code",
   "execution_count": 183,
   "id": "8769ce5a",
   "metadata": {},
   "outputs": [
    {
     "name": "stdout",
     "output_type": "stream",
     "text": [
      "Index(['loan_id', 'gender', 'married', 'dependents', 'education',\n",
      "       'self_employed', 'applicant_income', 'co_application_income',\n",
      "       'loan_amount', 'loan_amount_term', 'credit_history', 'property_area',\n",
      "       'loan_status'],\n",
      "      dtype='object')\n"
     ]
    }
   ],
   "source": [
    "# Putting it together and updating the column names\n",
    "df.columns = [cols.lower() for cols in df]\n",
    "print(df.columns)"
   ]
  },
  {
   "cell_type": "markdown",
   "id": "a9be16f3",
   "metadata": {},
   "source": [
    "Within the data we can also see some categorical columns have data in in camel case and some data is separated by spaces and other times is separated by underscores. For instance `Gender` column has data in camel case, where the first letter is Upper and remaining characters are lower. Sometimes we can have inconsistencies within the same column. What happens if gender column has two distinct values for male customers, `Male` and `male`. If we don't treat this, then our machine learning model will consider `male` data points separate to `Male`, and the model will not get an accurate signal. We also have a education column, where data value of `Not Graduate` is separated by space. To ensure data consitency we must convert all data to lower case and replace spaces with underscores"
   ]
  },
  {
   "cell_type": "code",
   "execution_count": 184,
   "id": "718586a9",
   "metadata": {},
   "outputs": [],
   "source": [
    "id_col = 'loan_id'\n",
    "target = 'loan_status'\n",
    "cat_cols = [cols for cols in df if df[cols].dtype == 'object' and cols not in [id_col, target]]\n",
    "num_cols = [cols for cols in df if cols not in cat_cols + [id_col, target]]"
   ]
  },
  {
   "cell_type": "code",
   "execution_count": 185,
   "id": "778aba2b",
   "metadata": {},
   "outputs": [
    {
     "name": "stdout",
     "output_type": "stream",
     "text": [
      "Unique values for gender column are: \n",
      " ['Male' 'Female' nan] \n",
      "\n",
      "\n",
      "Unique values for married column are: \n",
      " ['No' 'Yes' nan] \n",
      "\n",
      "\n",
      "Unique values for dependents column are: \n",
      " ['0' '1' '2' '3+' nan] \n",
      "\n",
      "\n",
      "Unique values for education column are: \n",
      " ['Graduate' 'Not Graduate'] \n",
      "\n",
      "\n",
      "Unique values for self_employed column are: \n",
      " ['No' 'Yes' nan] \n",
      "\n",
      "\n",
      "Unique values for loan_amount_term column are: \n",
      " ['Month_30' 'Month_10' 'Month_20' nan 'Month_15' 'Month_5' 'Month_25'\n",
      " 'Month_40' 'Month_3' 'Month_7' 'Month_1'] \n",
      "\n",
      "\n",
      "Unique values for credit_history column are: \n",
      " ['Yes' 'No' nan] \n",
      "\n",
      "\n",
      "Unique values for property_area column are: \n",
      " ['Urban' 'Rural' 'Semiurban'] \n",
      "\n",
      "\n"
     ]
    }
   ],
   "source": [
    "# Lets iterate it over each categorical column and print the values\n",
    "for col in cat_cols:\n",
    "    print(f'Unique values for {col} column are: \\n {df[col].unique()} \\n\\n')"
   ]
  },
  {
   "cell_type": "code",
   "execution_count": 186,
   "id": "acaf75d8",
   "metadata": {},
   "outputs": [],
   "source": [
    "# We can see the graduate column has two values , if they are a graduate or not. We can change the column from education to graduate and change the mapping to Yes or No\n",
    "# Lets rename the columns and then lets apply \n",
    "df = df.rename(columns={'education':'graduate'})\n",
    "df.graduate = df.graduate.map({'Graduate': 'Yes', 'Not Graduate': 'No'})\n",
    "\n",
    "cat_cols = [cols for cols in df if df[cols].dtype == 'object' and cols not in [id_col, target]]\n",
    "num_cols = [cols for cols in df if cols not in cat_cols + [id_col, target]]"
   ]
  },
  {
   "cell_type": "code",
   "execution_count": 187,
   "id": "043b2e95",
   "metadata": {},
   "outputs": [],
   "source": [
    "# Lets make the rest of the data consistent\n",
    "def make_data_consistent(df, cols) -> pd.DataFrame:\n",
    "    \"\"\"Function to make data consistent and meaningful\"\"\"\n",
    "    \n",
    "    df = df.copy()\n",
    "    \n",
    "    for col in cols:\n",
    "           \n",
    "        # making all values lower case\n",
    "        df[col] = df[col].apply(lambda val: val.lower() if isinstance(val, str) else val)\n",
    "\n",
    "        # removing whitespace and '-' and replacing with '_'\n",
    "        df[col] = df[col].apply(lambda val: val.replace('-','_').replace(' ','_') if isinstance(val, str) else val)\n",
    "            \n",
    "    \n",
    "    # property_area column applying the custom update\n",
    "    df['property_area'] = df['property_area'].map({\n",
    "            'semiurban': 'semi_urban',\n",
    "            'rural': 'rural',\n",
    "            'urban': 'urban'\n",
    "            })\n",
    "    \n",
    "    return df\n",
    "    \n",
    "\n",
    "df = make_data_consistent(df=df, cols=cat_cols+[id_col, target])"
   ]
  },
  {
   "cell_type": "code",
   "execution_count": 188,
   "id": "a9ebb39e",
   "metadata": {
    "scrolled": false
   },
   "outputs": [
    {
     "name": "stdout",
     "output_type": "stream",
     "text": [
      "Unique values for gender column are: \n",
      " ['male' 'female' nan] \n",
      "\n",
      "\n",
      "Unique values for married column are: \n",
      " ['no' 'yes' nan] \n",
      "\n",
      "\n",
      "Unique values for dependents column are: \n",
      " ['0' '1' '2' '3+' nan] \n",
      "\n",
      "\n",
      "Unique values for graduate column are: \n",
      " ['yes' 'no'] \n",
      "\n",
      "\n",
      "Unique values for self_employed column are: \n",
      " ['no' 'yes' nan] \n",
      "\n",
      "\n",
      "Unique values for loan_amount_term column are: \n",
      " ['month_30' 'month_10' 'month_20' nan 'month_15' 'month_5' 'month_25'\n",
      " 'month_40' 'month_3' 'month_7' 'month_1'] \n",
      "\n",
      "\n",
      "Unique values for credit_history column are: \n",
      " ['yes' 'no' nan] \n",
      "\n",
      "\n",
      "Unique values for property_area column are: \n",
      " ['urban' 'rural' 'semi_urban'] \n",
      "\n",
      "\n"
     ]
    }
   ],
   "source": [
    "# Lets iterate it over each categorical column and print the values\n",
    "for col in cat_cols:\n",
    "    print(f'Unique values for {col} column are: \\n {df[col].unique()} \\n\\n')"
   ]
  },
  {
   "cell_type": "code",
   "execution_count": 190,
   "id": "cfe712b5",
   "metadata": {},
   "outputs": [],
   "source": [
    "# We can now convert all yes and no to 1 and 0, and binary encode these\n",
    "binary_cols = ['married', 'graduate', 'credit_history', 'self_employed']\n",
    "for cols in binary_cols:\n",
    "    df[cols] = df[cols].map({\"yes\":1, \"no\":0})"
   ]
  },
  {
   "cell_type": "code",
   "execution_count": 191,
   "id": "81e8fd9c",
   "metadata": {},
   "outputs": [
    {
     "data": {
      "text/plain": [
       "loan_id                   0\n",
       "gender                   13\n",
       "married                   3\n",
       "dependents               15\n",
       "graduate                  0\n",
       "self_employed            32\n",
       "applicant_income          0\n",
       "co_application_income     0\n",
       "loan_amount              22\n",
       "loan_amount_term         14\n",
       "credit_history           50\n",
       "property_area             0\n",
       "loan_status               0\n",
       "dtype: int64"
      ]
     },
     "execution_count": 191,
     "metadata": {},
     "output_type": "execute_result"
    }
   ],
   "source": [
    "df.isnull().sum()"
   ]
  },
  {
   "cell_type": "markdown",
   "id": "60e88785",
   "metadata": {},
   "source": [
    "# 2. Handling Missing Values\n",
    "Now we have achieved consistency with the data, its now time to identify other quality issues with the data and address those issues. One such issue is missing information in the data. Missing data are common problems with real data sets. As the dataset size increases, chance of data points missing in the data increases. "
   ]
  },
  {
   "cell_type": "code",
   "execution_count": 192,
   "id": "1bbbc042",
   "metadata": {},
   "outputs": [
    {
     "name": "stdout",
     "output_type": "stream",
     "text": [
      "By dropping all missing data, only 480 records will be left out of 614, a reduction by 21.824%\n"
     ]
    }
   ],
   "source": [
    "# Percentage of data left by dropping all the missing data\n",
    "remaining_rows = df.dropna(axis=0).shape[0]\n",
    "total_records = df.shape[0]\n",
    "perc_dropped = ((total_records - remaining_rows)/total_records)*100\n",
    "\n",
    "print(\"By dropping all missing data, only {:,} records will be left out of {:,}, a reduction by {:,.3f}%\".format(remaining_rows, total_records, perc_dropped))"
   ]
  },
  {
   "cell_type": "markdown",
   "id": "cfd822bc",
   "metadata": {},
   "source": [
    "Since 21% is one-third of the dataset, is not a feasible method. Hence, in this section we will explore how to identify missing data, uncover patters or reasons of data being missing and discover techinuqes for handling missing data, so dataset can be used for machine learning"
   ]
  },
  {
   "cell_type": "code",
   "execution_count": 194,
   "id": "6c0d4dec",
   "metadata": {},
   "outputs": [
    {
     "name": "stdout",
     "output_type": "stream",
     "text": [
      "<class 'pandas.core.frame.DataFrame'>\n",
      "RangeIndex: 614 entries, 0 to 613\n",
      "Data columns (total 13 columns):\n",
      " #   Column                 Non-Null Count  Dtype  \n",
      "---  ------                 --------------  -----  \n",
      " 0   loan_id                614 non-null    object \n",
      " 1   gender                 601 non-null    object \n",
      " 2   married                611 non-null    float64\n",
      " 3   dependents             599 non-null    object \n",
      " 4   graduate               614 non-null    int64  \n",
      " 5   self_employed          582 non-null    float64\n",
      " 6   applicant_income       614 non-null    int64  \n",
      " 7   co_application_income  614 non-null    float64\n",
      " 8   loan_amount            592 non-null    float64\n",
      " 9   loan_amount_term       600 non-null    object \n",
      " 10  credit_history         564 non-null    float64\n",
      " 11  property_area          614 non-null    object \n",
      " 12  loan_status            614 non-null    object \n",
      "dtypes: float64(5), int64(2), object(6)\n",
      "memory usage: 62.5+ KB\n"
     ]
    }
   ],
   "source": [
    "# To check if data is missing in the dataset, pandas provides a convenice method .info(). The method shows amongst the total records, how many are missing per column\n",
    "\n",
    "df.info()\n",
    "\n",
    "# Amongst the total records of 614, credit history has the lowest of 564"
   ]
  },
  {
   "cell_type": "code",
   "execution_count": 195,
   "id": "34ec8365",
   "metadata": {},
   "outputs": [
    {
     "data": {
      "text/plain": [
       "loan_id                   0\n",
       "gender                   13\n",
       "married                   3\n",
       "dependents               15\n",
       "graduate                  0\n",
       "self_employed            32\n",
       "applicant_income          0\n",
       "co_application_income     0\n",
       "loan_amount              22\n",
       "loan_amount_term         14\n",
       "credit_history           50\n",
       "property_area             0\n",
       "loan_status               0\n",
       "dtype: int64"
      ]
     },
     "execution_count": 195,
     "metadata": {},
     "output_type": "execute_result"
    }
   ],
   "source": [
    "# Pandas has another convenience method .isnull() to check which row has missing information for a column and which one doesnt. By applying .sum(), we can get total number of missing records for each column.\n",
    "df.isnull().sum()\n"
   ]
  },
  {
   "cell_type": "code",
   "execution_count": 197,
   "id": "e66fbd21",
   "metadata": {},
   "outputs": [
    {
     "data": {
      "text/html": [
       "<div>\n",
       "<style scoped>\n",
       "    .dataframe tbody tr th:only-of-type {\n",
       "        vertical-align: middle;\n",
       "    }\n",
       "\n",
       "    .dataframe tbody tr th {\n",
       "        vertical-align: top;\n",
       "    }\n",
       "\n",
       "    .dataframe thead th {\n",
       "        text-align: right;\n",
       "    }\n",
       "</style>\n",
       "<table border=\"1\" class=\"dataframe\">\n",
       "  <thead>\n",
       "    <tr style=\"text-align: right;\">\n",
       "      <th></th>\n",
       "      <th>columm_name</th>\n",
       "      <th>perc_missing</th>\n",
       "    </tr>\n",
       "  </thead>\n",
       "  <tbody>\n",
       "    <tr>\n",
       "      <th>6</th>\n",
       "      <td>credit_history</td>\n",
       "      <td>8.143</td>\n",
       "    </tr>\n",
       "    <tr>\n",
       "      <th>4</th>\n",
       "      <td>self_employed</td>\n",
       "      <td>5.212</td>\n",
       "    </tr>\n",
       "    <tr>\n",
       "      <th>10</th>\n",
       "      <td>loan_amount</td>\n",
       "      <td>3.583</td>\n",
       "    </tr>\n",
       "    <tr>\n",
       "      <th>2</th>\n",
       "      <td>dependents</td>\n",
       "      <td>2.443</td>\n",
       "    </tr>\n",
       "    <tr>\n",
       "      <th>5</th>\n",
       "      <td>loan_amount_term</td>\n",
       "      <td>2.280</td>\n",
       "    </tr>\n",
       "    <tr>\n",
       "      <th>0</th>\n",
       "      <td>gender</td>\n",
       "      <td>2.117</td>\n",
       "    </tr>\n",
       "    <tr>\n",
       "      <th>1</th>\n",
       "      <td>married</td>\n",
       "      <td>0.489</td>\n",
       "    </tr>\n",
       "    <tr>\n",
       "      <th>3</th>\n",
       "      <td>graduate</td>\n",
       "      <td>0.000</td>\n",
       "    </tr>\n",
       "    <tr>\n",
       "      <th>7</th>\n",
       "      <td>property_area</td>\n",
       "      <td>0.000</td>\n",
       "    </tr>\n",
       "    <tr>\n",
       "      <th>8</th>\n",
       "      <td>applicant_income</td>\n",
       "      <td>0.000</td>\n",
       "    </tr>\n",
       "    <tr>\n",
       "      <th>9</th>\n",
       "      <td>co_application_income</td>\n",
       "      <td>0.000</td>\n",
       "    </tr>\n",
       "  </tbody>\n",
       "</table>\n",
       "</div>"
      ],
      "text/plain": [
       "              columm_name  perc_missing\n",
       "6          credit_history         8.143\n",
       "4           self_employed         5.212\n",
       "10            loan_amount         3.583\n",
       "2              dependents         2.443\n",
       "5        loan_amount_term         2.280\n",
       "0                  gender         2.117\n",
       "1                 married         0.489\n",
       "3                graduate         0.000\n",
       "7           property_area         0.000\n",
       "8        applicant_income         0.000\n",
       "9   co_application_income         0.000"
      ]
     },
     "execution_count": 197,
     "metadata": {},
     "output_type": "execute_result"
    }
   ],
   "source": [
    "def missing_data_percentage(df: pd.DataFrame):\n",
    "    \"\"\"Function to print percentage of missing values\"\"\"\n",
    "    \n",
    "    df = df.copy()\n",
    "    \n",
    "    missing_data = df.isnull().sum()\n",
    "    total_records = df.shape[0]\n",
    "    \n",
    "    perc_missing = round((missing_data/total_records)*100, 3)\n",
    "    \n",
    "    missing_df = pd.DataFrame(data={'columm_name':perc_missing.index, 'perc_missing':perc_missing.values})\n",
    "    \n",
    "    return missing_df\n",
    "\n",
    "# By utilising percentages, it is easier to credit_history has the majority of data missing, 8.14%\n",
    "missing_data_percentage(df[cat_cols+num_cols]).sort_values(by='perc_missing', ascending=False)"
   ]
  },
  {
   "cell_type": "code",
   "execution_count": 199,
   "id": "4048196f",
   "metadata": {},
   "outputs": [
    {
     "data": {
      "text/plain": [
       "<AxesSubplot:>"
      ]
     },
     "execution_count": 199,
     "metadata": {},
     "output_type": "execute_result"
    },
    {
     "data": {
      "image/png": "[encoded data removed]",
      "text/plain": [
       "<Figure size 2520x1080 with 2 Axes>"
      ]
     },
     "metadata": {
      "needs_background": "light"
     },
     "output_type": "display_data"
    }
   ],
   "source": [
    "# Lets explore missing data\n",
    "msno.matrix(df[cat_cols+num_cols], figsize=(35, 15))"
   ]
  },
  {
   "cell_type": "markdown",
   "id": "9eb10555",
   "metadata": {},
   "source": [
    "Correlation heatmap measures nullity correlation between columns of the dataset. It shows how strongly the presence or absence of one feature affects the other.\n",
    "\n",
    "Nullity correlation ranges from(-1 to 1):\n",
    "\n",
    "- -1 means if one column(attribute) is present, the other is almost certainly absent.\n",
    "- 0 means there is no dependence between the columns(attributes).\n",
    "- 1 means if one column(attributes) is present, the other is also certainly present.\n",
    "Unlike in a familiar correlation heatmap, if you see here, many columns are missing. Those columns which are always full or always empty have no meaningful correlation and are removed from the visualization.\n",
    "\n",
    "The heatmap is helpful for identifying data completeness correlations between attribute pairs, but it has the limited explanatory ability for broader relationships and no special support for really big datasets."
   ]
  },
  {
   "cell_type": "code",
   "execution_count": 200,
   "id": "244f3a63",
   "metadata": {},
   "outputs": [
    {
     "data": {
      "text/plain": [
       "<AxesSubplot:>"
      ]
     },
     "execution_count": 200,
     "metadata": {},
     "output_type": "execute_result"
    },
    {
     "data": {
      "image/png": "[encoded data removed]",
      "text/plain": [
       "<Figure size 1440x864 with 2 Axes>"
      ]
     },
     "metadata": {
      "needs_background": "light"
     },
     "output_type": "display_data"
    }
   ],
   "source": [
    "msno.heatmap(df[cat_cols+num_cols], labels=True)"
   ]
  },
  {
   "cell_type": "markdown",
   "id": "80029598",
   "metadata": {},
   "source": [
    "From the above plot we can interpret relationships of missingness across few variables. There is a corralation of 0.4 between `dependents` and `married`, which makes sense as majority of times someone gets married first before having dependents. "
   ]
  },
  {
   "cell_type": "code",
   "execution_count": 202,
   "id": "56a0b1db",
   "metadata": {},
   "outputs": [
    {
     "data": {
      "text/plain": [
       "['loan_amount',\n",
       " 'gender',\n",
       " 'married',\n",
       " 'dependents',\n",
       " 'self_employed',\n",
       " 'loan_amount_term',\n",
       " 'credit_history']"
      ]
     },
     "execution_count": 202,
     "metadata": {},
     "output_type": "execute_result"
    }
   ],
   "source": [
    "# Lets check where columns with missing data are related to eech other\n",
    "missing_cols= [cols for cols in num_cols+cat_cols if df[cols].isnull().sum() > 0]\n",
    "missing_cols"
   ]
  },
  {
   "cell_type": "code",
   "execution_count": 203,
   "id": "e767d2ea",
   "metadata": {},
   "outputs": [
    {
     "data": {
      "text/plain": [
       "<AxesSubplot:>"
      ]
     },
     "execution_count": 203,
     "metadata": {},
     "output_type": "execute_result"
    },
    {
     "data": {
      "image/png": "[encoded data removed]",
      "text/plain": [
       "<Figure size 1800x720 with 1 Axes>"
      ]
     },
     "metadata": {
      "needs_background": "light"
     },
     "output_type": "display_data"
    }
   ],
   "source": [
    "msno.dendrogram(df[missing_cols])"
   ]
  },
  {
   "cell_type": "markdown",
   "id": "9269364a",
   "metadata": {},
   "source": [
    "The dendogram method uses hierarchical clustering, and groups attributes together where missingness is associated with missingness of another variable or completeness is associated with completeness of another variable. We interpret the dendrogram based on a top-down approach, i.e., to focus on the height at which any two columns are connected together with matters of nullity. More the height, less will be the relation and vice versa is also True. For example missingness or presence of data in `credit_history` have no relationship with missingness or completeness of any other variable."
   ]
  },
  {
   "cell_type": "code",
   "execution_count": 204,
   "id": "c8a1bdd9",
   "metadata": {},
   "outputs": [
    {
     "data": {
      "image/png": "[encoded data removed]",
      "text/plain": [
       "<Figure size 432x288 with 1 Axes>"
      ]
     },
     "metadata": {
      "needs_background": "light"
     },
     "output_type": "display_data"
    },
    {
     "data": {
      "image/png": "[encoded data removed]",
      "text/plain": [
       "<Figure size 432x288 with 1 Axes>"
      ]
     },
     "metadata": {
      "needs_background": "light"
     },
     "output_type": "display_data"
    },
    {
     "data": {
      "image/png": "[encoded data removed]",
      "text/plain": [
       "<Figure size 432x288 with 1 Axes>"
      ]
     },
     "metadata": {
      "needs_background": "light"
     },
     "output_type": "display_data"
    },
    {
     "data": {
      "image/png": "[encoded data removed]",
      "text/plain": [
       "<Figure size 432x288 with 1 Axes>"
      ]
     },
     "metadata": {
      "needs_background": "light"
     },
     "output_type": "display_data"
    },
    {
     "data": {
      "image/png": "[encoded data removed]",
      "text/plain": [
       "<Figure size 432x288 with 1 Axes>"
      ]
     },
     "metadata": {
      "needs_background": "light"
     },
     "output_type": "display_data"
    },
    {
     "data": {
      "image/png": "[encoded data removed]",
      "text/plain": [
       "<Figure size 432x288 with 1 Axes>"
      ]
     },
     "metadata": {
      "needs_background": "light"
     },
     "output_type": "display_data"
    }
   ],
   "source": [
    "# Lets examine the missing categorical columns\n",
    "cat_missing = [cols for cols in cat_cols if df[cols].isnull().sum() > 0]\n",
    "\n",
    "def cat_missing_association_with_outcome(data, missing_data_column, outcome):\n",
    "    \"\"\"Function to plot missing association of categorical varibles with outcome\"\"\"\n",
    "    \n",
    "    df = data.copy()\n",
    "    df[f\"{missing_data_column}_is_missing\"] = df[missing_data_column].isnull().astype(int)\n",
    "    df.groupby([outcome]).agg({f\"{missing_data_column}_is_missing\": 'mean'}).plot.bar()\n",
    "    \n",
    "for cols in cat_missing:\n",
    "    cat_missing_association_with_outcome(df, cols, target)"
   ]
  },
  {
   "cell_type": "code",
   "execution_count": 205,
   "id": "5ade7d10",
   "metadata": {
    "scrolled": false
   },
   "outputs": [
    {
     "data": {
      "image/png": "[encoded data removed]",
      "text/plain": [
       "<Figure size 432x288 with 1 Axes>"
      ]
     },
     "metadata": {
      "needs_background": "light"
     },
     "output_type": "display_data"
    }
   ],
   "source": [
    "# Lets examine the missing numerical columns\n",
    "num_missing = [cols for cols in missing_cols if cols not in cat_missing]\n",
    "\n",
    "def num_missing_association_with_outcome(data, missing_data_column, outcome):\n",
    "    \"\"\"Function to plot missing association of categorical varibles with outcome\"\"\"\n",
    "    \n",
    "    df = data.copy()\n",
    "    df[f\"{missing_data_column}_is_missing\"] = df[missing_data_column].isnull().astype(int)\n",
    "    df.groupby([outcome]).agg({f\"{missing_data_column}_is_missing\": 'mean'}).plot.bar()\n",
    "\n",
    "\n",
    "for cols in num_missing:\n",
    "    num_missing_association_with_outcome(df, cols, target)"
   ]
  },
  {
   "cell_type": "code",
   "execution_count": null,
   "id": "8e4938a8",
   "metadata": {},
   "outputs": [],
   "source": [
    "from sklearn.preprocessing import StandardScaler\n",
    "from sklearn.ensemble import ExtraTreesRegressor\n",
    "from sklearn.experimental import enable_iterative_imputer\n",
    "from sklearn.impute import IterativeImputer"
   ]
  },
  {
   "cell_type": "code",
   "execution_count": null,
   "id": "2ed1ee99",
   "metadata": {},
   "outputs": [],
   "source": [
    "# Now the dataset is scaled and all variables have a z score\n",
    "df_num.head()"
   ]
  },
  {
   "cell_type": "code",
   "execution_count": null,
   "id": "d5894e9d",
   "metadata": {},
   "outputs": [],
   "source": [
    "# Bulding the Random forest imputation framework\n",
    "random_forest_imputer = IterativeImputer(estimator=ExtraTreesRegressor(n_estimators=100, random_state=0, bootstrap=True, n_jobs=-1),\n",
    "                           max_iter=10,\n",
    "                           random_state=0)\n",
    "# Imputing \n",
    "df_imputed = random_forest_imputer.fit_transform(df_num)"
   ]
  },
  {
   "cell_type": "code",
   "execution_count": null,
   "id": "a76a6590",
   "metadata": {},
   "outputs": [],
   "source": [
    "# Reverse transformation to get back the original values\n",
    "df_imputed = pd.DataFrame(columns=num_columns, data=df_imputed)\n",
    "df_imputed.head()"
   ]
  },
  {
   "cell_type": "code",
   "execution_count": null,
   "id": "ea90b37a",
   "metadata": {},
   "outputs": [],
   "source": [
    "# Lets check the distribution of original and compare with the ml imputed\n",
    "df_imputed['loan_amount'].plot.kde(color='orange', label='loan_amount_random_forest_imputed',linewidth=2, legend=True)\n",
    "df['loan_amount'].plot.kde(color='b', label='loan_amount', legend=True, linewidth=2, figsize=(9,7), alpha=0.5)"
   ]
  },
  {
   "cell_type": "code",
   "execution_count": null,
   "id": "ec8fffdd",
   "metadata": {},
   "outputs": [],
   "source": [
    "# Lets compare the standard deviations\n",
    "round(df.loan_amount.std(),2), round(df.loan_amount_random_imputed.std(),2), round(df_imputed.loan_amount.std(),2)"
   ]
  },
  {
   "cell_type": "code",
   "execution_count": null,
   "id": "3f15dd92",
   "metadata": {},
   "outputs": [],
   "source": [
    "# Lets check the correlation with other variables\n",
    "df['loan_amount_random_forest_imputed'] = df_imputed.loan_amount\n",
    "df[['loan_amount', 'loan_amount_median_imputed','loan_amount_random_imputed', 'loan_amount_random_forest_imputed', 'applicant_income']].corr()"
   ]
  },
  {
   "cell_type": "markdown",
   "id": "4620abe8",
   "metadata": {},
   "source": [
    "The standard deviation is slightly below random imputation however, it can be observed the correlation with the `application_income` is better and closer, when compared to random imputation method. Hence MICE is a better method than median imputation as standard deviation and overall distribution is preserved, as well as less impact on correlation with other variables"
   ]
  },
  {
   "cell_type": "code",
   "execution_count": null,
   "id": "470c54ec",
   "metadata": {},
   "outputs": [],
   "source": [
    "# We can drop the columns with imputed suffix since we used these to illustrate the effects of different imputation methods\n",
    "df.drop(['loan_amount_median_imputed','loan_amount_random_imputed', 'loan_amount_random_forest_imputed'], axis=1, inplace=True)"
   ]
  },
  {
   "cell_type": "code",
   "execution_count": null,
   "id": "91e8008e",
   "metadata": {},
   "outputs": [],
   "source": [
    "# Now its time to impute Categorical variables, and we will combine this with numerical data imputation"
   ]
  },
  {
   "cell_type": "code",
   "execution_count": null,
   "id": "a22bf69b",
   "metadata": {},
   "outputs": [],
   "source": [
    "from sklearn.preprocessing import LabelEncoder"
   ]
  },
  {
   "cell_type": "code",
   "execution_count": null,
   "id": "109b4a59",
   "metadata": {},
   "outputs": [],
   "source": [
    "df_temp = df.copy()\n",
    "lb = LabelEncoder()\n",
    "\n",
    "# Only encoding columns that don't have a numerical value\n",
    "cat_cols_string_encoded = cat_columns\n",
    "\n",
    "# Extracting the classes to which each value of a column will be encoded to\n",
    "label_encoder_mapping = {}\n",
    "for cols in cat_cols_string_encoded:\n",
    "    classes = df_temp[cols].unique()\n",
    "    classes = list(np.sort(classes[~pd.isna(classes)]))\n",
    "    label_encoder_mapping[cols] = classes\n",
    "\n",
    "    \n",
    "# The label encoder under the hood will encode values from 0 to n-1 (n being number of unique values in the column)\n",
    "# The encoder out of the box does not provide the encoded mappings\n",
    "# We need these, post imputation to return the categorical variable to its original value\n",
    "for key, val in label_encoder_mapping.items():\n",
    "    index = 0\n",
    "    val_mapping = {}\n",
    "    for value in val:\n",
    "        val_mapping[index] = value\n",
    "        index += 1\n",
    "    label_encoder_mapping[key] = val_mapping\n",
    "    \n",
    "# Encoding the data\n",
    "df_temp[cat_cols_string_encoded] = df_temp[cat_cols_string_encoded].apply(lambda series: pd.Series(\n",
    "        LabelEncoder().fit_transform(series[series.notnull()]),\n",
    "        index=series[series.notnull()].index\n",
    "    ))"
   ]
  },
  {
   "cell_type": "code",
   "execution_count": null,
   "id": "54f758b7",
   "metadata": {},
   "outputs": [],
   "source": [
    "# Getting the ordinal columns as we dont need to label encode these. Filtering the year column since its values are constant\n",
    "ordinal_columns = [cols for cols in df_temp if cols not in cat_cols_string_encoded + num_columns + [id_col, target]]\n",
    "\n",
    "# Combining the columns as it is recommended use all the data to impute with MICE framework\n",
    "columns = [cols for cols in cat_cols_string_encoded + ordinal_columns + num_columns]"
   ]
  },
  {
   "cell_type": "code",
   "execution_count": null,
   "id": "91168f60",
   "metadata": {},
   "outputs": [],
   "source": [
    "# Creating a temp dataframe and running Mice\n",
    "df_temp_ = df_temp[columns].copy()\n",
    "\n",
    "# Bulding the Random forest imputation framework for categorical variables\n",
    "rf_imp = IterativeImputer(estimator=ExtraTreesRegressor(n_estimators=100, random_state=0, bootstrap=True, n_jobs=-1),\n",
    "                           max_iter=20,\n",
    "                           random_state=0)\n",
    "# Imputing \n",
    "df_imputed = rf_imp.fit_transform(df_temp_)"
   ]
  },
  {
   "cell_type": "code",
   "execution_count": null,
   "id": "b1e6a8bc",
   "metadata": {},
   "outputs": [],
   "source": [
    "# Unscaling the values to get back the original values\n",
    "df_imputed_ = pd.DataFrame(columns=columns, data=df_imputed)\n",
    "\n",
    "# converting to int, as since mappings are tied to integers\n",
    "df_imputed_[cat_cols_string_encoded + ordinal_columns] = df_imputed_[cat_cols_string_encoded+ordinal_columns].astype('int')\n",
    "\n",
    "# Remapping to the original categorical values\n",
    "for key, val in label_encoder_mapping.items():\n",
    "    df_imputed_[key] = df_imputed_[key].map(val)"
   ]
  },
  {
   "cell_type": "code",
   "execution_count": null,
   "id": "9ecf207f",
   "metadata": {},
   "outputs": [],
   "source": [
    "# Lets check whether the values have been imputed\n",
    "df_imputed_.isnull().sum()"
   ]
  },
  {
   "cell_type": "markdown",
   "id": "1649ed67",
   "metadata": {},
   "source": [
    "We can now use the above steps and make it into Scikit learn pipeline, as using a pipeline we can define the sequence of steps, and also save these steps as a pickle object. By utilising this practice we maintain machine learning system best practices, and can ensure reliability and reproucability, without replicating the code in the inference setting."
   ]
  },
  {
   "cell_type": "code",
   "execution_count": null,
   "id": "58d7e014",
   "metadata": {},
   "outputs": [],
   "source": [
    "# Now we have imputed the data lets bring it all together and ensure all the values are imputed\n",
    "from sklearn.model_selection import train_test_split, GridSearchCV\n",
    "from sklearn.metrics import roc_auc_score, accuracy_score\n",
    "from typing import List\n",
    "from sklearn.tree import DecisionTreeClassifier\n",
    "from sklearn.preprocessing import StandardScaler\n",
    "from sklearn.ensemble import RandomForestClassifier\n",
    "from sklearn.feature_extraction import DictVectorizer\n",
    "from sklearn.base import TransformerMixin, BaseEstimator\n",
    "from sklearn.pipeline import Pipeline\n",
    "from sklearn.compose import ColumnTransformer\n",
    "from feature_engine.encoding import RareLabelEncoder\n",
    "from feature_engine.imputation import CategoricalImputer, MeanMedianImputer"
   ]
  },
  {
   "cell_type": "code",
   "execution_count": null,
   "id": "1e2fb82a",
   "metadata": {},
   "outputs": [],
   "source": [
    "# Splitting the data into train and test\n",
    "X_train, X_test, y_train, y_test = train_test_split(df[feature_columns],df[target].map({'y':1, 'n':0}) , test_size=0.1, random_state=0, stratify=df[target].map({'y':1, 'n':0}))"
   ]
  },
  {
   "cell_type": "markdown",
   "id": "e2dbaee5",
   "metadata": {},
   "source": [
    "Encoding the categorical variables into rare labels if they dont meet threshold, i.e. if the cardinality is too low, i.e. where a category makes 1 percent of the feature values. This ensures that training data sees\n",
    "the rare values and model is not overfiltted, and is generalised.\n",
    "We fill first impute the missing data using Mice technique and then check for rare labels"
   ]
  },
  {
   "cell_type": "code",
   "execution_count": null,
   "id": "fb6d5234",
   "metadata": {},
   "outputs": [],
   "source": [
    "for cols in cat_cols_string_encoded:\n",
    "    print(cols)\n",
    "    print(df[cols].value_counts(normalize=True))\n",
    "    print()"
   ]
  },
  {
   "cell_type": "code",
   "execution_count": null,
   "id": "4dcaff25",
   "metadata": {},
   "outputs": [],
   "source": [
    "def cat_encoder_mapping(df: pd.DataFrame, columns: List[str]) -> dict:\n",
    "    \"\"\"Function is a helper function for label encoder and builds a mapping for categorical variables\n",
    "       The function returns the mapping so encoded variables can be decoded to original form\"\"\"\n",
    "    \n",
    "    \n",
    "    # Extracting the classes to which each value of a column will be encoded to\n",
    "    label_encoder_mapping = {}\n",
    "    for cols in columns:\n",
    "        classes = df[cols].unique()\n",
    "        classes = list(np.sort(classes[~pd.isna(classes)])) #exluding na's from the list\n",
    "        label_encoder_mapping[cols] = classes\n",
    "\n",
    "\n",
    "    # The label encoder under the hood will encode values from 0 to n-1 (n being number of unique values in the column)\n",
    "    # The encoder out of the box does not provide the encoded mappings\n",
    "    # We need these, post imputation to return the categorical variable to its original value\n",
    "    for key, val in label_encoder_mapping.items():\n",
    "        index = 0\n",
    "        val_mapping = {}\n",
    "        for value in val:\n",
    "            val_mapping[index] = value\n",
    "            index += 1\n",
    "        label_encoder_mapping[key] = val_mapping\n",
    "        \n",
    "    return label_encoder_mapping\n",
    "\n",
    "\n",
    "class CustomLabelEncoder(BaseEstimator, TransformerMixin):\n",
    "    \"\"\"Class to bulk encode categorical variables\"\"\"\n",
    "    \n",
    "    def __init__(self, cat_columns: List[str]):\n",
    "        \"\"\"Constructor\"\"\"\n",
    "        \n",
    "        self.cat_columns = cat_columns\n",
    "        self.label_encoder_mapping = {}\n",
    "    \n",
    "    def fit(self, X, y=None):\n",
    "        \"\"\"Custom fit function\"\"\"\n",
    "        \n",
    "        self.label_encoder_mapping = cat_encoder_mapping(df=X, columns=self.cat_columns)\n",
    "        return self\n",
    "    \n",
    "    def transform(self, X, y=None):\n",
    "        \"\"\"Custom transformer\"\"\"\n",
    "        \n",
    "        # Encoding the data\n",
    "        X = X.copy()\n",
    "        X[self.cat_columns] = X[self.cat_columns]\\\n",
    "                              .apply(lambda series: pd.Series(\n",
    "                                      LabelEncoder().fit_transform(series[series.notnull()])\n",
    "                                     ,index=series[series.notnull()].index)\n",
    "                                    )\n",
    "        return X\n",
    "    \n",
    "\n",
    "class CustomLabelDecoder(BaseEstimator, TransformerMixin):\n",
    "    \"\"\"Class to decode the categorical columns based on mapping object\"\"\"\n",
    "    \n",
    "    def __init__(self, features: List[str], label_encoder_mapping: dict):\n",
    "        \"\"\"Constructor\"\"\"\n",
    "        \n",
    "        self.label_encoder_mapping = label_encoder_mapping\n",
    "        self.features = features\n",
    "        self.X_ = pd.DataFrame()\n",
    "        \n",
    "    def fit(self, X, y=None):\n",
    "        \"\"\"Custom fit function\"\"\"\n",
    "        \n",
    "        return self\n",
    "    \n",
    "    def transform(self, X, y=None):\n",
    "        \"\"\"Custom transform method\"\"\"\n",
    "        \n",
    "        X = X.copy()\n",
    "        \n",
    "        self.X_ = pd.DataFrame(data=X, columns=self.features)\n",
    "        \n",
    "        for key, val in self.label_encoder_mapping.items():\n",
    "            self.X_[key] = self.X_[key].astype(int)\n",
    "            self.X_[key] = self.X_[key].map(val)\n",
    "        \n",
    "        return self.X_"
   ]
  },
  {
   "cell_type": "code",
   "execution_count": null,
   "id": "a5ea8223",
   "metadata": {},
   "outputs": [],
   "source": [
    "# Running the encoder pipeline\n",
    "encoder_pipeline = Pipeline(\n",
    "    steps=[\n",
    "        ('cat_encoding', \n",
    "          CustomLabelEncoder(cat_columns=cat_cols_string_encoded)\n",
    "        )\n",
    "    ]\n",
    ")\n",
    "\n",
    "X_train_encoded = encoder_pipeline.fit_transform(X_train)\n",
    "X_test_encoded = encoder_pipeline.transform(X_test)"
   ]
  },
  {
   "cell_type": "code",
   "execution_count": null,
   "id": "ef6cda4c",
   "metadata": {},
   "outputs": [],
   "source": [
    "# Running the custom imputer pipeline as scikit learn pipeline and decoding the categories which were encoded into numerical form\n",
    "custom_preprocessor = Pipeline(\n",
    "    steps=[('mice_imputation',\n",
    "           IterativeImputer(estimator=ExtraTreesRegressor(n_estimators=10, random_state=0, bootstrap=True, n_jobs=-1),\n",
    "                           max_iter=20,\n",
    "                           random_state=0)\n",
    "           ),\n",
    "           ('custom_label_decoder',\n",
    "            CustomLabelDecoder(features=columns, \n",
    "                               label_encoder_mapping=encoder_pipeline.named_steps['cat_encoding'].label_encoder_mapping)),\n",
    "           ('rare_label_encoder', \n",
    "            RareLabelEncoder(tol=0.02, n_categories=8, variables=cat_cols_string_encoded, replace_with='rare'))\n",
    "           ]\n",
    ")\n",
    "\n",
    "custom_transformer = ColumnTransformer(transformers=\n",
    "    [\n",
    "        (\"all_features\", custom_preprocessor, columns)\n",
    "    ]\n",
    ")\n",
    "\n",
    "custom_pipeline = Pipeline(\n",
    "    steps=[(\n",
    "        \"custom_transformer\", custom_transformer\n",
    "    )]\n",
    ")\n",
    "\n",
    "X_train_imputed = custom_pipeline.fit_transform(X_train_encoded)\n",
    "X_test_imputed = custom_pipeline.transform(X_test_encoded)"
   ]
  },
  {
   "cell_type": "markdown",
   "id": "904a1784",
   "metadata": {},
   "source": [
    "Once data is imputed then we can one hot encode categorical data and pass the numerical data as is. In python we can leverage DictVectorizor to do both, but first we may need to convert the data into dictionary. For that we will use `pandas.to_dict()` method"
   ]
  },
  {
   "cell_type": "code",
   "execution_count": null,
   "id": "2d58f291",
   "metadata": {},
   "outputs": [],
   "source": [
    "custom_pipeline.named_steps['custom_transformer'].transformers_[0][2]\n",
    "X_train_dict = pd.DataFrame(data=X_train_imputed, columns=features).to_dict(orient='records')\n",
    "X_test_dict = pd.DataFrame(data=X_test_imputed, columns=features).to_dict(orient='records')"
   ]
  },
  {
   "cell_type": "code",
   "execution_count": null,
   "id": "98967565",
   "metadata": {},
   "outputs": [],
   "source": [
    "# Apply the dictvectorizor to one hot encode\n",
    "dv = DictVectorizer(sparse=False)\n",
    "X_train_transformed = dv.fit_transform(X_train_dict)\n",
    "X_test_transformed = dv.transform(X_test_dict)"
   ]
  },
  {
   "cell_type": "code",
   "execution_count": null,
   "id": "77175237",
   "metadata": {},
   "outputs": [],
   "source": [
    "pd.DataFrame(X_train_transformed, columns=dv.get_feature_names()).columns"
   ]
  },
  {
   "cell_type": "code",
   "execution_count": null,
   "id": "e72ac38d",
   "metadata": {},
   "outputs": [],
   "source": [
    "# Lets train the model and check the score. But before lets check the class imbalance. \n",
    "y_train.mean(), y_test.mean()"
   ]
  },
  {
   "cell_type": "markdown",
   "id": "a6569ce4",
   "metadata": {},
   "source": [
    "Because classes are slightly imbalanced, we can use the `class_weight='balanced'` option, since this option uses the values of y to automatically adjust weights inversely proportional to class frequencies in the input data when training the algorithm"
   ]
  },
  {
   "cell_type": "code",
   "execution_count": null,
   "id": "a7f38b74",
   "metadata": {},
   "outputs": [],
   "source": [
    "# Training the model using cross validation to ensure model is generalisable and can be used in a good setting\n",
    "d_param_grid = {\n",
    "    'max_features': [None, 'sqrt', 'log2'],\n",
    "    'max_depth' : [4,5,6,7,8,10,20],\n",
    "    'min_samples_leaf' : [1,3,5,10,15,20,25,30],\n",
    "    'criterion' : ['gini', 'entropy'],\n",
    "    'random_state' : [0], \n",
    "    'class_weight' : ['balanced', None]\n",
    "}\n",
    "d_clf = DecisionTreeClassifier()\n",
    "\n",
    "\n",
    "# Training the models\n",
    "d_clf_cv = GridSearchCV(estimator=d_clf, param_grid=d_param_grid, cv=5, scoring='roc_auc')\n",
    "d_clf_cv.fit(X_train_transformed, y_train)\n",
    "\n",
    "print(\"Decision tree optimised\")\n",
    "\n",
    "\n",
    "d_best_params = d_clf_cv.best_params_\n",
    "\n",
    "print(f\"Getting the best params which are {d_best_params}\")\n",
    "\n",
    "model = DecisionTreeClassifier(**d_best_params)\n",
    "model.fit(X_train_transformed, y_train)\n",
    "\n",
    "training_predictions_prob = model.predict_proba(X_train_transformed)\n",
    "testing_predictions_prob = model.predict_proba(X_test_transformed)\n",
    "\n",
    "training_predictions = model.predict(X_train_transformed)\n",
    "testing_predictions = model.predict(X_test_transformed)\n",
    "\n",
    "training_roc_auc = roc_auc_score(y_train, training_predictions_prob[:,1])\n",
    "testing_roc_auc = roc_auc_score(y_test, testing_predictions_prob[:,1])\n",
    "\n",
    "training_acc = accuracy_score(y_train, training_predictions)\n",
    "testing_acc = accuracy_score(y_test, testing_predictions)\n",
    "\n",
    "print(f\"Training roc is {training_roc_auc}, and testing roc is {testing_roc_auc} \\n \\\n",
    "        training accuracy is {training_acc}, testing_acc as {testing_acc}\")"
   ]
  },
  {
   "cell_type": "code",
   "execution_count": null,
   "id": "03a83d38",
   "metadata": {},
   "outputs": [],
   "source": [
    "pd.DataFrame(X_train_transformed, columns=dv.get_feature_names()).head()"
   ]
  },
  {
   "cell_type": "code",
   "execution_count": null,
   "id": "c30ddfbd",
   "metadata": {},
   "outputs": [],
   "source": [
    "# We can see both training and testing roc is high, i.e. model is generalisable and not overfitted or underfitted"
   ]
  },
  {
   "cell_type": "markdown",
   "id": "84af7a4f",
   "metadata": {},
   "source": [
    "Lets take a counter intuitive approach and check if we just used mean/median to impute the numerical variables, and imputed categorical variables with most frequent occurences, what results we shall get"
   ]
  },
  {
   "cell_type": "code",
   "execution_count": null,
   "id": "e2be38a7",
   "metadata": {},
   "outputs": [],
   "source": [
    "# Splitting the data into train and test\n",
    "X_train, X_test, y_train, y_test = train_test_split(df[feature_columns],df[target].map({'y':1, 'n':0}) , test_size=0.1, random_state=0, stratify=df[target].map({'y':1, 'n':0}))"
   ]
  },
  {
   "cell_type": "code",
   "execution_count": null,
   "id": "5530cd88",
   "metadata": {},
   "outputs": [],
   "source": [
    "X_train.head()"
   ]
  },
  {
   "cell_type": "code",
   "execution_count": null,
   "id": "eb87bb45",
   "metadata": {},
   "outputs": [],
   "source": [
    "numeric_preprocessor = Pipeline(\n",
    "    steps=[\n",
    "        (\"imputation_median\", MeanMedianImputer(imputation_method='median', variables=num_missing)),\n",
    "    ]\n",
    ")\n",
    "\n",
    "categorical_preprocessor = Pipeline(\n",
    "    steps=[\n",
    "        (\n",
    "            \"imputation_frequent\",\n",
    "            CategoricalImputer(imputation_method='frequent', variables=cat_missing),\n",
    "        ),\n",
    "        (\n",
    "            'rare_label_encoder', \n",
    "            RareLabelEncoder(tol=0.02, n_categories=8, variables=cat_cols_string_encoded, replace_with='rare')\n",
    "        )\n",
    "    ]\n",
    ")\n",
    "\n",
    "preprocessor = ColumnTransformer(\n",
    "    [\n",
    "        (\"categorical\", categorical_preprocessor, cat_cols_string_encoded),\n",
    "        (\"numerical\", numeric_preprocessor, num_columns + ordinal_columns),\n",
    "    ]\n",
    ")\n",
    "\n",
    "preprocessor_pipeline = Pipeline(\n",
    "    steps=[(\n",
    "        'preprocessor', preprocessor\n",
    "    )]\n",
    ")"
   ]
  },
  {
   "cell_type": "code",
   "execution_count": null,
   "id": "3caa174a",
   "metadata": {},
   "outputs": [],
   "source": [
    "X_train_imputed = preprocessor_pipeline.fit_transform(X_train)\n",
    "X_test_imputed = preprocessor_pipeline.transform(X_test)"
   ]
  },
  {
   "cell_type": "code",
   "execution_count": null,
   "id": "ffdf2051",
   "metadata": {},
   "outputs": [],
   "source": [
    "X_train_dict = pd.DataFrame(data=X_train_imputed, columns=features).to_dict(orient='records')\n",
    "X_test_dict = pd.DataFrame(data=X_test_imputed, columns=features).to_dict(orient='records')\n",
    "\n",
    "# Apply the dictvectorizor to one hot encode\n",
    "dv = DictVectorizer(sparse=False)\n",
    "X_train_transformed = dv.fit_transform(X_train_dict)\n",
    "X_test_transformed = dv.transform(X_test_dict)"
   ]
  },
  {
   "cell_type": "code",
   "execution_count": null,
   "id": "83857f24",
   "metadata": {},
   "outputs": [],
   "source": [
    "# Training the model using cross validation to ensure model is generalisable and can be used in a good setting\n",
    "d_param_grid = {\n",
    "    'max_features': [None, 'sqrt', 'log2'],\n",
    "    'max_depth' : [4,5,6,7,8,10,20],\n",
    "    'min_samples_leaf' : [1,3,5,10,15,20,25,30],\n",
    "    'criterion' : ['gini', 'entropy'],\n",
    "    'random_state' : [0], \n",
    "    'class_weight' : ['balanced', None]\n",
    "}\n",
    "d_clf = DecisionTreeClassifier()\n",
    "\n",
    "\n",
    "# Training the models\n",
    "d_clf_cv = GridSearchCV(estimator=d_clf, param_grid=d_param_grid, cv=5, scoring='roc_auc')\n",
    "d_clf_cv.fit(X_train_transformed, y_train)\n",
    "\n",
    "print(\"Decision tree optimised\")\n",
    "\n",
    "\n",
    "d_best_params = d_clf_cv.best_params_\n",
    "\n",
    "print(f\"Getting the best params which are {d_best_params}\")\n",
    "\n",
    "model = DecisionTreeClassifier(**d_best_params)\n",
    "model.fit(X_train_transformed, y_train)\n",
    "\n",
    "training_predictions_prob = model.predict_proba(X_train_transformed)\n",
    "testing_predictions_prob = model.predict_proba(X_test_transformed)\n",
    "\n",
    "training_predictions = model.predict(X_train_transformed)\n",
    "testing_predictions = model.predict(X_test_transformed)\n",
    "\n",
    "training_roc_auc = roc_auc_score(y_train, training_predictions_prob[:,1])\n",
    "testing_roc_auc = roc_auc_score(y_test, testing_predictions_prob[:,1])\n",
    "\n",
    "training_acc = accuracy_score(y_train, training_predictions)\n",
    "testing_acc = accuracy_score(y_test, testing_predictions)\n",
    "\n",
    "print(f\"Training roc is {training_roc_auc}, and testing roc is {testing_roc_auc} \\n \\\n",
    "        training accuracy is {training_acc}, testing_acc as {testing_acc}\")"
   ]
  },
  {
   "cell_type": "code",
   "execution_count": null,
   "id": "d4fe166d",
   "metadata": {},
   "outputs": [],
   "source": [
    "dv.get_feature_names()"
   ]
  }
 ],
 "metadata": {
  "kernelspec": {
   "display_name": "Python 3 (ipykernel)",
   "language": "python",
   "name": "python3"
  },
  "language_info": {
   "codemirror_mode": {
    "name": "ipython",
    "version": 3
   },
   "file_extension": ".py",
   "mimetype": "text/x-python",
   "name": "python",
   "nbconvert_exporter": "python",
   "pygments_lexer": "ipython3",
   "version": "3.8.8"
  }
 },
 "nbformat": 4,
 "nbformat_minor": 5
}
