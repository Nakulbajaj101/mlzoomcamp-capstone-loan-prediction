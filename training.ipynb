{
 "cells": [
  {
   "cell_type": "code",
   "execution_count": 13,
   "id": "bfc53d42",
   "metadata": {},
   "outputs": [],
   "source": [
    "import numpy as np\n",
    "import pandas as pd\n",
    "import xgboost as xgb\n",
    "from feature_engine.encoding import OneHotEncoder, RareLabelEncoder\n",
    "from feature_engine.imputation.categorical import CategoricalImputer\n",
    "from sklearn.ensemble import ExtraTreesRegressor, RandomForestClassifier\n",
    "from sklearn.experimental import enable_iterative_imputer\n",
    "from sklearn.feature_extraction import DictVectorizer\n",
    "from sklearn.impute import IterativeImputer, KNNImputer\n",
    "from sklearn.linear_model import LogisticRegression\n",
    "from sklearn.metrics import accuracy_score, confusion_matrix, roc_auc_score\n",
    "from sklearn.model_selection import GridSearchCV, train_test_split\n",
    "from sklearn.pipeline import Pipeline\n",
    "from sklearn.preprocessing import MinMaxScaler\n",
    "from sklearn.tree import DecisionTreeClassifier\n",
    "from preprocessing.preprocessors import (BinaryEncoder, CleanStrings,\n",
    "                                         ColumnDropperTransformer,\n",
    "                                         CustomColumnMapping, CustomRowMapping,\n",
    "                                         DivideColumnValue,\n",
    "                                         MultiplyColumnValue,\n",
    "                                         PrefixStringEncoding)\n"
   ]
  },
  {
   "cell_type": "code",
   "execution_count": 14,
   "id": "be82dbfc",
   "metadata": {},
   "outputs": [],
   "source": [
    "# Reading the data\n",
    "df = pd.read_csv('dataset/loan_prediction.csv')\n",
    "\n",
    "df.columns = [cols.lower() for cols in df]\n",
    "\n",
    "id_col = 'loan_id'\n",
    "target = 'loan_status'\n",
    "\n",
    "clean_strings_cols = [cols for cols in df.columns if df[cols].dtype == 'object']\n",
    "\n",
    "data_mapping_cols = ['graduate', 'property_area']\n",
    "\n",
    "\n",
    "thousand_multiplier_cols = ['loan_amount']\n",
    "\n",
    "month_divider_cols = ['loan_amount_term']\n",
    "\n",
    "month_encoder_cols = ['loan_amount_term']\n",
    "\n",
    "month_encoder_prefix = 'month'\n",
    "\n",
    "binary_encoder_cols = ['married', 'graduate', 'self_employed']\n",
    "\n",
    "binary_encoder_value='yes'\n",
    "\n",
    "gender_encoder_cols = ['gender']\n",
    "\n",
    "gender_encoder_value = 'male'\n",
    "\n",
    "column_mappings = {'applicantincome':'applicant_income', \n",
    "                   \"coapplicantincome\":\"co_application_income\", \n",
    "                   \"loanamount\":\"loan_amount\",\n",
    "                   \"education\":\"graduate\"}\n",
    "\n",
    "data_mappings = { 'graduate': {'graduate': 'yes', 'not_graduate_graduate': 'no'},\n",
    "  'property_area': { 'rural': 'rural',\n",
    "                     'semiurban': 'semi_urban',\n",
    "                     'urban': 'urban'}}"
   ]
  },
  {
   "cell_type": "code",
   "execution_count": 35,
   "id": "7e3312e5",
   "metadata": {},
   "outputs": [],
   "source": [
    "preprocessor_pipeline = Pipeline(\n",
    "    steps=[\n",
    "        ('clean_strings', \n",
    "         CleanStrings(column_list=clean_strings_cols)\n",
    "        ),\n",
    "        ('column_mappings',\n",
    "         CustomColumnMapping(column_mapping=column_mappings)\n",
    "        ),\n",
    "        ('thousand_multiplier', \n",
    "         MultiplyColumnValue(column_list=thousand_multiplier_cols, \n",
    "                             multiply_by=1000)\n",
    "        ),\n",
    "        ('month_divider',\n",
    "         DivideColumnValue(column_list=month_divider_cols, \n",
    "                           divide_by=12)\n",
    "        ),\n",
    "        ('prefix_month_encoder',\n",
    "         PrefixStringEncoding(column_list=month_encoder_cols,\n",
    "                              string_val=month_encoder_prefix)\n",
    "        ),\n",
    "        ('data_mappings', \n",
    "         CustomRowMapping(column_list=data_mapping_cols, \n",
    "                          column_value_mapping=data_mappings)\n",
    "        ),\n",
    "        ('binary_common_encoder', \n",
    "         BinaryEncoder(column_list=binary_encoder_cols, \n",
    "                       value=binary_encoder_value)\n",
    "        ),\n",
    "        ('gender_encoder', \n",
    "         BinaryEncoder(column_list=gender_encoder_cols, \n",
    "                       value=gender_encoder_value)\n",
    "        )\n",
    "    ])"
   ]
  },
  {
   "cell_type": "code",
   "execution_count": 4,
   "id": "cae3503e",
   "metadata": {},
   "outputs": [],
   "source": [
    "preprocessed_data = preprocessor_pipeline.fit_transform(df)"
   ]
  },
  {
   "cell_type": "code",
   "execution_count": 5,
   "id": "51998191",
   "metadata": {},
   "outputs": [],
   "source": [
    "feature_cols = [cols for cols in preprocessed_data if cols not in [id_col, target]]\n",
    "cat_cols = [cols for cols in feature_cols if preprocessed_data[cols].dtype == 'object']\n",
    "X = preprocessed_data[feature_cols].copy()\n",
    "y = preprocessed_data[target].map({'y':1, 'n':0})\n",
    "X_train, X_test, y_train, y_test = train_test_split(X, y, test_size=0.1, random_state=1)"
   ]
  },
  {
   "cell_type": "code",
   "execution_count": 6,
   "id": "ae24f77b",
   "metadata": {},
   "outputs": [],
   "source": [
    "transformer_pipeline = Pipeline(\n",
    "    steps=[\n",
    "        ('cat_imputer',\n",
    "          CategoricalImputer(fill_value='frequent',\n",
    "                             variables=cat_cols)\n",
    "        ),   \n",
    "        ('rare_label_encoding',\n",
    "         RareLabelEncoder(tol=0.01,\n",
    "                          n_categories=8,\n",
    "                          variables=cat_cols)\n",
    "        ),\n",
    "        ('ohe_encoding',\n",
    "         OneHotEncoder(variables=cat_cols)\n",
    "        ),\n",
    "        ('scaling_data',\n",
    "            MinMaxScaler()\n",
    "        ),\n",
    "        ('knn_imputer',\n",
    "         KNNImputer(add_indicator=True)\n",
    "        )\n",
    "    ]\n",
    ")"
   ]
  },
  {
   "cell_type": "code",
   "execution_count": 7,
   "id": "3e23c807",
   "metadata": {},
   "outputs": [
    {
     "name": "stderr",
     "output_type": "stream",
     "text": [
      "/Users/bajajn/anaconda3/envs/mlzoomcamp-capstone-one/lib/python3.9/site-packages/feature_engine/encoding/rare_label.py:199: UserWarning: The number of unique categories for variable dependents is less than that indicated in n_categories. Thus, all categories will be considered frequent\n",
      "  warnings.warn(\n",
      "/Users/bajajn/anaconda3/envs/mlzoomcamp-capstone-one/lib/python3.9/site-packages/feature_engine/encoding/rare_label.py:199: UserWarning: The number of unique categories for variable loan_amount_term is less than that indicated in n_categories. Thus, all categories will be considered frequent\n",
      "  warnings.warn(\n",
      "/Users/bajajn/anaconda3/envs/mlzoomcamp-capstone-one/lib/python3.9/site-packages/feature_engine/encoding/rare_label.py:199: UserWarning: The number of unique categories for variable property_area is less than that indicated in n_categories. Thus, all categories will be considered frequent\n",
      "  warnings.warn(\n"
     ]
    }
   ],
   "source": [
    "transformed_data_train = transformer_pipeline.fit_transform(X_train, y_train)\n",
    "transformed_data_test = transformer_pipeline.transform(X_test)"
   ]
  },
  {
   "cell_type": "code",
   "execution_count": 8,
   "id": "04101c84",
   "metadata": {},
   "outputs": [],
   "source": [
    "X_train_transformed = pd.DataFrame(data=transformed_data_train, columns=transformer_pipeline.get_feature_names_out())\n",
    "X_test_transformed = pd.DataFrame(data=transformed_data_test, columns=transformer_pipeline.get_feature_names_out())"
   ]
  },
  {
   "cell_type": "code",
   "execution_count": 12,
   "id": "a4ce747c",
   "metadata": {},
   "outputs": [],
   "source": [
    "# Decision Tree\n",
    "d_param_grid = {\n",
    "    'max_features': [None, 'sqrt', 'log2'],\n",
    "    'max_depth' : [4,5,6,7,8,10,20],\n",
    "    'min_samples_leaf' : [1,3,5,10,20],\n",
    "    'criterion' : ['gini', 'entropy'],\n",
    "    'random_state' : [1], \n",
    "    'class_weight' : ['balanced', None]\n",
    "}\n",
    "d_clf = DecisionTreeClassifier()\n",
    "\n",
    "\n",
    "# Logistic Regression\n",
    "lr_param_grid = {\n",
    "    \"C\":np.logspace(-3,3,7), \n",
    "    \"max_iter\": [500, 1000,2000, 5000],\n",
    "    'class_weight' : ['balanced', None],\n",
    "    'random_state' : [1]\n",
    "    } \n",
    "    \n",
    "lr_clf = LogisticRegression()\n",
    "\n",
    "\n",
    "# Random Forest\n",
    "rf_param_grid = { \n",
    "    'n_estimators': [100,200,300],\n",
    "    'max_features': [None, 'sqrt', 'log2'],\n",
    "    'max_depth' : [4,5,6,7,8,10,20],\n",
    "    'min_samples_leaf' : [1,3,5,10,20],\n",
    "    'criterion' : ['gini', 'entropy'],\n",
    "    'random_state' : [1], \n",
    "    'class_weight' : ['balanced', None]\n",
    "}\n",
    "\n",
    "rf_clf = RandomForestClassifier(n_jobs=-1)\n",
    "\n",
    "# Xgboost\n",
    "xgb_params = {\n",
    "    'eta': [0.05, 0.1, 0.2],\n",
    "    'max_depth': [4,5,6,7,8,10,20],\n",
    "    'min_child_weight': [1,3,5,10,20],\n",
    "    'n_estimators': [5, 10, 20, 50],\n",
    "    'objective':['binary:logistic'],\n",
    "    'seed': [1],\n",
    "    'verbosity': [1]\n",
    "}\n",
    "\n",
    "xgb_clf = xgb.XGBClassifier()"
   ]
  },
  {
   "cell_type": "code",
   "execution_count": 13,
   "id": "3569a91d",
   "metadata": {},
   "outputs": [
    {
     "name": "stdout",
     "output_type": "stream",
     "text": [
      "CPU times: user 3 µs, sys: 1e+03 ns, total: 4 µs\n",
      "Wall time: 7.15 µs\n",
      "Decision tree optimised\n",
      "Logistic regression optimised\n",
      "Random Forest optimised\n",
      "xgboost classifier optimised\n"
     ]
    }
   ],
   "source": [
    "# Training the models\n",
    "%time\n",
    "\n",
    "d_clf_cv = GridSearchCV(estimator=d_clf, param_grid=d_param_grid, cv=5, scoring='roc_auc')\n",
    "d_clf_cv.fit(X_train_transformed, y_train)\n",
    "\n",
    "print(\"Decision tree optimised\")\n",
    "\n",
    "lr_clf_cv = GridSearchCV(estimator=lr_clf, param_grid=lr_param_grid, cv=5, scoring='roc_auc')\n",
    "lr_clf_cv.fit(X_train_transformed, y_train)\n",
    "\n",
    "print(\"Logistic regression optimised\")\n",
    "\n",
    "rf_clf_cv = GridSearchCV(estimator=rf_clf, param_grid=rf_param_grid, cv=5, scoring='roc_auc')\n",
    "rf_clf_cv.fit(X_train_transformed, y_train)\n",
    "\n",
    "print(\"Random Forest optimised\")\n",
    "\n",
    "xgb_clf_cv = GridSearchCV(estimator=xgb_clf, param_grid=xgb_params, cv=5, scoring='roc_auc')\n",
    "xgb_clf_cv.fit(X_train_transformed, y_train)\n",
    "\n",
    "print(\"xgboost classifier optimised\")\n",
    "\n",
    "lr_best_params = lr_clf_cv.best_params_\n",
    "d_best_params = d_clf_cv.best_params_\n",
    "rf_best_params = rf_clf_cv.best_params_\n",
    "xgb_best_params = xgb_clf_cv.best_params_"
   ]
  },
  {
   "cell_type": "code",
   "execution_count": 14,
   "id": "73360355",
   "metadata": {},
   "outputs": [
    {
     "data": {
      "text/html": [
       "<style>#sk-container-id-1 {color: black;background-color: white;}#sk-container-id-1 pre{padding: 0;}#sk-container-id-1 div.sk-toggleable {background-color: white;}#sk-container-id-1 label.sk-toggleable__label {cursor: pointer;display: block;width: 100%;margin-bottom: 0;padding: 0.3em;box-sizing: border-box;text-align: center;}#sk-container-id-1 label.sk-toggleable__label-arrow:before {content: \"▸\";float: left;margin-right: 0.25em;color: #696969;}#sk-container-id-1 label.sk-toggleable__label-arrow:hover:before {color: black;}#sk-container-id-1 div.sk-estimator:hover label.sk-toggleable__label-arrow:before {color: black;}#sk-container-id-1 div.sk-toggleable__content {max-height: 0;max-width: 0;overflow: hidden;text-align: left;background-color: #f0f8ff;}#sk-container-id-1 div.sk-toggleable__content pre {margin: 0.2em;color: black;border-radius: 0.25em;background-color: #f0f8ff;}#sk-container-id-1 input.sk-toggleable__control:checked~div.sk-toggleable__content {max-height: 200px;max-width: 100%;overflow: auto;}#sk-container-id-1 input.sk-toggleable__control:checked~label.sk-toggleable__label-arrow:before {content: \"▾\";}#sk-container-id-1 div.sk-estimator input.sk-toggleable__control:checked~label.sk-toggleable__label {background-color: #d4ebff;}#sk-container-id-1 div.sk-label input.sk-toggleable__control:checked~label.sk-toggleable__label {background-color: #d4ebff;}#sk-container-id-1 input.sk-hidden--visually {border: 0;clip: rect(1px 1px 1px 1px);clip: rect(1px, 1px, 1px, 1px);height: 1px;margin: -1px;overflow: hidden;padding: 0;position: absolute;width: 1px;}#sk-container-id-1 div.sk-estimator {font-family: monospace;background-color: #f0f8ff;border: 1px dotted black;border-radius: 0.25em;box-sizing: border-box;margin-bottom: 0.5em;}#sk-container-id-1 div.sk-estimator:hover {background-color: #d4ebff;}#sk-container-id-1 div.sk-parallel-item::after {content: \"\";width: 100%;border-bottom: 1px solid gray;flex-grow: 1;}#sk-container-id-1 div.sk-label:hover label.sk-toggleable__label {background-color: #d4ebff;}#sk-container-id-1 div.sk-serial::before {content: \"\";position: absolute;border-left: 1px solid gray;box-sizing: border-box;top: 0;bottom: 0;left: 50%;z-index: 0;}#sk-container-id-1 div.sk-serial {display: flex;flex-direction: column;align-items: center;background-color: white;padding-right: 0.2em;padding-left: 0.2em;position: relative;}#sk-container-id-1 div.sk-item {position: relative;z-index: 1;}#sk-container-id-1 div.sk-parallel {display: flex;align-items: stretch;justify-content: center;background-color: white;position: relative;}#sk-container-id-1 div.sk-item::before, #sk-container-id-1 div.sk-parallel-item::before {content: \"\";position: absolute;border-left: 1px solid gray;box-sizing: border-box;top: 0;bottom: 0;left: 50%;z-index: -1;}#sk-container-id-1 div.sk-parallel-item {display: flex;flex-direction: column;z-index: 1;position: relative;background-color: white;}#sk-container-id-1 div.sk-parallel-item:first-child::after {align-self: flex-end;width: 50%;}#sk-container-id-1 div.sk-parallel-item:last-child::after {align-self: flex-start;width: 50%;}#sk-container-id-1 div.sk-parallel-item:only-child::after {width: 0;}#sk-container-id-1 div.sk-dashed-wrapped {border: 1px dashed gray;margin: 0 0.4em 0.5em 0.4em;box-sizing: border-box;padding-bottom: 0.4em;background-color: white;}#sk-container-id-1 div.sk-label label {font-family: monospace;font-weight: bold;display: inline-block;line-height: 1.2em;}#sk-container-id-1 div.sk-label-container {text-align: center;}#sk-container-id-1 div.sk-container {/* jupyter's `normalize.less` sets `[hidden] { display: none; }` but bootstrap.min.css set `[hidden] { display: none !important; }` so we also need the `!important` here to be able to override the default hidden behavior on the sphinx rendered scikit-learn.org. See: https://github.com/scikit-learn/scikit-learn/issues/21755 */display: inline-block !important;position: relative;}#sk-container-id-1 div.sk-text-repr-fallback {display: none;}</style><div id=\"sk-container-id-1\" class=\"sk-top-container\"><div class=\"sk-text-repr-fallback\"><pre>XGBClassifier(base_score=0.5, booster=&#x27;gbtree&#x27;, callbacks=None,\n",
       "              colsample_bylevel=1, colsample_bynode=1, colsample_bytree=1,\n",
       "              early_stopping_rounds=None, enable_categorical=False, eta=0.2,\n",
       "              eval_metric=None, feature_types=None, gamma=0, gpu_id=-1,\n",
       "              grow_policy=&#x27;depthwise&#x27;, importance_type=None,\n",
       "              interaction_constraints=&#x27;&#x27;, learning_rate=0.200000003,\n",
       "              max_bin=256, max_cat_threshold=64, max_cat_to_onehot=4,\n",
       "              max_delta_step=0, max_depth=6, max_leaves=0, min_child_weight=10,\n",
       "              missing=nan, monotone_constraints=&#x27;()&#x27;, n_estimators=50, n_jobs=0,\n",
       "              num_parallel_tree=1, predictor=&#x27;auto&#x27;, ...)</pre><b>In a Jupyter environment, please rerun this cell to show the HTML representation or trust the notebook. <br />On GitHub, the HTML representation is unable to render, please try loading this page with nbviewer.org.</b></div><div class=\"sk-container\" hidden><div class=\"sk-item\"><div class=\"sk-estimator sk-toggleable\"><input class=\"sk-toggleable__control sk-hidden--visually\" id=\"sk-estimator-id-1\" type=\"checkbox\" checked><label for=\"sk-estimator-id-1\" class=\"sk-toggleable__label sk-toggleable__label-arrow\">XGBClassifier</label><div class=\"sk-toggleable__content\"><pre>XGBClassifier(base_score=0.5, booster=&#x27;gbtree&#x27;, callbacks=None,\n",
       "              colsample_bylevel=1, colsample_bynode=1, colsample_bytree=1,\n",
       "              early_stopping_rounds=None, enable_categorical=False, eta=0.2,\n",
       "              eval_metric=None, feature_types=None, gamma=0, gpu_id=-1,\n",
       "              grow_policy=&#x27;depthwise&#x27;, importance_type=None,\n",
       "              interaction_constraints=&#x27;&#x27;, learning_rate=0.200000003,\n",
       "              max_bin=256, max_cat_threshold=64, max_cat_to_onehot=4,\n",
       "              max_delta_step=0, max_depth=6, max_leaves=0, min_child_weight=10,\n",
       "              missing=nan, monotone_constraints=&#x27;()&#x27;, n_estimators=50, n_jobs=0,\n",
       "              num_parallel_tree=1, predictor=&#x27;auto&#x27;, ...)</pre></div></div></div></div></div>"
      ],
      "text/plain": [
       "XGBClassifier(base_score=0.5, booster='gbtree', callbacks=None,\n",
       "              colsample_bylevel=1, colsample_bynode=1, colsample_bytree=1,\n",
       "              early_stopping_rounds=None, enable_categorical=False, eta=0.2,\n",
       "              eval_metric=None, feature_types=None, gamma=0, gpu_id=-1,\n",
       "              grow_policy='depthwise', importance_type=None,\n",
       "              interaction_constraints='', learning_rate=0.200000003,\n",
       "              max_bin=256, max_cat_threshold=64, max_cat_to_onehot=4,\n",
       "              max_delta_step=0, max_depth=6, max_leaves=0, min_child_weight=10,\n",
       "              missing=nan, monotone_constraints='()', n_estimators=50, n_jobs=0,\n",
       "              num_parallel_tree=1, predictor='auto', ...)"
      ]
     },
     "execution_count": 14,
     "metadata": {},
     "output_type": "execute_result"
    }
   ],
   "source": [
    "# Training the best models\n",
    "lr_best_clf = LogisticRegression(**lr_best_params)\n",
    "d_best_clf = DecisionTreeClassifier(**d_best_params)\n",
    "rf_best_clf = RandomForestClassifier(**rf_best_params)\n",
    "xgb_best_clf = xgb.XGBClassifier(**xgb_best_params)\n",
    "\n",
    "lr_best_clf.fit(X_train_transformed, y_train)\n",
    "d_best_clf.fit(X_train_transformed, y_train)\n",
    "rf_best_clf.fit(X_train_transformed, y_train)\n",
    "xgb_best_clf.fit(X_train_transformed, y_train)"
   ]
  },
  {
   "cell_type": "code",
   "execution_count": 15,
   "id": "0e442dc7",
   "metadata": {},
   "outputs": [
    {
     "data": {
      "text/plain": [
       "(0.6339285714285714,\n",
       " 0.6797619047619048,\n",
       " 0.7119047619047619,\n",
       " 0.7464285714285714,\n",
       " 0.7580645161290323,\n",
       " 0.7096774193548387,\n",
       " 0.7258064516129032,\n",
       " 0.7580645161290323)"
      ]
     },
     "execution_count": 15,
     "metadata": {},
     "output_type": "execute_result"
    }
   ],
   "source": [
    "# Evaluating all the models\n",
    "# Evaluate the models\n",
    "def evaluate_roc(model, X_val, y_val):\n",
    "    \"\"\"Evaluation function to return recall\"\"\"\n",
    "\n",
    "    predictions = model.predict_proba(X_val)[:,1]\n",
    "    roc_auc = roc_auc_score(y_val, predictions)\n",
    "    return roc_auc\n",
    "\n",
    "def evaluate_accuracy(model, X_val, y_val):\n",
    "    \"\"\"Evaluation function to return recall\"\"\"\n",
    "\n",
    "    predictions = model.predict(X_val)\n",
    "    acc = accuracy_score(y_val, predictions)\n",
    "    return acc\n",
    "\n",
    "\n",
    "d_roc_auc = evaluate_roc(d_best_clf, X_val=X_test_transformed, y_val=y_test)\n",
    "lr_roc_auc = evaluate_roc(lr_best_clf, X_val=X_test_transformed, y_val=y_test)\n",
    "rf_roc_auc = evaluate_roc(rf_best_clf, X_val=X_test_transformed, y_val=y_test)\n",
    "xgb_roc_auc = evaluate_roc(xgb_best_clf, X_val=X_test_transformed, y_val=y_test)\n",
    "\n",
    "d_acc = evaluate_accuracy(d_best_clf, X_val=X_test_transformed, y_val=y_test)\n",
    "lr_acc = evaluate_accuracy(lr_best_clf, X_val=X_test_transformed, y_val=y_test)\n",
    "rf_acc = evaluate_accuracy(rf_best_clf, X_val=X_test_transformed, y_val=y_test)\n",
    "xgb_acc = evaluate_accuracy(xgb_best_clf, X_val=X_test_transformed, y_val=y_test)\n",
    "\n",
    "d_roc_auc, lr_roc_auc, rf_roc_auc, xgb_roc_auc, d_acc, lr_acc, rf_acc, xgb_acc"
   ]
  },
  {
   "cell_type": "code",
   "execution_count": 16,
   "id": "48ad7a27",
   "metadata": {},
   "outputs": [
    {
     "name": "stdout",
     "output_type": "stream",
     "text": [
      "Decision Tree Confusion Matrix \n",
      " [[0.3        0.7       ]\n",
      " [0.02380952 0.97619048]]\n",
      "\n",
      "Logistic Regression Confusion Matrix \n",
      " [[0.55       0.45      ]\n",
      " [0.21428571 0.78571429]]\n",
      "\n",
      "Random Forest Confusion Matrix \n",
      " [[0.4        0.6       ]\n",
      " [0.11904762 0.88095238]]\n",
      "\n",
      "Xgboost Confusion Matrix \n",
      " [[0.35       0.65      ]\n",
      " [0.04761905 0.95238095]]\n",
      "\n"
     ]
    }
   ],
   "source": [
    "# Confusion Matrix\n",
    "d_cm = confusion_matrix(y_true=y_test, y_pred=d_best_clf.predict(X_test_transformed), normalize='true')\n",
    "lr_cm = confusion_matrix(y_true=y_test, y_pred=lr_best_clf.predict(X_test_transformed), normalize='true')\n",
    "rf_cm = confusion_matrix(y_true=y_test, y_pred=rf_best_clf.predict(X_test_transformed), normalize='true')\n",
    "xgb_cm = confusion_matrix(y_true=y_test, y_pred=xgb_best_clf.predict(X_test_transformed), normalize='true')\n",
    "\n",
    "print(f\"Decision Tree Confusion Matrix \\n {d_cm}\")\n",
    "print()\n",
    "\n",
    "print(f\"Logistic Regression Confusion Matrix \\n {lr_cm}\")\n",
    "print()\n",
    "\n",
    "print(f\"Random Forest Confusion Matrix \\n {rf_cm}\")\n",
    "print()\n",
    "\n",
    "print(f\"Xgboost Confusion Matrix \\n {xgb_cm}\")\n",
    "print()"
   ]
  },
  {
   "cell_type": "code",
   "execution_count": 18,
   "id": "666b3639",
   "metadata": {},
   "outputs": [
    {
     "name": "stdout",
     "output_type": "stream",
     "text": [
      "Using bentoml xgboost framework\n",
      "XGBClassifier(base_score=0.5, booster='gbtree', callbacks=None,\n",
      "              colsample_bylevel=1, colsample_bynode=1, colsample_bytree=1,\n",
      "              early_stopping_rounds=None, enable_categorical=False, eta=0.2,\n",
      "              eval_metric=None, feature_types=None, gamma=0, gpu_id=-1,\n",
      "              grow_policy='depthwise', importance_type=None,\n",
      "              interaction_constraints='', learning_rate=0.200000003,\n",
      "              max_bin=256, max_cat_threshold=64, max_cat_to_onehot=4,\n",
      "              max_delta_step=0, max_depth=6, max_leaves=0, min_child_weight=10,\n",
      "              missing=nan, monotone_constraints='()', n_estimators=50, n_jobs=0,\n",
      "              num_parallel_tree=1, predictor='auto', ...)\n"
     ]
    }
   ],
   "source": [
    "# Models and scores dict\n",
    "model_performances = {\n",
    "    \"decision_tree\" : {\n",
    "        \"model\" : d_best_clf,\n",
    "        \"roc_auc\" : d_roc_auc,\n",
    "        \"acc\": d_acc\n",
    "    },\n",
    "    \"xgboost\" : {\n",
    "        \"model\" : xgb_best_clf,\n",
    "        \"roc_auc\" : xgb_roc_auc,\n",
    "        \"acc\": xgb_acc\n",
    "    },\n",
    "    \"random_forest\" : {\n",
    "        \"model\" : rf_best_clf,\n",
    "        \"roc_auc\" : rf_roc_auc,\n",
    "        \"acc\": rf_acc\n",
    "    },\n",
    "    \"logistic_regression\" : {\n",
    "        \"model\" : lr_best_clf,\n",
    "        \"roc_auc\" : lr_roc_auc,\n",
    "        \"acc\": lr_acc\n",
    "    }\n",
    "} \n",
    "\n",
    "best_model = sorted(model_performances.items(), reverse=True, key=lambda score: score[1]['roc_auc'])[0]\n",
    "\n",
    "if best_model[0] == 'xgboost':\n",
    "    print(f\"Using bentoml xgboost framework\")\n",
    "else:\n",
    "    print(f\"Using bentoml scikit learn framework\")\n",
    "\n",
    "model = best_model[1]['model']\n",
    "print(model)"
   ]
  },
  {
   "cell_type": "code",
   "execution_count": 39,
   "id": "82fafb3d",
   "metadata": {},
   "outputs": [
    {
     "name": "stdout",
     "output_type": "stream",
     "text": [
      "{\n",
      "  \"gender\": \"Male\",\n",
      "  \"married\": \"Yes\",\n",
      "  \"dependents\": \"1\",\n",
      "  \"education\": \"Graduate\",\n",
      "  \"self_employed\": \"No\",\n",
      "  \"applicantincome\": 4583,\n",
      "  \"coapplicantincome\": 1508.0,\n",
      "  \"loanamount\": 128.0,\n",
      "  \"loan_amount_term\": 360.0,\n",
      "  \"credit_history\": 1.0,\n",
      "  \"property_area\": \"Rural\"\n",
      "}\n"
     ]
    },
    {
     "name": "stderr",
     "output_type": "stream",
     "text": [
      "/var/folders/6f/p7312_7n4nq5hp35rfymms1h0000gn/T/ipykernel_6885/691592507.py:3: FutureWarning: In a future version of pandas all arguments of DataFrame.drop except for the argument 'labels' will be keyword-only.\n",
      "  test_data = df.drop([id_col, target],1).iloc[1].to_dict()\n"
     ]
    }
   ],
   "source": [
    "# Test data for api\n",
    "import json\n",
    "test_data = df.drop([id_col, target],1).iloc[1].to_dict()\n",
    "print(json.dumps(test_data, indent=2))"
   ]
  }
 ],
 "metadata": {
  "kernelspec": {
   "display_name": "Python 3.9.15 ('mlbookzoomcamp-capstone-loan-prediction-3j48WEiy')",
   "language": "python",
   "name": "python3"
  },
  "language_info": {
   "codemirror_mode": {
    "name": "ipython",
    "version": 3
   },
   "file_extension": ".py",
   "mimetype": "text/x-python",
   "name": "python",
   "nbconvert_exporter": "python",
   "pygments_lexer": "ipython3",
   "version": "3.9.15"
  },
  "vscode": {
   "interpreter": {
    "hash": "ff7b04e6201dee1f052f9f0d209ed3acee9336ff09d3ef73040c49805fcd8d77"
   }
  }
 },
 "nbformat": 4,
 "nbformat_minor": 5
}
